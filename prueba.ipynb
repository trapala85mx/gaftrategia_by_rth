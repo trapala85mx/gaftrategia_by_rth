{
 "cells": [
  {
   "cell_type": "code",
   "execution_count": 611,
   "metadata": {},
   "outputs": [],
   "source": [
    "from binance.client import Client, AsyncClient\n",
    "import pandas as pd\n",
    "import numpy as np\n",
    "import math\n",
    "import asyncio\n",
    "import os\n",
    "from coin_data import data\n",
    "from config import api_key, api_secret, telegram_token\n",
    "import requests\n",
    "import nest_asyncio\n",
    "import json\n",
    "from datetime import datetime\n",
    "from colorama import init, Fore, Back, Style"
   ]
  },
  {
   "cell_type": "code",
   "execution_count": 612,
   "metadata": {},
   "outputs": [],
   "source": [
    "nest_asyncio.apply()\n",
    "init()"
   ]
  },
  {
   "cell_type": "code",
   "execution_count": 613,
   "metadata": {},
   "outputs": [
    {
     "data": {
      "text/plain": [
       "'11 - Aug - 22 , 12:33:13 AM'"
      ]
     },
     "execution_count": 613,
     "metadata": {},
     "output_type": "execute_result"
    }
   ],
   "source": [
    "datetime.now().strftime(\"%d - %b - %y , %I:%M:%S %p\")\n",
    "#datetime.now().strftime('%A %d-%m-%Y, %H:%M:%S')"
   ]
  },
  {
   "cell_type": "code",
   "execution_count": 614,
   "metadata": {},
   "outputs": [],
   "source": [
    "with open(\"./coins.json\", \"r\", encoding='utf-8') as f:\n",
    "    coins = json.load(f)\n",
    "#print(coins)"
   ]
  },
  {
   "cell_type": "code",
   "execution_count": 615,
   "metadata": {},
   "outputs": [],
   "source": [
    "def enviar_señal(msg: str):\n",
    "    token = telegram_token\n",
    "    bot_chatID = \"1357832345\"\n",
    "    base = \"https://api.telegram.org/bot\"\n",
    "    send_url = base + token + '/sendMessage'\n",
    "    data = {\n",
    "        'chat_id': bot_chatID,\n",
    "        'text': msg\n",
    "    }\n",
    "    response = requests.post(send_url, json=data)\n",
    "    return response"
   ]
  },
  {
   "cell_type": "code",
   "execution_count": 616,
   "metadata": {},
   "outputs": [],
   "source": [
    "async def get_order_book(client: AsyncClient, symbol: str) -> dict:\n",
    "    client = Client(api_key=api_key, api_secret=api_secret)\n",
    "    order_book = client.futures_order_book(symbol=symbol, limit=1000)\n",
    "    return order_book"
   ]
  },
  {
   "cell_type": "code",
   "execution_count": 617,
   "metadata": {},
   "outputs": [],
   "source": [
    "async def get_data_from_order_book(order_book: dict, trx: str) -> pd.DataFrame:\n",
    "    df = order_book[trx]\n",
    "    if trx == \"bids\":\n",
    "        df = pd.DataFrame(df, columns=['precio', 'total_usdt'])\n",
    "    else:\n",
    "        df = pd.DataFrame(df, columns=['precio', 'total_usdt']).sort_index(\n",
    "            axis=0, ascending=False)\n",
    "    df[['precio', 'total_usdt']] = df[[\n",
    "        'precio', 'total_usdt']].astype('float')\n",
    "    return df"
   ]
  },
  {
   "cell_type": "code",
   "execution_count": 618,
   "metadata": {},
   "outputs": [],
   "source": [
    "def get_max_min(df: pd.DataFrame) -> list:\n",
    "    max = df['precio'].max()\n",
    "    min = df['precio'].min()\n",
    "    return [min, max]"
   ]
  },
  {
   "cell_type": "code",
   "execution_count": 619,
   "metadata": {},
   "outputs": [],
   "source": [
    "def crear_rango(df: pd.DataFrame, delta: float, tipo: str) -> np.arange:\n",
    "    min, max = get_max_min(df)\n",
    "\n",
    "    try:\n",
    "        if tipo.lower() == 'c':\n",
    "            inicio = (math.floor((min / delta))) * delta\n",
    "            final = (math.ceil((max / delta))) * delta\n",
    "            rango = np.arange(inicio, final+delta, delta)\n",
    "        elif tipo.lower() == 'v':\n",
    "            inicio = (math.floor((min / delta))) * delta\n",
    "            final = (math.ceil((max / delta))) * delta\n",
    "            rango = np.arange(inicio, final+delta, delta)\n",
    "        else:\n",
    "            raise ValueError(\n",
    "                'Ingresa (c) si es rango de compra o (v) si es rango de venta')\n",
    "    except ValueError as ve:\n",
    "        print(ve)\n",
    "\n",
    "    return rango"
   ]
  },
  {
   "cell_type": "code",
   "execution_count": 620,
   "metadata": {},
   "outputs": [],
   "source": [
    "def get_shock_point(df: pd.DataFrame, rango: np.arange, tipo: str, vuelta: int) -> float:\n",
    "    df_ag = df.groupby(pd.cut(df.precio, rango)).sum()\n",
    "    if tipo == 'v' and vuelta == 1:\n",
    "        sp = df_ag['total_usdt'].idxmax().right\n",
    "    if tipo == 'v' and vuelta == 2:\n",
    "        sp = df_ag['total_usdt'].idxmax().right\n",
    "    elif tipo == 'c' and vuelta == 1:\n",
    "        sp = df_ag['total_usdt'].idxmax().left\n",
    "    elif tipo == 'c' and vuelta == 2:\n",
    "        sp = df_ag['total_usdt'].idxmax().left\n",
    "   \n",
    "    return sp"
   ]
  },
  {
   "cell_type": "code",
   "execution_count": 621,
   "metadata": {},
   "outputs": [],
   "source": [
    "async def get_shock_points(ticker: str, ventas: pd.DataFrame, compras: pd.DataFrame) -> dict:\n",
    "    sp_v_1 = get_shock_point(ventas, crear_rango(\n",
    "        ventas, data[ticker]['i1'], 'v'), 'v', 1)\n",
    "    sp_v_2 = get_shock_point(ventas, crear_rango(\n",
    "        ventas, data[ticker]['i2'], 'v'), 'v', 2)\n",
    "    sp_c_1 = get_shock_point(compras, crear_rango(\n",
    "        compras, data[ticker]['i1'], 'c'), 'c', 1)\n",
    "    sp_c_2 = get_shock_point(compras, crear_rango(\n",
    "        compras, data[ticker]['i2'], 'c'), 'c', 2)\n",
    "    spv = sorted([sp_v_1, sp_v_2])\n",
    "    spc = sorted([sp_c_1, sp_c_2])\n",
    "    \n",
    "    \n",
    "    return {\n",
    "        'ventas': spv,\n",
    "        'compras': spc\n",
    "    }"
   ]
  },
  {
   "cell_type": "code",
   "execution_count": 622,
   "metadata": {},
   "outputs": [],
   "source": [
    "async def analizar_shock_points(shock_points: dict, ticker:str, sl=0.2) -> bool:\n",
    "    flag_venta = False\n",
    "    flag_compra = False\n",
    "\n",
    "    sp_v_m = shock_points['ventas'][0]\n",
    "    sp_v_M = shock_points['ventas'][1]\n",
    "    sp_c_m = shock_points['compras'][0]\n",
    "    sp_c_M = shock_points['compras'][1]\n",
    "\n",
    "    pct_ventas = round(((sp_v_M - sp_v_m) / sp_v_m) * 100, 2)\n",
    "    pct_compras = round(((sp_c_M - sp_c_m) / sp_c_M) * 100, 2)\n",
    "    pct_sep_1 = (((sp_c_M - sp_v_m) / sp_c_M) * -100)\n",
    "    pct_sep_2 = (((sp_v_m - sp_c_M) / sp_v_m) * 100)\n",
    "    pct_sep = round((pct_sep_1+pct_sep_2)/2, 2)\n",
    "    \n",
    "    print('pct_sep')\n",
    "    print(type(pct_sep))\n",
    "    print(pct_sep)\n",
    "    print(f'{\"+\"*10}')\n",
    "    print('pct_ventas')\n",
    "    print(type(pct_ventas))\n",
    "    print(pct_ventas)\n",
    "    print(f'{\"+\"*10}')\n",
    "    print('sl')\n",
    "    sl = np.float64(sl)\n",
    "    print(type(sl))\n",
    "    print(sl)\n",
    "    print(f'{\"+\"*10}')\n",
    "    div_1 = pct_sep/(pct_ventas+sl) \n",
    "    print('div1')\n",
    "    print(div_1)\n",
    "    \n",
    "    if (div_1 >= 2) and (sp_v_m != sp_v_M):  # Aquí es pct_sep/(pct_ventas+SL)\n",
    "        #print(f'Se puede vender en {ticker}')\n",
    "        flag_venta = True\n",
    "    if ((pct_sep/(pct_compras+sl)) >= 2) and (sp_c_m != sp_c_M):  # Aquí es pct_sep/(pct_compras+SL)\n",
    "        #print(f'Se puede comprar en {ticker}')\n",
    "        flag_compra = True\n",
    "\n",
    "    # return flag_venta, flag_compra\n",
    "\n",
    "    signal_venta = {\n",
    "        'signal': flag_venta,\n",
    "        'sp_v_M': sp_v_M,\n",
    "        'sp_v_m': sp_v_m\n",
    "    }\n",
    "    signal_compra = {\n",
    "        'signal': flag_compra,\n",
    "        'sp_c_M': sp_c_M,\n",
    "        'sp_c_m': sp_c_m\n",
    "    }\n",
    "    return signal_venta, signal_compra\n"
   ]
  },
  {
   "cell_type": "code",
   "execution_count": 623,
   "metadata": {},
   "outputs": [],
   "source": [
    "async def run(ticker, client):\n",
    "    flagEj = True\n",
    "    while flagEj:\n",
    "        order_book = await get_order_book(client, symbol=ticker)\n",
    "        ventas, compras = await asyncio.gather(\n",
    "            get_data_from_order_book(order_book, 'asks'),\n",
    "            get_data_from_order_book(order_book, 'bids')\n",
    "        )\n",
    "        shock_points = await get_shock_points(ticker, ventas, compras)\n",
    "        #signal_venta, signal_compra = await analizar_shock_points(shock_points)\n",
    "        #if signal_venta and signal_compra:\n",
    "        #    #print(f'señal de venta y compra en {ticker}\\n{shock_points}')\n",
    "        #    enviar_señal(\n",
    "        #        f'señal de venta y compra en {ticker}\\n{shock_points}')\n",
    "        #    break\n",
    "        #if signal_venta and not signal_compra:\n",
    "        #    #print(f'señal de venta en {ticker}\\n{shock_points[\"ventas\"]}')\n",
    "        #    enviar_señal(\n",
    "        #        f'señal de venta en {ticker}\\n{shock_points[\"ventas\"]}')\n",
    "        #    break\n",
    "        #if not signal_venta and signal_compra:\n",
    "        #    #print(f\"señal de compra en {ticker}\\n {shock_points['compras']}\")\n",
    "        #    enviar_señal(\n",
    "        #        f\"señal de compra en {ticker}\\n {shock_points['compras']}\")\n",
    "        #    break\n",
    "        \n",
    "        signal_venta, signal_compra = await analizar_shock_points(shock_points, ticker)\n",
    "        if signal_venta['signal'] and signal_compra['signal']:\n",
    "            #print(f'señal de venta y compra en {ticker}\\n{shock_points}')\n",
    "            texto = f\"{datetime.now().strftime('%d - %b - %y , %I:%M:%S %p')}\\n{Fore.YELLOW}Señal de Compra y Veta\\n{ticker}\\n{'*'*10}\\n{Style.RESET_ALL}\\n{Fore.RED}Puntos Venta:{Style.RESET_ALL}\\n2- {signal_venta['sp_v_M']}\\n1- {signal_venta['sp_v_m']}\\n\\n{Fore.GREEN}Puntos Compra:\\n1- {signal_compra['sp_c_M']}\\n2- {signal_compra['sp_c_m']}{Style.RESET_ALL}\"\n",
    "            #enviar_señal(texto)\n",
    "            print(texto)\n",
    "            \n",
    "        if signal_venta['signal'] and not signal_compra['signal']:\n",
    "            texto_v = f\"{Fore.RED}Señal de Venta\\n{'*'*10}\\n{ticker}\\n{Style.RESET_ALL}\\n{Fore.RED}Puntos Venta:\\n2- {signal_venta['sp_v_M']}\\n1- {signal_venta['sp_v_m']}{Style.RESET_ALL}\\n\\nPuntos Compra:\\n1- {signal_compra['sp_c_M']}\\n2- {signal_compra['sp_c_m']}\"\n",
    "            #enviar_señal(f\"{datetime.now().strftime('%d - %b - %y , %I:%M:%S %p')}\\n{signal_venta['msg']}\")\n",
    "            print(texto_v)\n",
    "            \n",
    "        if not signal_venta and signal_compra:\n",
    "            #enviar_señal(f\"{datetime.now().strftime('%d - %b - %y , %I:%M:%S %p')}\\nsignal_compra['msg']\")\n",
    "            texto_c = f\"{Fore.GREEN}Señal de Compra\\n{'*'*10}\\n{ticker}\\n{Style.RESET_ALL}\\nPuntos Venta:\\n2- {signal_venta['sp_v_M']}\\n1- {signal_venta['sp_v_m']}\\n\\n{Fore.GREEN}Puntos Compra:\\n1- {signal_compra['sp_c_M']}\\n2- {signal_compra['sp_c_m']}{Style.RESET_ALL}\"\n",
    "            print(texto_c)\n",
    "        flagEj = False"
   ]
  },
  {
   "cell_type": "code",
   "execution_count": 624,
   "metadata": {},
   "outputs": [],
   "source": [
    "async def main():\n",
    "    client = await AsyncClient.create()\n",
    "    #tickers = coins\n",
    "    tickers = ['BTCUSDT']\n",
    "    tasks = []\n",
    "    for t in tickers:\n",
    "        tasks.append(asyncio.create_task(run(t, client)))\n",
    "    await asyncio.gather(*tasks)\n",
    "    await client.close_connection()"
   ]
  },
  {
   "cell_type": "code",
   "execution_count": 625,
   "metadata": {},
   "outputs": [
    {
     "name": "stdout",
     "output_type": "stream",
     "text": [
      "pct_sep\n",
      "<class 'numpy.float64'>\n",
      "0.61\n",
      "++++++++++\n",
      "pct_ventas\n",
      "<class 'numpy.float64'>\n",
      "0.0\n",
      "++++++++++\n",
      "sl\n",
      "<class 'numpy.float64'>\n",
      "0.2\n",
      "++++++++++\n",
      "div1\n",
      "3.05\n"
     ]
    }
   ],
   "source": [
    "#if __name__ == '__main__':\n",
    "#    asyncio.run(main())\n",
    "asyncio.run(main())"
   ]
  }
 ],
 "metadata": {
  "kernelspec": {
   "display_name": "Python 3.9.13 ('venv': venv)",
   "language": "python",
   "name": "python3"
  },
  "language_info": {
   "codemirror_mode": {
    "name": "ipython",
    "version": 3
   },
   "file_extension": ".py",
   "mimetype": "text/x-python",
   "name": "python",
   "nbconvert_exporter": "python",
   "pygments_lexer": "ipython3",
   "version": "3.9.13"
  },
  "orig_nbformat": 4,
  "vscode": {
   "interpreter": {
    "hash": "73b038e3057eba63c5afd5542b93c9885a7bccb39335951f75f5b8d989115f5d"
   }
  }
 },
 "nbformat": 4,
 "nbformat_minor": 2
}
