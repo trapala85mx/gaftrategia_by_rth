{
 "cells": [
  {
   "cell_type": "code",
   "execution_count": 243,
   "metadata": {},
   "outputs": [],
   "source": [
    "from binance.client import Client\n",
    "import pandas as pd\n",
    "import numpy as np\n",
    "import math\n",
    "import time\n",
    "import statistics\n",
    "#import coin_data\n",
    "from config import api_key, api_secret"
   ]
  },
  {
   "cell_type": "code",
   "execution_count": 244,
   "metadata": {},
   "outputs": [],
   "source": [
    "data = {\n",
    "    \"ROSEUSDT\": {\n",
    "        \"i1\": 0.001,\n",
    "        \"i2\": 0.0001,\n",
    "    },\n",
    "    \"MANAUSDT\": {\n",
    "        \"i1\": 0.01, \n",
    "        \"i2\": 0.001,\n",
    "        \"sl\": 0.3,\n",
    "    },\n",
    "    \"ADAUSDT\": {\n",
    "        \"i1\": 0.01, \n",
    "        \"i2\": 0.001,\n",
    "    },\n",
    "    \"BTCUSDT\": {\n",
    "        \"i1\": 100,\n",
    "        \"i2\": 50,\n",
    "    },\n",
    "    \"MATICUSDT\": {\n",
    "        \"i1\": 0.01,\n",
    "        \"i2\": 0.001,\n",
    "    },\n",
    "}"
   ]
  },
  {
   "cell_type": "code",
   "execution_count": 245,
   "metadata": {},
   "outputs": [],
   "source": [
    "client = Client(api_key=api_key, api_secret= api_secret)\n",
    "ticker = 'MANAUSDT'"
   ]
  },
  {
   "cell_type": "markdown",
   "metadata": {},
   "source": [
    "# 1. Extraer datos de la moneda"
   ]
  },
  {
   "cell_type": "markdown",
   "metadata": {},
   "source": [
    "- Traemos toda la info de todas las monedas de futuros de binance"
   ]
  },
  {
   "cell_type": "code",
   "execution_count": 246,
   "metadata": {},
   "outputs": [],
   "source": [
    "info = client.futures_exchange_info()"
   ]
  },
  {
   "cell_type": "markdown",
   "metadata": {},
   "source": [
    "- Buscamos la moneda que necesitamos\n",
    "- Y extraemos la información que creamos necesaria\n",
    "- Esto lo deberíamos ejecutar 1 sola vez para todas las monedas y guardarlo para solo consultarlo como diccionario y no extraer la información cada vez\n",
    "- Aunque los datos traen la precisión para el precio, en algunas monedas está mal. Por lo tanto, se crea la función que retorna la cantidad de decimales a través de otra propiedad listada"
   ]
  },
  {
   "cell_type": "code",
   "execution_count": 247,
   "metadata": {},
   "outputs": [],
   "source": [
    "def get_precision(texto:str) -> int:\n",
    "    for i in range(2, len(texto)):\n",
    "        if texto[i] == '1':\n",
    "            return i-1"
   ]
  },
  {
   "cell_type": "code",
   "execution_count": 248,
   "metadata": {},
   "outputs": [
    {
     "name": "stdout",
     "output_type": "stream",
     "text": [
      "{'symbol': 'MANAUSDT', 'pair': 'MANAUSDT', 'contractType': 'PERPETUAL', 'deliveryDate': 4133404800000, 'onboardDate': 1615705200000, 'status': 'TRADING', 'maintMarginPercent': '2.5000', 'requiredMarginPercent': '5.0000', 'baseAsset': 'MANA', 'quoteAsset': 'USDT', 'marginAsset': 'USDT', 'pricePrecision': 4, 'quantityPrecision': 0, 'baseAssetPrecision': 8, 'quotePrecision': 8, 'underlyingType': 'COIN', 'underlyingSubType': ['Metaverse'], 'settlePlan': 0, 'triggerProtect': '0.0500', 'liquidationFee': '0.010000', 'marketTakeBound': '0.10', 'filters': [{'minPrice': '0.0136', 'maxPrice': '100000', 'filterType': 'PRICE_FILTER', 'tickSize': '0.0001'}, {'stepSize': '1', 'filterType': 'LOT_SIZE', 'maxQty': '1000000', 'minQty': '1'}, {'stepSize': '1', 'filterType': 'MARKET_LOT_SIZE', 'maxQty': '100000', 'minQty': '1'}, {'limit': 200, 'filterType': 'MAX_NUM_ORDERS'}, {'limit': 10, 'filterType': 'MAX_NUM_ALGO_ORDERS'}, {'notional': '5', 'filterType': 'MIN_NOTIONAL'}, {'multiplierDown': '0.9000', 'multiplierUp': '1.1000', 'multiplierDecimal': '4', 'filterType': 'PERCENT_PRICE'}], 'orderTypes': ['LIMIT', 'MARKET', 'STOP', 'STOP_MARKET', 'TAKE_PROFIT', 'TAKE_PROFIT_MARKET', 'TRAILING_STOP_MARKET'], 'timeInForce': ['GTC', 'IOC', 'FOK', 'GTX']}\n",
      "\n",
      "Moneda: MANAUSDT\n",
      "Subtipo: ['Metaverse']\n",
      "Precisión Precio: 4 decimales\n"
     ]
    }
   ],
   "source": [
    "for d in info['symbols']:\n",
    "    if d['pair']==ticker:\n",
    "        print(d)\n",
    "        print(\"\")\n",
    "        print(f\"Moneda: {d['pair']}\\nSubtipo: {d['underlyingSubType']}\\nPrecisión Precio: {get_precision(d['filters'][0]['tickSize'])} decimales\")\n"
   ]
  },
  {
   "cell_type": "markdown",
   "metadata": {},
   "source": [
    "# 2. Obtener Shock Points"
   ]
  },
  {
   "cell_type": "markdown",
   "metadata": {},
   "source": [
    "# a. Libro de ordenes"
   ]
  },
  {
   "cell_type": "markdown",
   "metadata": {},
   "source": [
    "- Vamos a obtener el libro de órdenes de la moneda\n",
    "- Luego separamos las ventas de las compras y las colocamos en un dataframe para mejor organización\n",
    "- Como nota, lo que trae el libro no es la cantidad total de monedas por bloque sino el total de USDT\n",
    "- En el caso de las ventas, para mostrarlo como lo vemos en Binance (mayor a menor) ordenamis descebdentemente"
   ]
  },
  {
   "cell_type": "code",
   "execution_count": 249,
   "metadata": {},
   "outputs": [],
   "source": [
    "order_book = client.futures_order_book(symbol=ticker, limit=1000)\n",
    "#order_book"
   ]
  },
  {
   "cell_type": "code",
   "execution_count": 250,
   "metadata": {},
   "outputs": [
    {
     "name": "stderr",
     "output_type": "stream",
     "text": [
      "/tmp/ipykernel_26903/4237633481.py:2: FutureWarning: In a future version of pandas all arguments of DataFrame.sort_index will be keyword-only.\n",
      "  ventas = pd.DataFrame(ventas, columns=['precio','total_usdt']).sort_index(0, ascending=False)\n"
     ]
    },
    {
     "data": {
      "text/html": [
       "<div>\n",
       "<style scoped>\n",
       "    .dataframe tbody tr th:only-of-type {\n",
       "        vertical-align: middle;\n",
       "    }\n",
       "\n",
       "    .dataframe tbody tr th {\n",
       "        vertical-align: top;\n",
       "    }\n",
       "\n",
       "    .dataframe thead th {\n",
       "        text-align: right;\n",
       "    }\n",
       "</style>\n",
       "<table border=\"1\" class=\"dataframe\">\n",
       "  <thead>\n",
       "    <tr style=\"text-align: right;\">\n",
       "      <th></th>\n",
       "      <th>precio</th>\n",
       "      <th>total_usdt</th>\n",
       "    </tr>\n",
       "  </thead>\n",
       "  <tbody>\n",
       "    <tr>\n",
       "      <th>999</th>\n",
       "      <td>1.1504</td>\n",
       "      <td>158</td>\n",
       "    </tr>\n",
       "    <tr>\n",
       "      <th>998</th>\n",
       "      <td>1.1503</td>\n",
       "      <td>78</td>\n",
       "    </tr>\n",
       "    <tr>\n",
       "      <th>997</th>\n",
       "      <td>1.1500</td>\n",
       "      <td>2312</td>\n",
       "    </tr>\n",
       "    <tr>\n",
       "      <th>996</th>\n",
       "      <td>1.1498</td>\n",
       "      <td>7</td>\n",
       "    </tr>\n",
       "    <tr>\n",
       "      <th>995</th>\n",
       "      <td>1.1497</td>\n",
       "      <td>44</td>\n",
       "    </tr>\n",
       "    <tr>\n",
       "      <th>...</th>\n",
       "      <td>...</td>\n",
       "      <td>...</td>\n",
       "    </tr>\n",
       "    <tr>\n",
       "      <th>4</th>\n",
       "      <td>1.0130</td>\n",
       "      <td>16482</td>\n",
       "    </tr>\n",
       "    <tr>\n",
       "      <th>3</th>\n",
       "      <td>1.0129</td>\n",
       "      <td>10627</td>\n",
       "    </tr>\n",
       "    <tr>\n",
       "      <th>2</th>\n",
       "      <td>1.0128</td>\n",
       "      <td>8988</td>\n",
       "    </tr>\n",
       "    <tr>\n",
       "      <th>1</th>\n",
       "      <td>1.0127</td>\n",
       "      <td>5856</td>\n",
       "    </tr>\n",
       "    <tr>\n",
       "      <th>0</th>\n",
       "      <td>1.0126</td>\n",
       "      <td>6</td>\n",
       "    </tr>\n",
       "  </tbody>\n",
       "</table>\n",
       "<p>1000 rows × 2 columns</p>\n",
       "</div>"
      ],
      "text/plain": [
       "     precio total_usdt\n",
       "999  1.1504        158\n",
       "998  1.1503         78\n",
       "997  1.1500       2312\n",
       "996  1.1498          7\n",
       "995  1.1497         44\n",
       "..      ...        ...\n",
       "4    1.0130      16482\n",
       "3    1.0129      10627\n",
       "2    1.0128       8988\n",
       "1    1.0127       5856\n",
       "0    1.0126          6\n",
       "\n",
       "[1000 rows x 2 columns]"
      ]
     },
     "execution_count": 250,
     "metadata": {},
     "output_type": "execute_result"
    }
   ],
   "source": [
    "ventas = order_book['asks']\n",
    "ventas = pd.DataFrame(ventas, columns=['precio','total_usdt']).sort_index(0, ascending=False)\n",
    "ventas"
   ]
  },
  {
   "cell_type": "code",
   "execution_count": 251,
   "metadata": {},
   "outputs": [
    {
     "data": {
      "text/html": [
       "<div>\n",
       "<style scoped>\n",
       "    .dataframe tbody tr th:only-of-type {\n",
       "        vertical-align: middle;\n",
       "    }\n",
       "\n",
       "    .dataframe tbody tr th {\n",
       "        vertical-align: top;\n",
       "    }\n",
       "\n",
       "    .dataframe thead th {\n",
       "        text-align: right;\n",
       "    }\n",
       "</style>\n",
       "<table border=\"1\" class=\"dataframe\">\n",
       "  <thead>\n",
       "    <tr style=\"text-align: right;\">\n",
       "      <th></th>\n",
       "      <th>precio</th>\n",
       "      <th>total_usdt</th>\n",
       "    </tr>\n",
       "  </thead>\n",
       "  <tbody>\n",
       "    <tr>\n",
       "      <th>0</th>\n",
       "      <td>1.0125</td>\n",
       "      <td>1384</td>\n",
       "    </tr>\n",
       "    <tr>\n",
       "      <th>1</th>\n",
       "      <td>1.0124</td>\n",
       "      <td>3668</td>\n",
       "    </tr>\n",
       "    <tr>\n",
       "      <th>2</th>\n",
       "      <td>1.0123</td>\n",
       "      <td>5029</td>\n",
       "    </tr>\n",
       "    <tr>\n",
       "      <th>3</th>\n",
       "      <td>1.0122</td>\n",
       "      <td>5061</td>\n",
       "    </tr>\n",
       "    <tr>\n",
       "      <th>4</th>\n",
       "      <td>1.0121</td>\n",
       "      <td>4092</td>\n",
       "    </tr>\n",
       "    <tr>\n",
       "      <th>...</th>\n",
       "      <td>...</td>\n",
       "      <td>...</td>\n",
       "    </tr>\n",
       "    <tr>\n",
       "      <th>995</th>\n",
       "      <td>0.9002</td>\n",
       "      <td>1308</td>\n",
       "    </tr>\n",
       "    <tr>\n",
       "      <th>996</th>\n",
       "      <td>0.9001</td>\n",
       "      <td>333</td>\n",
       "    </tr>\n",
       "    <tr>\n",
       "      <th>997</th>\n",
       "      <td>0.9000</td>\n",
       "      <td>39315</td>\n",
       "    </tr>\n",
       "    <tr>\n",
       "      <th>998</th>\n",
       "      <td>0.8999</td>\n",
       "      <td>1277</td>\n",
       "    </tr>\n",
       "    <tr>\n",
       "      <th>999</th>\n",
       "      <td>0.8998</td>\n",
       "      <td>148</td>\n",
       "    </tr>\n",
       "  </tbody>\n",
       "</table>\n",
       "<p>1000 rows × 2 columns</p>\n",
       "</div>"
      ],
      "text/plain": [
       "     precio total_usdt\n",
       "0    1.0125       1384\n",
       "1    1.0124       3668\n",
       "2    1.0123       5029\n",
       "3    1.0122       5061\n",
       "4    1.0121       4092\n",
       "..      ...        ...\n",
       "995  0.9002       1308\n",
       "996  0.9001        333\n",
       "997  0.9000      39315\n",
       "998  0.8999       1277\n",
       "999  0.8998        148\n",
       "\n",
       "[1000 rows x 2 columns]"
      ]
     },
     "execution_count": 251,
     "metadata": {},
     "output_type": "execute_result"
    }
   ],
   "source": [
    "compras = order_book['bids']\n",
    "compras = pd.DataFrame(compras, columns=['precio','total_usdt'])\n",
    "compras"
   ]
  },
  {
   "cell_type": "markdown",
   "metadata": {},
   "source": [
    "## b. Obtención de rangos de precios"
   ]
  },
  {
   "cell_type": "markdown",
   "metadata": {},
   "source": [
    "- Para obtener los rangos y obtener los puntos a cómo lo hace el gafas, debemos crear rangos\n",
    "- Para crear los rangos necesitamos el precio mínimo y máximo para redondearlos hacia abajo y arriba respecto a los múltiplos de los libros"
   ]
  },
  {
   "cell_type": "markdown",
   "metadata": {},
   "source": [
    "### i. Obtención de máximos y mínimos precios"
   ]
  },
  {
   "cell_type": "markdown",
   "metadata": {},
   "source": [
    "- Para poder hacer esto, tenemos que decirle al Dataframe qué tipo de valores son las columnas\n",
    "- Esto es porque, como se puede observar a continuación, los marca como object"
   ]
  },
  {
   "cell_type": "code",
   "execution_count": 252,
   "metadata": {},
   "outputs": [
    {
     "name": "stdout",
     "output_type": "stream",
     "text": [
      "<class 'pandas.core.frame.DataFrame'>\n",
      "RangeIndex: 1000 entries, 0 to 999\n",
      "Data columns (total 2 columns):\n",
      " #   Column      Non-Null Count  Dtype \n",
      "---  ------      --------------  ----- \n",
      " 0   precio      1000 non-null   object\n",
      " 1   total_usdt  1000 non-null   object\n",
      "dtypes: object(2)\n",
      "memory usage: 15.8+ KB\n"
     ]
    }
   ],
   "source": [
    "compras.info()"
   ]
  },
  {
   "cell_type": "markdown",
   "metadata": {},
   "source": [
    "- Para modificar el tipo de objetos de las columnas, hacemos:"
   ]
  },
  {
   "cell_type": "code",
   "execution_count": 253,
   "metadata": {},
   "outputs": [
    {
     "data": {
      "text/html": [
       "<div>\n",
       "<style scoped>\n",
       "    .dataframe tbody tr th:only-of-type {\n",
       "        vertical-align: middle;\n",
       "    }\n",
       "\n",
       "    .dataframe tbody tr th {\n",
       "        vertical-align: top;\n",
       "    }\n",
       "\n",
       "    .dataframe thead th {\n",
       "        text-align: right;\n",
       "    }\n",
       "</style>\n",
       "<table border=\"1\" class=\"dataframe\">\n",
       "  <thead>\n",
       "    <tr style=\"text-align: right;\">\n",
       "      <th></th>\n",
       "      <th>precio</th>\n",
       "      <th>total_usdt</th>\n",
       "    </tr>\n",
       "  </thead>\n",
       "  <tbody>\n",
       "    <tr>\n",
       "      <th>999</th>\n",
       "      <td>1.1504</td>\n",
       "      <td>158.0</td>\n",
       "    </tr>\n",
       "    <tr>\n",
       "      <th>998</th>\n",
       "      <td>1.1503</td>\n",
       "      <td>78.0</td>\n",
       "    </tr>\n",
       "    <tr>\n",
       "      <th>997</th>\n",
       "      <td>1.1500</td>\n",
       "      <td>2312.0</td>\n",
       "    </tr>\n",
       "    <tr>\n",
       "      <th>996</th>\n",
       "      <td>1.1498</td>\n",
       "      <td>7.0</td>\n",
       "    </tr>\n",
       "    <tr>\n",
       "      <th>995</th>\n",
       "      <td>1.1497</td>\n",
       "      <td>44.0</td>\n",
       "    </tr>\n",
       "    <tr>\n",
       "      <th>...</th>\n",
       "      <td>...</td>\n",
       "      <td>...</td>\n",
       "    </tr>\n",
       "    <tr>\n",
       "      <th>4</th>\n",
       "      <td>1.0130</td>\n",
       "      <td>16482.0</td>\n",
       "    </tr>\n",
       "    <tr>\n",
       "      <th>3</th>\n",
       "      <td>1.0129</td>\n",
       "      <td>10627.0</td>\n",
       "    </tr>\n",
       "    <tr>\n",
       "      <th>2</th>\n",
       "      <td>1.0128</td>\n",
       "      <td>8988.0</td>\n",
       "    </tr>\n",
       "    <tr>\n",
       "      <th>1</th>\n",
       "      <td>1.0127</td>\n",
       "      <td>5856.0</td>\n",
       "    </tr>\n",
       "    <tr>\n",
       "      <th>0</th>\n",
       "      <td>1.0126</td>\n",
       "      <td>6.0</td>\n",
       "    </tr>\n",
       "  </tbody>\n",
       "</table>\n",
       "<p>1000 rows × 2 columns</p>\n",
       "</div>"
      ],
      "text/plain": [
       "     precio  total_usdt\n",
       "999  1.1504       158.0\n",
       "998  1.1503        78.0\n",
       "997  1.1500      2312.0\n",
       "996  1.1498         7.0\n",
       "995  1.1497        44.0\n",
       "..      ...         ...\n",
       "4    1.0130     16482.0\n",
       "3    1.0129     10627.0\n",
       "2    1.0128      8988.0\n",
       "1    1.0127      5856.0\n",
       "0    1.0126         6.0\n",
       "\n",
       "[1000 rows x 2 columns]"
      ]
     },
     "execution_count": 253,
     "metadata": {},
     "output_type": "execute_result"
    }
   ],
   "source": [
    "ventas[['precio','total_usdt']] = ventas[['precio','total_usdt']].astype('float')\n",
    "ventas"
   ]
  },
  {
   "cell_type": "code",
   "execution_count": 254,
   "metadata": {},
   "outputs": [
    {
     "data": {
      "text/html": [
       "<div>\n",
       "<style scoped>\n",
       "    .dataframe tbody tr th:only-of-type {\n",
       "        vertical-align: middle;\n",
       "    }\n",
       "\n",
       "    .dataframe tbody tr th {\n",
       "        vertical-align: top;\n",
       "    }\n",
       "\n",
       "    .dataframe thead th {\n",
       "        text-align: right;\n",
       "    }\n",
       "</style>\n",
       "<table border=\"1\" class=\"dataframe\">\n",
       "  <thead>\n",
       "    <tr style=\"text-align: right;\">\n",
       "      <th></th>\n",
       "      <th>precio</th>\n",
       "      <th>total_usdt</th>\n",
       "    </tr>\n",
       "  </thead>\n",
       "  <tbody>\n",
       "    <tr>\n",
       "      <th>0</th>\n",
       "      <td>1.0125</td>\n",
       "      <td>1384.0</td>\n",
       "    </tr>\n",
       "    <tr>\n",
       "      <th>1</th>\n",
       "      <td>1.0124</td>\n",
       "      <td>3668.0</td>\n",
       "    </tr>\n",
       "    <tr>\n",
       "      <th>2</th>\n",
       "      <td>1.0123</td>\n",
       "      <td>5029.0</td>\n",
       "    </tr>\n",
       "    <tr>\n",
       "      <th>3</th>\n",
       "      <td>1.0122</td>\n",
       "      <td>5061.0</td>\n",
       "    </tr>\n",
       "    <tr>\n",
       "      <th>4</th>\n",
       "      <td>1.0121</td>\n",
       "      <td>4092.0</td>\n",
       "    </tr>\n",
       "    <tr>\n",
       "      <th>...</th>\n",
       "      <td>...</td>\n",
       "      <td>...</td>\n",
       "    </tr>\n",
       "    <tr>\n",
       "      <th>995</th>\n",
       "      <td>0.9002</td>\n",
       "      <td>1308.0</td>\n",
       "    </tr>\n",
       "    <tr>\n",
       "      <th>996</th>\n",
       "      <td>0.9001</td>\n",
       "      <td>333.0</td>\n",
       "    </tr>\n",
       "    <tr>\n",
       "      <th>997</th>\n",
       "      <td>0.9000</td>\n",
       "      <td>39315.0</td>\n",
       "    </tr>\n",
       "    <tr>\n",
       "      <th>998</th>\n",
       "      <td>0.8999</td>\n",
       "      <td>1277.0</td>\n",
       "    </tr>\n",
       "    <tr>\n",
       "      <th>999</th>\n",
       "      <td>0.8998</td>\n",
       "      <td>148.0</td>\n",
       "    </tr>\n",
       "  </tbody>\n",
       "</table>\n",
       "<p>1000 rows × 2 columns</p>\n",
       "</div>"
      ],
      "text/plain": [
       "     precio  total_usdt\n",
       "0    1.0125      1384.0\n",
       "1    1.0124      3668.0\n",
       "2    1.0123      5029.0\n",
       "3    1.0122      5061.0\n",
       "4    1.0121      4092.0\n",
       "..      ...         ...\n",
       "995  0.9002      1308.0\n",
       "996  0.9001       333.0\n",
       "997  0.9000     39315.0\n",
       "998  0.8999      1277.0\n",
       "999  0.8998       148.0\n",
       "\n",
       "[1000 rows x 2 columns]"
      ]
     },
     "execution_count": 254,
     "metadata": {},
     "output_type": "execute_result"
    }
   ],
   "source": [
    "compras[['precio','total_usdt']] = compras[['precio','total_usdt']].astype('float')\n",
    "compras"
   ]
  },
  {
   "cell_type": "markdown",
   "metadata": {},
   "source": [
    "- Ahora sí, obtenemos los máximos y mínimos"
   ]
  },
  {
   "cell_type": "code",
   "execution_count": 255,
   "metadata": {},
   "outputs": [
    {
     "name": "stdout",
     "output_type": "stream",
     "text": [
      "Ventas(mín-máx): 1.0126 - 1.1504\n",
      "Compras(mín-máx): 0.8998 - 1.0125\n"
     ]
    }
   ],
   "source": [
    "max_ventas = ventas['precio'].max()\n",
    "min_ventas = ventas['precio'].min()\n",
    "print('Ventas(mín-máx): {} - {}'.format(min_ventas, max_ventas))\n",
    "\n",
    "max_compras = compras['precio'].max()\n",
    "min_compras = compras['precio'].min()\n",
    "print('Compras(mín-máx): {} - {}'.format(min_compras, max_compras))"
   ]
  },
  {
   "cell_type": "markdown",
   "metadata": {},
   "source": [
    "### ii. Obtención de Dataframes con los Rangos"
   ]
  },
  {
   "cell_type": "markdown",
   "metadata": {},
   "source": [
    "- Para esto, necesitamos tener los múltiplos de las moendas cómo lo hace el gafas\n",
    "- Desafortunadamante, aún no encuentro cómo obtener los múltiplos de binance por lo que toca escribirlos en el archivo coin_data.py\n",
    "- Para obtener el inicio de inicio y final de un rango, hacemos:\n",
    "\n",
    "1. (precio_minimo / multiplo) ; donde el múltiplo es el que obtenemos de coind_data en i1\n",
    "2. Luego redondeamos al entero inferior con math.floor()\n",
    "3. Y multiplicamos por el múltiplo nuevamente para obtener el inicio del rango\n",
    "4. (precio_maximo / multiplo)\n",
    "5. redondeamos hacia el entero superior con math.ceil()\n",
    "6. Y multiplicamos por el múltiplo nuevamente para obtener el máximo del rango"
   ]
  },
  {
   "cell_type": "markdown",
   "metadata": {},
   "source": [
    "#### Obtención de valores iniciales y finales de rango con primer múltiplo"
   ]
  },
  {
   "cell_type": "code",
   "execution_count": 256,
   "metadata": {},
   "outputs": [
    {
     "name": "stdout",
     "output_type": "stream",
     "text": [
      "Rango Ventas: 1.01 - 1.16\n",
      "Rango Compras: 0.89 - 1.02\n"
     ]
    }
   ],
   "source": [
    "# Ventas\n",
    "inicio_rango_ventas_1 = ( math.floor( (min_ventas / data[ticker]['i1']) ) ) * data[ticker]['i1']\n",
    "final_rango_ventas_1 = ( math.ceil( (max_ventas / data[ticker]['i1']) ) ) * data[ticker]['i1']\n",
    "print('Rango Ventas: {} - {}'.format(inicio_rango_ventas_1,final_rango_ventas_1))\n",
    "# Compras\n",
    "inicio_rango_compras_1 = ( math.floor( (min_compras / data[ticker]['i1']) ) ) * data[ticker]['i1']\n",
    "final_rango_compras_1 = ( math.ceil( (max_compras / data[ticker]['i1']) ) ) * data[ticker]['i1']\n",
    "print('Rango Compras: {} - {}'.format(inicio_rango_compras_1,final_rango_compras_1))"
   ]
  },
  {
   "cell_type": "markdown",
   "metadata": {},
   "source": [
    "#### Obtención de valores iniciales y finales de rango con segundo múltiplo"
   ]
  },
  {
   "cell_type": "code",
   "execution_count": 257,
   "metadata": {},
   "outputs": [
    {
     "name": "stdout",
     "output_type": "stream",
     "text": [
      "Rango Ventas: 1.012 - 1.151\n",
      "Rango Compras: 0.899 - 1.0130000000000001\n"
     ]
    }
   ],
   "source": [
    "# Ventas\n",
    "inicio_rango_ventas_2 = ( math.floor( (min_ventas / data[ticker]['i2']) ) ) * data[ticker]['i2']\n",
    "final_rango_ventas_2 = ( math.ceil( (max_ventas / data[ticker]['i2']) ) ) * data[ticker]['i2']\n",
    "print('Rango Ventas: {} - {}'.format(inicio_rango_ventas_2,final_rango_ventas_2))\n",
    "# Compras\n",
    "inicio_rango_compras_2 = ( math.floor( (min_compras / data[ticker]['i2']) ) ) * data[ticker]['i2']\n",
    "final_rango_compras_2 = ( math.ceil( (max_compras / data[ticker]['i2']) ) ) * data[ticker]['i2']\n",
    "print('Rango Compras: {} - {}'.format(inicio_rango_compras_2,final_rango_compras_2))"
   ]
  },
  {
   "cell_type": "markdown",
   "metadata": {},
   "source": [
    "### iii. Obtención de los dataframes agrupados por rangos"
   ]
  },
  {
   "cell_type": "markdown",
   "metadata": {},
   "source": [
    "- Ya que tenemos los valores inicial y final de los rangos, creamos el Dataframe con datos agrupados por rangos\n",
    "- Solo que, antes tenemos que tener un rango con incrementos de acuerdo al múltiplo. Para esto usamos np.arange()"
   ]
  },
  {
   "cell_type": "markdown",
   "metadata": {},
   "source": [
    "- Con múltiplo 1"
   ]
  },
  {
   "cell_type": "code",
   "execution_count": 258,
   "metadata": {},
   "outputs": [
    {
     "name": "stdout",
     "output_type": "stream",
     "text": [
      "Ventas agrupadas segun incremento 1\n",
      "[1.01 1.02 1.03 1.04 1.05 1.06 1.07 1.08 1.09 1.1  1.11 1.12 1.13 1.14\n",
      " 1.15 1.16]\n",
      "               precio  total_usdt\n",
      "precio                           \n",
      "(1.15, 1.16]   2.3007       236.0\n",
      "(1.14, 1.15]  61.8224     33236.0\n",
      "(1.13, 1.14]  57.8926     28366.0\n",
      "(1.12, 1.13]  65.2493    112344.0\n",
      "(1.11, 1.12]  65.7738    239361.0\n",
      "(1.1, 1.11]   71.8182    251064.0\n",
      "(1.09, 1.1]   73.3691     97350.0\n",
      "(1.08, 1.09]  82.4708     58895.0\n",
      "(1.07, 1.08]  77.4173     80490.0\n",
      "(1.06, 1.07]  72.4319    127853.0\n",
      "(1.05, 1.06]  88.6139    253443.0\n",
      "(1.04, 1.05]  89.8545    292668.0\n",
      "(1.03, 1.04]  91.0739    334579.0\n",
      "(1.02, 1.03]  97.3745    807013.0\n",
      "(1.01, 1.02]  76.2225    687454.0\n",
      "\n",
      "Compras agrupadas segun incremento 1\n",
      "[0.89 0.9  0.91 0.92 0.93 0.94 0.95 0.96 0.97 0.98 0.99 1.   1.01 1.02\n",
      " 1.03]\n",
      "               precio  total_usdt\n",
      "precio                           \n",
      "(0.89, 0.9]    2.6997     40740.0\n",
      "(0.9, 0.91]   78.7452    122126.0\n",
      "(0.91, 0.92]  75.0226     76806.0\n",
      "(0.92, 0.93]  77.7039    200148.0\n",
      "(0.93, 0.94]  73.8654    130745.0\n",
      "(0.94, 0.95]  89.7746    100214.0\n",
      "(0.95, 0.96]  84.9988    144313.0\n",
      "(0.96, 0.97]  85.8858    181188.0\n",
      "(0.97, 0.98]  85.8035    223981.0\n",
      "(0.98, 0.99]  87.6733    500081.0\n",
      "(0.99, 1.0]   91.5511    566068.0\n",
      "(1.0, 1.01]   98.4983   1146025.0\n",
      "(1.01, 1.02]  25.2825    259920.0\n",
      "(1.02, 1.03]   0.0000         0.0\n"
     ]
    }
   ],
   "source": [
    "rango_v_1 = np.arange(inicio_rango_ventas_1, final_rango_ventas_1+data[ticker]['i1'], data[ticker]['i1'])\n",
    "ventas_ag_1 = ventas.groupby(pd.cut(ventas.precio,rango_v_1)).sum()\n",
    "print('Ventas agrupadas segun incremento 1')\n",
    "print(rango_v_1)\n",
    "print(ventas_ag_1.sort_index(ascending=False))\n",
    "rango_c_1 = np.arange(inicio_rango_compras_1, final_rango_compras_1+data[ticker]['i1'], data[ticker]['i1'])\n",
    "compras_ag_1 = compras.groupby(pd.cut(compras.precio,rango_c_1)).sum()\n",
    "print('\\nCompras agrupadas segun incremento 1')\n",
    "print(rango_c_1)\n",
    "print(compras_ag_1.sort_index())"
   ]
  },
  {
   "cell_type": "markdown",
   "metadata": {},
   "source": [
    "- con múltiplo 2"
   ]
  },
  {
   "cell_type": "code",
   "execution_count": 259,
   "metadata": {},
   "outputs": [
    {
     "name": "stdout",
     "output_type": "stream",
     "text": [
      "Ventas agrupadas segun incremento 2\n",
      "                 precio  total_usdt\n",
      "precio                             \n",
      "(1.15, 1.151]    3.4507      2548.0\n",
      "(1.149, 1.15]    3.4487        69.0\n",
      "(1.148, 1.149]   5.7421       536.0\n",
      "(1.147, 1.148]   8.0321      1211.0\n",
      "(1.146, 1.147]   5.7317       205.0\n",
      "...                 ...         ...\n",
      "(1.016, 1.017]  10.1645     38090.0\n",
      "(1.015, 1.016]  10.1545     91453.0\n",
      "(1.014, 1.015]  10.1445     82878.0\n",
      "(1.013, 1.014]   9.1215    115825.0\n",
      "(1.012, 1.013]   5.0640     41959.0\n",
      "\n",
      "[139 rows x 2 columns]\n",
      "\n",
      "Compras agrupadas segun incremento 2\n",
      "                 precio  total_usdt\n",
      "precio                             \n",
      "(1.012, 1.013]   5.0615     19234.0\n",
      "(1.011, 1.012]  10.1155    151009.0\n",
      "(1.01, 1.011]   10.1055     89677.0\n",
      "(1.009, 1.01]   10.0955    112540.0\n",
      "(1.008, 1.009]  10.0855    149933.0\n",
      "...                 ...         ...\n",
      "(0.903, 0.904]   9.0355     11250.0\n",
      "(0.902, 0.903]   4.5125      1348.0\n",
      "(0.901, 0.902]   9.0155      4460.0\n",
      "(0.9, 0.901]     8.1052      2216.0\n",
      "(0.899, 0.9]     2.6997     40740.0\n",
      "\n",
      "[114 rows x 2 columns]\n"
     ]
    }
   ],
   "source": [
    "rango_v_2 = np.arange(inicio_rango_ventas_2, final_rango_ventas_2+data[ticker]['i2'], data[ticker]['i2'])\n",
    "ventas_ag_2 = ventas.groupby(pd.cut(ventas.precio,rango_v_2)).sum()\n",
    "print('Ventas agrupadas segun incremento 2')\n",
    "#print(rango_v_2)\n",
    "print(ventas_ag_2.sort_index(ascending=False))\n",
    "rango_c_2 = np.arange(inicio_rango_compras_2, final_rango_compras_2+data[ticker]['i2'], data[ticker]['i2'])\n",
    "compras_ag_2 = compras.groupby(pd.cut(compras.precio,rango_c_2)).sum()\n",
    "print('\\nCompras agrupadas segun incremento 2')\n",
    "#print(rango_c_2)\n",
    "print(compras_ag_2.sort_index(ascending=False))"
   ]
  },
  {
   "cell_type": "markdown",
   "metadata": {},
   "source": [
    "#### Obtención de los shock points"
   ]
  },
  {
   "cell_type": "markdown",
   "metadata": {},
   "source": [
    "- Ahora, para obtener los shock point, necesitamos obtener el dato donde el total usdt es máximo\n",
    "- Traer el índice y extraer:\n",
    "    - Para ventas: el lado derecho del intervalo. Porque es la parte superior del intervalo\n",
    "    - Para compras: el lado izquiero del intervalo. Porque es la parte inferior del intervalo"
   ]
  },
  {
   "cell_type": "code",
   "execution_count": 260,
   "metadata": {},
   "outputs": [
    {
     "name": "stdout",
     "output_type": "stream",
     "text": [
      "Ventas:\n",
      "***************\n",
      "2.  1.111\n",
      "1.  1.03\n"
     ]
    }
   ],
   "source": [
    "from numpy import sort\n",
    "\n",
    "\n",
    "sp_v_1 = ventas_ag_1['total_usdt'].idxmax().right\n",
    "#print(sp_v_1)\n",
    "#print(ventas_ag_2)\n",
    "#print(ventas_ag_2['total_usdt'].max())\n",
    "#print(ventas_ag_2['total_usdt'].idxmax())\n",
    "#print(ventas_ag_2['total_usdt'].idxmax())\n",
    "sp_v_2 = ventas_ag_2['total_usdt'].idxmax().right\n",
    "sp_v = []\n",
    "sp_v.append(sp_v_1)\n",
    "sp_v.append(sp_v_2)\n",
    "sp_v = sort(sp_v)\n",
    "sp_v_1 = sp_v[1]\n",
    "sp_v_2 = sp_v[0]\n",
    "print(f'Ventas:\\n***************\\n2.  {sp_v_1}\\n1.  {sp_v_2}')"
   ]
  },
  {
   "cell_type": "code",
   "execution_count": 261,
   "metadata": {},
   "outputs": [
    {
     "name": "stdout",
     "output_type": "stream",
     "text": [
      "Compras:\n",
      "***************\n",
      "1.  1.002\n",
      "2.  1.0\n"
     ]
    }
   ],
   "source": [
    "sp_c_1 = compras_ag_1['total_usdt'].idxmax().left\n",
    "#print(sp_c_1)\n",
    "#print(compras_ag_2)\n",
    "#print(compras_ag_2['total_usdt'].max())\n",
    "#print(compras_ag_2['total_usdt'].idxmax())\n",
    "sp_c_2 = compras_ag_2['total_usdt'].idxmax().left\n",
    "#print(sp_c_2)\n",
    "sp_c = []\n",
    "sp_c.append(sp_c_1)\n",
    "sp_c.append(sp_c_2)\n",
    "sp_c = sort(sp_c)\n",
    "sp_c_1 = sp_c[1]\n",
    "sp_c_2 = sp_c[0]\n",
    "print(f'Compras:\\n***************\\n1.  {sp_c_1}\\n2.  {sp_c_2}')"
   ]
  },
  {
   "cell_type": "markdown",
   "metadata": {},
   "source": [
    "# 3. Analizar Shock Points"
   ]
  },
  {
   "cell_type": "markdown",
   "metadata": {},
   "source": [
    "- El análisis de los puntos se hará de la siguiente manera:\n",
    "    - Para ventas, obtenemos la distancia o porcentaje entre puntos de venta: pct_v = ( (venta_fin - venta_inicio)/venta_din ) * 100\n",
    "    - Para compras, lo calculasmo así: pct_c = ( (compra_inicio - compra_fin)/compra_inicio ) * 100\n",
    "- Luego, debemos obtener la distancia entre el primer punto de venta y de compras, en este caso tenemos una ligera variación por lo que obtendremos el promedio. \n",
    "    - (1)=  (compras_inicio - ventas_inicio)/compras_inicio ) * -100\n",
    "    - (2)=  (ventas_inicio - compras_inicio)/ventas_inicio ) * 100\n",
    "    - pct_sep = promedio(1,2)"
   ]
  },
  {
   "cell_type": "code",
   "execution_count": 262,
   "metadata": {},
   "outputs": [
    {
     "name": "stdout",
     "output_type": "stream",
     "text": [
      "Distancia entre ventas: 7.86%\n",
      "Distancia entre compraas: 0.2%\n",
      "Porcentaje entre compra y venta: 2.76%\n"
     ]
    }
   ],
   "source": [
    "pct_ventas = round( ( (sp_v_1 - sp_v_2) / sp_v_2 ) * 100, 2 )\n",
    "print(f'Distancia entre ventas: {pct_ventas}%')\n",
    "\n",
    "pct_compras = round( ( (sp_c_1 - sp_c_2) / sp_c_1 ) * 100, 2)\n",
    "print(f'Distancia entre compraas: {pct_compras}%')\n",
    "\n",
    "pct_sep_1 = (( (sp_c_1 - sp_v_2) / sp_c_1 ) * -100)\n",
    "pct_sep_2 = ((sp_v_2 - sp_c_1) / sp_v_2 ) * 100\n",
    "pct_sep = round((pct_sep_1+pct_sep_2)/2,2)\n",
    "print(f'Porcentaje entre compra y venta: {pct_sep}%')"
   ]
  },
  {
   "cell_type": "markdown",
   "metadata": {},
   "source": [
    "# 4. Resultado del Análisis de los Shock Points"
   ]
  },
  {
   "cell_type": "markdown",
   "metadata": {},
   "source": [
    "- Una vez que tenemos las distancias, procedemos a comparar lo siguiente:\n",
    "    - Para compras:\n",
    "        - Distancia entre compra y venta debe ser mayor a la distancia entre compras por 2.5 o más veces\n",
    "    - Para ventas:\n",
    "        - - Distancia entre compra y venta debe ser mayor a la distancia entre ventas por 2.5 o más veces\n",
    "- Si se cumplen esas condiciones enviamos señal para compra y/o venta\n",
    "- Una nota aquí es que, a la distancia entre ventas o entre compras, habría que aumentarle la distancia entre el segundo shock_point y el SL"
   ]
  },
  {
   "cell_type": "code",
   "execution_count": 263,
   "metadata": {},
   "outputs": [
    {
     "name": "stdout",
     "output_type": "stream",
     "text": [
      "Se puede comprar en MANAUSDT\n"
     ]
    }
   ],
   "source": [
    "flag_compra = False\n",
    "flag_venta = False\n",
    "if (pct_sep/pct_ventas) >= 2.5: # Aquí es pct_sep/(pct_ventas+SL)\n",
    "    print(f'Se puede vender en {ticker}')\n",
    "    flag_venta = True\n",
    "if (pct_sep/pct_compras) >= 2.5: # Aquí es pct_sep/(pct_compras+SL)\n",
    "    print(f'Se puede comprar en {ticker}')\n",
    "    flag_compra = True"
   ]
  },
  {
   "cell_type": "markdown",
   "metadata": {},
   "source": [
    "# 5. Calcular SL y TP"
   ]
  },
  {
   "cell_type": "markdown",
   "metadata": {},
   "source": [
    "- En el caso que sí se habilite alguna operación debemos tener una gestión por moneda dentro del archivo coin_data para determinar qué tanta separación entre el segundo shock point y nuestro SL debe haber\n",
    "- Esto lo veremos de acuerdo a nuestro análisis de nuestras monedas teniendo uno por default o uno por moneda"
   ]
  },
  {
   "cell_type": "code",
   "execution_count": 266,
   "metadata": {},
   "outputs": [
    {
     "name": "stdout",
     "output_type": "stream",
     "text": [
      "Entrada Compra:\t$1.002\n"
     ]
    }
   ],
   "source": [
    "if flag_venta:\n",
    "    print(f'Entrada Venta:\\t${sp_v_2}')\n",
    "\n",
    "if flag_compra:\n",
    "    print(f'Entrada Compra:\\t${sp_c_1}')"
   ]
  },
  {
   "cell_type": "markdown",
   "metadata": {},
   "source": [
    "# 6. Ejecutar órdenes"
   ]
  }
 ],
 "metadata": {
  "kernelspec": {
   "display_name": "Python 3.9.13 ('venv': venv)",
   "language": "python",
   "name": "python3"
  },
  "language_info": {
   "codemirror_mode": {
    "name": "ipython",
    "version": 3
   },
   "file_extension": ".py",
   "mimetype": "text/x-python",
   "name": "python",
   "nbconvert_exporter": "python",
   "pygments_lexer": "ipython3",
   "version": "3.9.13"
  },
  "orig_nbformat": 4,
  "vscode": {
   "interpreter": {
    "hash": "73b038e3057eba63c5afd5542b93c9885a7bccb39335951f75f5b8d989115f5d"
   }
  }
 },
 "nbformat": 4,
 "nbformat_minor": 2
}
