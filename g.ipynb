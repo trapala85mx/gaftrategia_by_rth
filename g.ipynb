{
 "cells": [
  {
   "cell_type": "code",
   "execution_count": 25,
   "metadata": {},
   "outputs": [],
   "source": [
    "from binance.client import Client\n",
    "import pandas as pd\n",
    "import numpy as np\n",
    "import math\n",
    "import time\n",
    "import statistics\n",
    "from coin_data import data\n",
    "from config import api_key, api_secret"
   ]
  },
  {
   "cell_type": "code",
   "execution_count": 26,
   "metadata": {},
   "outputs": [
    {
     "name": "stdout",
     "output_type": "stream",
     "text": [
      "{'ROSEUSDT': {'i1': 0.001, 'i2': 0.0001}, 'MANAUSDT': {'i1': 0.1, 'i2': 0.01, 'sl': 0.7}, 'ADAUSDT': {'i1': 0.01, 'i2': 0.001}, 'BTCUSDT': {'i1': 100, 'i2': 50}, 'MATICUSDT': {'i1': 0.01, 'i2': 0.001}}\n"
     ]
    }
   ],
   "source": [
    "print(data)"
   ]
  },
  {
   "cell_type": "code",
   "execution_count": 27,
   "metadata": {},
   "outputs": [],
   "source": [
    "client = Client(api_key=api_key, api_secret= api_secret)\n",
    "ticker = 'MANAUSDT'"
   ]
  },
  {
   "cell_type": "markdown",
   "metadata": {},
   "source": [
    "# 1. Extraer datos de la moneda"
   ]
  },
  {
   "cell_type": "markdown",
   "metadata": {},
   "source": [
    "- Traemos toda la info de todas las monedas de futuros de binance"
   ]
  },
  {
   "cell_type": "code",
   "execution_count": 28,
   "metadata": {},
   "outputs": [],
   "source": [
    "info = client.futures_exchange_info()"
   ]
  },
  {
   "cell_type": "markdown",
   "metadata": {},
   "source": [
    "- Buscamos la moneda que necesitamos\n",
    "- Y extraemos la información que creamos necesaria\n",
    "- Esto lo deberíamos ejecutar 1 sola vez para todas las monedas y guardarlo para solo consultarlo como diccionario y no extraer la información cada vez\n",
    "- Aunque los datos traen la precisión para el precio, en algunas monedas está mal. Por lo tanto, se crea la función que retorna la cantidad de decimales a través de otra propiedad listada"
   ]
  },
  {
   "cell_type": "code",
   "execution_count": 29,
   "metadata": {},
   "outputs": [],
   "source": [
    "def get_precision(texto:str) -> int:\n",
    "    for i in range(2, len(texto)):\n",
    "        if texto[i] == '1':\n",
    "            return i-1"
   ]
  },
  {
   "cell_type": "code",
   "execution_count": 30,
   "metadata": {},
   "outputs": [],
   "source": [
    "for d in info['symbols']:\n",
    "    if d['pair']==ticker:\n",
    "        print(d)\n",
    "        print(\"\")\n",
    "        print(f\"Moneda: {d['pair']}\\nSubtipo: {d['underlyingSubType']}\\nPrecisión Precio: {get_precision(d['filters'][0]['tickSize'])} decimales\")\n"
   ]
  },
  {
   "cell_type": "markdown",
   "metadata": {},
   "source": [
    "# 2. Obtener Shock Points"
   ]
  },
  {
   "cell_type": "markdown",
   "metadata": {},
   "source": [
    "# a. Libro de ordenes"
   ]
  },
  {
   "cell_type": "markdown",
   "metadata": {},
   "source": [
    "- Vamos a obtener el libro de órdenes de la moneda\n",
    "- Luego separamos las ventas de las compras y las colocamos en un dataframe para mejor organización\n",
    "- Como nota, lo que trae el libro no es la cantidad total de monedas por bloque sino el total de USDT\n",
    "- En el caso de las ventas, para mostrarlo como lo vemos en Binance (mayor a menor) ordenamis descebdentemente"
   ]
  },
  {
   "cell_type": "code",
   "execution_count": 31,
   "metadata": {},
   "outputs": [
    {
     "ename": "BinanceAPIException",
     "evalue": "APIError(code=-1121): Invalid symbol.",
     "output_type": "error",
     "traceback": [
      "\u001b[0;31m---------------------------------------------------------------------------\u001b[0m",
      "\u001b[0;31mBinanceAPIException\u001b[0m                       Traceback (most recent call last)",
      "\u001b[1;32m/home/trapala85mx/projects/gaftrategia/g.ipynb Cell 13\u001b[0m in \u001b[0;36m<cell line: 1>\u001b[0;34m()\u001b[0m\n\u001b[0;32m----> <a href='vscode-notebook-cell://wsl%2Bubuntu-20.04/home/trapala85mx/projects/gaftrategia/g.ipynb#X15sdnNjb2RlLXJlbW90ZQ%3D%3D?line=0'>1</a>\u001b[0m order_book \u001b[39m=\u001b[39m client\u001b[39m.\u001b[39;49mfutures_order_book(symbol\u001b[39m=\u001b[39;49mticker, limit\u001b[39m=\u001b[39;49m\u001b[39m1000\u001b[39;49m)\n",
      "File \u001b[0;32m~/projects/gaftrategia/venv/lib/python3.9/site-packages/binance/client.py:5782\u001b[0m, in \u001b[0;36mClient.futures_order_book\u001b[0;34m(self, **params)\u001b[0m\n\u001b[1;32m   5776\u001b[0m \u001b[39mdef\u001b[39;00m \u001b[39mfutures_order_book\u001b[39m(\u001b[39mself\u001b[39m, \u001b[39m*\u001b[39m\u001b[39m*\u001b[39mparams):\n\u001b[1;32m   5777\u001b[0m     \u001b[39m\"\"\"Get the Order Book for the market\u001b[39;00m\n\u001b[1;32m   5778\u001b[0m \n\u001b[1;32m   5779\u001b[0m \u001b[39m    https://binance-docs.github.io/apidocs/futures/en/#order-book-market_data\u001b[39;00m\n\u001b[1;32m   5780\u001b[0m \n\u001b[1;32m   5781\u001b[0m \u001b[39m    \"\"\"\u001b[39;00m\n\u001b[0;32m-> 5782\u001b[0m     \u001b[39mreturn\u001b[39;00m \u001b[39mself\u001b[39;49m\u001b[39m.\u001b[39;49m_request_futures_api(\u001b[39m'\u001b[39;49m\u001b[39mget\u001b[39;49m\u001b[39m'\u001b[39;49m, \u001b[39m'\u001b[39;49m\u001b[39mdepth\u001b[39;49m\u001b[39m'\u001b[39;49m, data\u001b[39m=\u001b[39;49mparams)\n",
      "File \u001b[0;32m~/projects/gaftrategia/venv/lib/python3.9/site-packages/binance/client.py:339\u001b[0m, in \u001b[0;36mClient._request_futures_api\u001b[0;34m(self, method, path, signed, **kwargs)\u001b[0m\n\u001b[1;32m    336\u001b[0m \u001b[39mdef\u001b[39;00m \u001b[39m_request_futures_api\u001b[39m(\u001b[39mself\u001b[39m, method, path, signed\u001b[39m=\u001b[39m\u001b[39mFalse\u001b[39;00m, \u001b[39m*\u001b[39m\u001b[39m*\u001b[39mkwargs) \u001b[39m-\u001b[39m\u001b[39m>\u001b[39m Dict:\n\u001b[1;32m    337\u001b[0m     uri \u001b[39m=\u001b[39m \u001b[39mself\u001b[39m\u001b[39m.\u001b[39m_create_futures_api_uri(path)\n\u001b[0;32m--> 339\u001b[0m     \u001b[39mreturn\u001b[39;00m \u001b[39mself\u001b[39;49m\u001b[39m.\u001b[39;49m_request(method, uri, signed, \u001b[39mTrue\u001b[39;49;00m, \u001b[39m*\u001b[39;49m\u001b[39m*\u001b[39;49mkwargs)\n",
      "File \u001b[0;32m~/projects/gaftrategia/venv/lib/python3.9/site-packages/binance/client.py:315\u001b[0m, in \u001b[0;36mClient._request\u001b[0;34m(self, method, uri, signed, force_params, **kwargs)\u001b[0m\n\u001b[1;32m    312\u001b[0m kwargs \u001b[39m=\u001b[39m \u001b[39mself\u001b[39m\u001b[39m.\u001b[39m_get_request_kwargs(method, signed, force_params, \u001b[39m*\u001b[39m\u001b[39m*\u001b[39mkwargs)\n\u001b[1;32m    314\u001b[0m \u001b[39mself\u001b[39m\u001b[39m.\u001b[39mresponse \u001b[39m=\u001b[39m \u001b[39mgetattr\u001b[39m(\u001b[39mself\u001b[39m\u001b[39m.\u001b[39msession, method)(uri, \u001b[39m*\u001b[39m\u001b[39m*\u001b[39mkwargs)\n\u001b[0;32m--> 315\u001b[0m \u001b[39mreturn\u001b[39;00m \u001b[39mself\u001b[39;49m\u001b[39m.\u001b[39;49m_handle_response(\u001b[39mself\u001b[39;49m\u001b[39m.\u001b[39;49mresponse)\n",
      "File \u001b[0;32m~/projects/gaftrategia/venv/lib/python3.9/site-packages/binance/client.py:324\u001b[0m, in \u001b[0;36mClient._handle_response\u001b[0;34m(response)\u001b[0m\n\u001b[1;32m    319\u001b[0m \u001b[39m\"\"\"Internal helper for handling API responses from the Binance server.\u001b[39;00m\n\u001b[1;32m    320\u001b[0m \u001b[39mRaises the appropriate exceptions when necessary; otherwise, returns the\u001b[39;00m\n\u001b[1;32m    321\u001b[0m \u001b[39mresponse.\u001b[39;00m\n\u001b[1;32m    322\u001b[0m \u001b[39m\"\"\"\u001b[39;00m\n\u001b[1;32m    323\u001b[0m \u001b[39mif\u001b[39;00m \u001b[39mnot\u001b[39;00m (\u001b[39m200\u001b[39m \u001b[39m<\u001b[39m\u001b[39m=\u001b[39m response\u001b[39m.\u001b[39mstatus_code \u001b[39m<\u001b[39m \u001b[39m300\u001b[39m):\n\u001b[0;32m--> 324\u001b[0m     \u001b[39mraise\u001b[39;00m BinanceAPIException(response, response\u001b[39m.\u001b[39mstatus_code, response\u001b[39m.\u001b[39mtext)\n\u001b[1;32m    325\u001b[0m \u001b[39mtry\u001b[39;00m:\n\u001b[1;32m    326\u001b[0m     \u001b[39mreturn\u001b[39;00m response\u001b[39m.\u001b[39mjson()\n",
      "\u001b[0;31mBinanceAPIException\u001b[0m: APIError(code=-1121): Invalid symbol."
     ]
    }
   ],
   "source": [
    "order_book = client.futures_order_book(symbol=ticker, limit=1000)\n",
    "#order_book"
   ]
  },
  {
   "cell_type": "code",
   "execution_count": null,
   "metadata": {},
   "outputs": [
    {
     "name": "stderr",
     "output_type": "stream",
     "text": [
      "/tmp/ipykernel_27299/4237633481.py:2: FutureWarning: In a future version of pandas all arguments of DataFrame.sort_index will be keyword-only.\n",
      "  ventas = pd.DataFrame(ventas, columns=['precio','total_usdt']).sort_index(0, ascending=False)\n"
     ]
    },
    {
     "data": {
      "text/html": [
       "<div>\n",
       "<style scoped>\n",
       "    .dataframe tbody tr th:only-of-type {\n",
       "        vertical-align: middle;\n",
       "    }\n",
       "\n",
       "    .dataframe tbody tr th {\n",
       "        vertical-align: top;\n",
       "    }\n",
       "\n",
       "    .dataframe thead th {\n",
       "        text-align: right;\n",
       "    }\n",
       "</style>\n",
       "<table border=\"1\" class=\"dataframe\">\n",
       "  <thead>\n",
       "    <tr style=\"text-align: right;\">\n",
       "      <th></th>\n",
       "      <th>precio</th>\n",
       "      <th>total_usdt</th>\n",
       "    </tr>\n",
       "  </thead>\n",
       "  <tbody>\n",
       "    <tr>\n",
       "      <th>999</th>\n",
       "      <td>1.02500</td>\n",
       "      <td>5736</td>\n",
       "    </tr>\n",
       "    <tr>\n",
       "      <th>998</th>\n",
       "      <td>1.02490</td>\n",
       "      <td>70</td>\n",
       "    </tr>\n",
       "    <tr>\n",
       "      <th>997</th>\n",
       "      <td>1.02480</td>\n",
       "      <td>302</td>\n",
       "    </tr>\n",
       "    <tr>\n",
       "      <th>996</th>\n",
       "      <td>1.02470</td>\n",
       "      <td>76</td>\n",
       "    </tr>\n",
       "    <tr>\n",
       "      <th>995</th>\n",
       "      <td>1.02460</td>\n",
       "      <td>36</td>\n",
       "    </tr>\n",
       "    <tr>\n",
       "      <th>...</th>\n",
       "      <td>...</td>\n",
       "      <td>...</td>\n",
       "    </tr>\n",
       "    <tr>\n",
       "      <th>4</th>\n",
       "      <td>0.92370</td>\n",
       "      <td>32600</td>\n",
       "    </tr>\n",
       "    <tr>\n",
       "      <th>3</th>\n",
       "      <td>0.92360</td>\n",
       "      <td>30614</td>\n",
       "    </tr>\n",
       "    <tr>\n",
       "      <th>2</th>\n",
       "      <td>0.92350</td>\n",
       "      <td>21278</td>\n",
       "    </tr>\n",
       "    <tr>\n",
       "      <th>1</th>\n",
       "      <td>0.92340</td>\n",
       "      <td>9091</td>\n",
       "    </tr>\n",
       "    <tr>\n",
       "      <th>0</th>\n",
       "      <td>0.92330</td>\n",
       "      <td>6206</td>\n",
       "    </tr>\n",
       "  </tbody>\n",
       "</table>\n",
       "<p>1000 rows × 2 columns</p>\n",
       "</div>"
      ],
      "text/plain": [
       "      precio total_usdt\n",
       "999  1.02500       5736\n",
       "998  1.02490         70\n",
       "997  1.02480        302\n",
       "996  1.02470         76\n",
       "995  1.02460         36\n",
       "..       ...        ...\n",
       "4    0.92370      32600\n",
       "3    0.92360      30614\n",
       "2    0.92350      21278\n",
       "1    0.92340       9091\n",
       "0    0.92330       6206\n",
       "\n",
       "[1000 rows x 2 columns]"
      ]
     },
     "execution_count": 8,
     "metadata": {},
     "output_type": "execute_result"
    }
   ],
   "source": [
    "ventas = order_book['asks']\n",
    "ventas = pd.DataFrame(ventas, columns=['precio','total_usdt']).sort_index(0, ascending=False)\n",
    "ventas"
   ]
  },
  {
   "cell_type": "code",
   "execution_count": null,
   "metadata": {},
   "outputs": [
    {
     "data": {
      "text/html": [
       "<div>\n",
       "<style scoped>\n",
       "    .dataframe tbody tr th:only-of-type {\n",
       "        vertical-align: middle;\n",
       "    }\n",
       "\n",
       "    .dataframe tbody tr th {\n",
       "        vertical-align: top;\n",
       "    }\n",
       "\n",
       "    .dataframe thead th {\n",
       "        text-align: right;\n",
       "    }\n",
       "</style>\n",
       "<table border=\"1\" class=\"dataframe\">\n",
       "  <thead>\n",
       "    <tr style=\"text-align: right;\">\n",
       "      <th></th>\n",
       "      <th>precio</th>\n",
       "      <th>total_usdt</th>\n",
       "    </tr>\n",
       "  </thead>\n",
       "  <tbody>\n",
       "    <tr>\n",
       "      <th>0</th>\n",
       "      <td>0.92320</td>\n",
       "      <td>3552</td>\n",
       "    </tr>\n",
       "    <tr>\n",
       "      <th>1</th>\n",
       "      <td>0.92310</td>\n",
       "      <td>11481</td>\n",
       "    </tr>\n",
       "    <tr>\n",
       "      <th>2</th>\n",
       "      <td>0.92300</td>\n",
       "      <td>22075</td>\n",
       "    </tr>\n",
       "    <tr>\n",
       "      <th>3</th>\n",
       "      <td>0.92290</td>\n",
       "      <td>27528</td>\n",
       "    </tr>\n",
       "    <tr>\n",
       "      <th>4</th>\n",
       "      <td>0.92280</td>\n",
       "      <td>39258</td>\n",
       "    </tr>\n",
       "    <tr>\n",
       "      <th>...</th>\n",
       "      <td>...</td>\n",
       "      <td>...</td>\n",
       "    </tr>\n",
       "    <tr>\n",
       "      <th>995</th>\n",
       "      <td>0.82350</td>\n",
       "      <td>4056</td>\n",
       "    </tr>\n",
       "    <tr>\n",
       "      <th>996</th>\n",
       "      <td>0.82340</td>\n",
       "      <td>36</td>\n",
       "    </tr>\n",
       "    <tr>\n",
       "      <th>997</th>\n",
       "      <td>0.82330</td>\n",
       "      <td>7</td>\n",
       "    </tr>\n",
       "    <tr>\n",
       "      <th>998</th>\n",
       "      <td>0.82320</td>\n",
       "      <td>1443</td>\n",
       "    </tr>\n",
       "    <tr>\n",
       "      <th>999</th>\n",
       "      <td>0.82310</td>\n",
       "      <td>165</td>\n",
       "    </tr>\n",
       "  </tbody>\n",
       "</table>\n",
       "<p>1000 rows × 2 columns</p>\n",
       "</div>"
      ],
      "text/plain": [
       "      precio total_usdt\n",
       "0    0.92320       3552\n",
       "1    0.92310      11481\n",
       "2    0.92300      22075\n",
       "3    0.92290      27528\n",
       "4    0.92280      39258\n",
       "..       ...        ...\n",
       "995  0.82350       4056\n",
       "996  0.82340         36\n",
       "997  0.82330          7\n",
       "998  0.82320       1443\n",
       "999  0.82310        165\n",
       "\n",
       "[1000 rows x 2 columns]"
      ]
     },
     "execution_count": 9,
     "metadata": {},
     "output_type": "execute_result"
    }
   ],
   "source": [
    "compras = order_book['bids']\n",
    "compras = pd.DataFrame(compras, columns=['precio','total_usdt'])\n",
    "compras"
   ]
  },
  {
   "cell_type": "markdown",
   "metadata": {},
   "source": [
    "## b. Obtención de rangos de precios"
   ]
  },
  {
   "cell_type": "markdown",
   "metadata": {},
   "source": [
    "- Para obtener los rangos y obtener los puntos a cómo lo hace el gafas, debemos crear rangos\n",
    "- Para crear los rangos necesitamos el precio mínimo y máximo para redondearlos hacia abajo y arriba respecto a los múltiplos de los libros"
   ]
  },
  {
   "cell_type": "markdown",
   "metadata": {},
   "source": [
    "### i. Obtención de máximos y mínimos precios"
   ]
  },
  {
   "cell_type": "markdown",
   "metadata": {},
   "source": [
    "- Para poder hacer esto, tenemos que decirle al Dataframe qué tipo de valores son las columnas\n",
    "- Esto es porque, como se puede observar a continuación, los marca como object"
   ]
  },
  {
   "cell_type": "code",
   "execution_count": null,
   "metadata": {},
   "outputs": [
    {
     "name": "stdout",
     "output_type": "stream",
     "text": [
      "<class 'pandas.core.frame.DataFrame'>\n",
      "RangeIndex: 1000 entries, 0 to 999\n",
      "Data columns (total 2 columns):\n",
      " #   Column      Non-Null Count  Dtype \n",
      "---  ------      --------------  ----- \n",
      " 0   precio      1000 non-null   object\n",
      " 1   total_usdt  1000 non-null   object\n",
      "dtypes: object(2)\n",
      "memory usage: 15.8+ KB\n"
     ]
    }
   ],
   "source": [
    "compras.info()"
   ]
  },
  {
   "cell_type": "markdown",
   "metadata": {},
   "source": [
    "- Para modificar el tipo de objetos de las columnas, hacemos:"
   ]
  },
  {
   "cell_type": "code",
   "execution_count": null,
   "metadata": {},
   "outputs": [
    {
     "data": {
      "text/html": [
       "<div>\n",
       "<style scoped>\n",
       "    .dataframe tbody tr th:only-of-type {\n",
       "        vertical-align: middle;\n",
       "    }\n",
       "\n",
       "    .dataframe tbody tr th {\n",
       "        vertical-align: top;\n",
       "    }\n",
       "\n",
       "    .dataframe thead th {\n",
       "        text-align: right;\n",
       "    }\n",
       "</style>\n",
       "<table border=\"1\" class=\"dataframe\">\n",
       "  <thead>\n",
       "    <tr style=\"text-align: right;\">\n",
       "      <th></th>\n",
       "      <th>precio</th>\n",
       "      <th>total_usdt</th>\n",
       "    </tr>\n",
       "  </thead>\n",
       "  <tbody>\n",
       "    <tr>\n",
       "      <th>999</th>\n",
       "      <td>1.0250</td>\n",
       "      <td>5736.0</td>\n",
       "    </tr>\n",
       "    <tr>\n",
       "      <th>998</th>\n",
       "      <td>1.0249</td>\n",
       "      <td>70.0</td>\n",
       "    </tr>\n",
       "    <tr>\n",
       "      <th>997</th>\n",
       "      <td>1.0248</td>\n",
       "      <td>302.0</td>\n",
       "    </tr>\n",
       "    <tr>\n",
       "      <th>996</th>\n",
       "      <td>1.0247</td>\n",
       "      <td>76.0</td>\n",
       "    </tr>\n",
       "    <tr>\n",
       "      <th>995</th>\n",
       "      <td>1.0246</td>\n",
       "      <td>36.0</td>\n",
       "    </tr>\n",
       "    <tr>\n",
       "      <th>...</th>\n",
       "      <td>...</td>\n",
       "      <td>...</td>\n",
       "    </tr>\n",
       "    <tr>\n",
       "      <th>4</th>\n",
       "      <td>0.9237</td>\n",
       "      <td>32600.0</td>\n",
       "    </tr>\n",
       "    <tr>\n",
       "      <th>3</th>\n",
       "      <td>0.9236</td>\n",
       "      <td>30614.0</td>\n",
       "    </tr>\n",
       "    <tr>\n",
       "      <th>2</th>\n",
       "      <td>0.9235</td>\n",
       "      <td>21278.0</td>\n",
       "    </tr>\n",
       "    <tr>\n",
       "      <th>1</th>\n",
       "      <td>0.9234</td>\n",
       "      <td>9091.0</td>\n",
       "    </tr>\n",
       "    <tr>\n",
       "      <th>0</th>\n",
       "      <td>0.9233</td>\n",
       "      <td>6206.0</td>\n",
       "    </tr>\n",
       "  </tbody>\n",
       "</table>\n",
       "<p>1000 rows × 2 columns</p>\n",
       "</div>"
      ],
      "text/plain": [
       "     precio  total_usdt\n",
       "999  1.0250      5736.0\n",
       "998  1.0249        70.0\n",
       "997  1.0248       302.0\n",
       "996  1.0247        76.0\n",
       "995  1.0246        36.0\n",
       "..      ...         ...\n",
       "4    0.9237     32600.0\n",
       "3    0.9236     30614.0\n",
       "2    0.9235     21278.0\n",
       "1    0.9234      9091.0\n",
       "0    0.9233      6206.0\n",
       "\n",
       "[1000 rows x 2 columns]"
      ]
     },
     "execution_count": 11,
     "metadata": {},
     "output_type": "execute_result"
    }
   ],
   "source": [
    "ventas[['precio','total_usdt']] = ventas[['precio','total_usdt']].astype('float')\n",
    "ventas"
   ]
  },
  {
   "cell_type": "code",
   "execution_count": null,
   "metadata": {},
   "outputs": [
    {
     "data": {
      "text/html": [
       "<div>\n",
       "<style scoped>\n",
       "    .dataframe tbody tr th:only-of-type {\n",
       "        vertical-align: middle;\n",
       "    }\n",
       "\n",
       "    .dataframe tbody tr th {\n",
       "        vertical-align: top;\n",
       "    }\n",
       "\n",
       "    .dataframe thead th {\n",
       "        text-align: right;\n",
       "    }\n",
       "</style>\n",
       "<table border=\"1\" class=\"dataframe\">\n",
       "  <thead>\n",
       "    <tr style=\"text-align: right;\">\n",
       "      <th></th>\n",
       "      <th>precio</th>\n",
       "      <th>total_usdt</th>\n",
       "    </tr>\n",
       "  </thead>\n",
       "  <tbody>\n",
       "    <tr>\n",
       "      <th>0</th>\n",
       "      <td>0.9232</td>\n",
       "      <td>3552.0</td>\n",
       "    </tr>\n",
       "    <tr>\n",
       "      <th>1</th>\n",
       "      <td>0.9231</td>\n",
       "      <td>11481.0</td>\n",
       "    </tr>\n",
       "    <tr>\n",
       "      <th>2</th>\n",
       "      <td>0.9230</td>\n",
       "      <td>22075.0</td>\n",
       "    </tr>\n",
       "    <tr>\n",
       "      <th>3</th>\n",
       "      <td>0.9229</td>\n",
       "      <td>27528.0</td>\n",
       "    </tr>\n",
       "    <tr>\n",
       "      <th>4</th>\n",
       "      <td>0.9228</td>\n",
       "      <td>39258.0</td>\n",
       "    </tr>\n",
       "    <tr>\n",
       "      <th>...</th>\n",
       "      <td>...</td>\n",
       "      <td>...</td>\n",
       "    </tr>\n",
       "    <tr>\n",
       "      <th>995</th>\n",
       "      <td>0.8235</td>\n",
       "      <td>4056.0</td>\n",
       "    </tr>\n",
       "    <tr>\n",
       "      <th>996</th>\n",
       "      <td>0.8234</td>\n",
       "      <td>36.0</td>\n",
       "    </tr>\n",
       "    <tr>\n",
       "      <th>997</th>\n",
       "      <td>0.8233</td>\n",
       "      <td>7.0</td>\n",
       "    </tr>\n",
       "    <tr>\n",
       "      <th>998</th>\n",
       "      <td>0.8232</td>\n",
       "      <td>1443.0</td>\n",
       "    </tr>\n",
       "    <tr>\n",
       "      <th>999</th>\n",
       "      <td>0.8231</td>\n",
       "      <td>165.0</td>\n",
       "    </tr>\n",
       "  </tbody>\n",
       "</table>\n",
       "<p>1000 rows × 2 columns</p>\n",
       "</div>"
      ],
      "text/plain": [
       "     precio  total_usdt\n",
       "0    0.9232      3552.0\n",
       "1    0.9231     11481.0\n",
       "2    0.9230     22075.0\n",
       "3    0.9229     27528.0\n",
       "4    0.9228     39258.0\n",
       "..      ...         ...\n",
       "995  0.8235      4056.0\n",
       "996  0.8234        36.0\n",
       "997  0.8233         7.0\n",
       "998  0.8232      1443.0\n",
       "999  0.8231       165.0\n",
       "\n",
       "[1000 rows x 2 columns]"
      ]
     },
     "execution_count": 12,
     "metadata": {},
     "output_type": "execute_result"
    }
   ],
   "source": [
    "compras[['precio','total_usdt']] = compras[['precio','total_usdt']].astype('float')\n",
    "compras"
   ]
  },
  {
   "cell_type": "markdown",
   "metadata": {},
   "source": [
    "- Ahora sí, obtenemos los máximos y mínimos"
   ]
  },
  {
   "cell_type": "code",
   "execution_count": null,
   "metadata": {},
   "outputs": [
    {
     "name": "stdout",
     "output_type": "stream",
     "text": [
      "Ventas(mín-máx): 0.9233 - 1.025\n",
      "Compras(mín-máx): 0.8231 - 0.9232\n"
     ]
    }
   ],
   "source": [
    "max_ventas = ventas['precio'].max()\n",
    "min_ventas = ventas['precio'].min()\n",
    "print('Ventas(mín-máx): {} - {}'.format(min_ventas, max_ventas))\n",
    "\n",
    "max_compras = compras['precio'].max()\n",
    "min_compras = compras['precio'].min()\n",
    "print('Compras(mín-máx): {} - {}'.format(min_compras, max_compras))"
   ]
  },
  {
   "cell_type": "markdown",
   "metadata": {},
   "source": [
    "### ii. Obtención de Dataframes con los Rangos"
   ]
  },
  {
   "cell_type": "markdown",
   "metadata": {},
   "source": [
    "- Para esto, necesitamos tener los múltiplos de las moendas cómo lo hace el gafas\n",
    "- Desafortunadamante, aún no encuentro cómo obtener los múltiplos de binance por lo que toca escribirlos en el archivo coin_data.py\n",
    "- Para obtener el inicio de inicio y final de un rango, hacemos:\n",
    "\n",
    "1. (precio_minimo / multiplo) ; donde el múltiplo es el que obtenemos de coind_data en i1\n",
    "2. Luego redondeamos al entero inferior con math.floor()\n",
    "3. Y multiplicamos por el múltiplo nuevamente para obtener el inicio del rango\n",
    "4. (precio_maximo / multiplo)\n",
    "5. redondeamos hacia el entero superior con math.ceil()\n",
    "6. Y multiplicamos por el múltiplo nuevamente para obtener el máximo del rango"
   ]
  },
  {
   "cell_type": "markdown",
   "metadata": {},
   "source": [
    "#### Obtención de valores iniciales y finales de rango con primer múltiplo"
   ]
  },
  {
   "cell_type": "code",
   "execution_count": null,
   "metadata": {},
   "outputs": [
    {
     "name": "stdout",
     "output_type": "stream",
     "text": [
      "Rango Ventas: 0.92 - 1.03\n",
      "Rango Compras: 0.8200000000000001 - 0.93\n"
     ]
    }
   ],
   "source": [
    "# Ventas\n",
    "inicio_rango_ventas_1 = ( math.floor( (min_ventas / data[ticker]['i1']) ) ) * data[ticker]['i1']\n",
    "final_rango_ventas_1 = ( math.ceil( (max_ventas / data[ticker]['i1']) ) ) * data[ticker]['i1']\n",
    "print('Rango Ventas: {} - {}'.format(inicio_rango_ventas_1,final_rango_ventas_1))\n",
    "# Compras\n",
    "inicio_rango_compras_1 = ( math.floor( (min_compras / data[ticker]['i1']) ) ) * data[ticker]['i1']\n",
    "final_rango_compras_1 = ( math.ceil( (max_compras / data[ticker]['i1']) ) ) * data[ticker]['i1']\n",
    "print('Rango Compras: {} - {}'.format(inicio_rango_compras_1,final_rango_compras_1))"
   ]
  },
  {
   "cell_type": "markdown",
   "metadata": {},
   "source": [
    "#### Obtención de valores iniciales y finales de rango con segundo múltiplo"
   ]
  },
  {
   "cell_type": "code",
   "execution_count": null,
   "metadata": {},
   "outputs": [
    {
     "name": "stdout",
     "output_type": "stream",
     "text": [
      "Rango Ventas: 0.923 - 1.025\n",
      "Rango Compras: 0.8230000000000001 - 0.924\n"
     ]
    }
   ],
   "source": [
    "# Ventas\n",
    "inicio_rango_ventas_2 = ( math.floor( (min_ventas / data[ticker]['i2']) ) ) * data[ticker]['i2']\n",
    "final_rango_ventas_2 = ( math.ceil( (max_ventas / data[ticker]['i2']) ) ) * data[ticker]['i2']\n",
    "print('Rango Ventas: {} - {}'.format(inicio_rango_ventas_2,final_rango_ventas_2))\n",
    "# Compras\n",
    "inicio_rango_compras_2 = ( math.floor( (min_compras / data[ticker]['i2']) ) ) * data[ticker]['i2']\n",
    "final_rango_compras_2 = ( math.ceil( (max_compras / data[ticker]['i2']) ) ) * data[ticker]['i2']\n",
    "print('Rango Compras: {} - {}'.format(inicio_rango_compras_2,final_rango_compras_2))"
   ]
  },
  {
   "cell_type": "markdown",
   "metadata": {},
   "source": [
    "### iii. Obtención de los dataframes agrupados por rangos"
   ]
  },
  {
   "cell_type": "markdown",
   "metadata": {},
   "source": [
    "- Ya que tenemos los valores inicial y final de los rangos, creamos el Dataframe con datos agrupados por rangos\n",
    "- Solo que, antes tenemos que tener un rango con incrementos de acuerdo al múltiplo. Para esto usamos np.arange()"
   ]
  },
  {
   "cell_type": "markdown",
   "metadata": {},
   "source": [
    "- Con múltiplo 1"
   ]
  },
  {
   "cell_type": "code",
   "execution_count": null,
   "metadata": {},
   "outputs": [
    {
     "name": "stdout",
     "output_type": "stream",
     "text": [
      "Ventas agrupadas segun incremento 1\n",
      "[0.92 0.93 0.94 0.95 0.96 0.97 0.98 0.99 1.   1.01 1.02 1.03]\n",
      "               precio  total_usdt\n",
      "precio                           \n",
      "(1.02, 1.03]  48.0583    604290.0\n",
      "(1.01, 1.02]  97.4552    510768.0\n",
      "(1.0, 1.01]   95.4902    156131.0\n",
      "(0.99, 1.0]   97.5160    252304.0\n",
      "(0.98, 0.99]  96.5334    336419.0\n",
      "(0.97, 0.98]  97.5050    362090.0\n",
      "(0.96, 0.97]  95.5369    470162.0\n",
      "(0.95, 0.96]  95.5050    781734.0\n",
      "(0.94, 0.95]  93.5643    978134.0\n",
      "(0.93, 0.94]  93.5050   1979200.0\n",
      "(0.92, 0.93]  63.0122   3160526.0\n",
      "\n",
      "Compras agrupadas segun incremento 1\n",
      "[0.82 0.83 0.84 0.85 0.86 0.87 0.88 0.89 0.9  0.91 0.92 0.93]\n",
      "               precio  total_usdt\n",
      "precio                           \n",
      "(0.82, 0.83]  57.8585    200652.0\n",
      "(0.83, 0.84]  82.6666    312272.0\n",
      "(0.84, 0.85]  84.5050    480805.0\n",
      "(0.85, 0.86]  85.5050    473934.0\n",
      "(0.86, 0.87]  85.6423    397905.0\n",
      "(0.87, 0.88]  87.5050    548790.0\n",
      "(0.88, 0.89]  88.5050    612144.0\n",
      "(0.89, 0.9]   89.5050   1589840.0\n",
      "(0.9, 0.91]   90.5050   1206223.0\n",
      "(0.91, 0.92]  91.5050   3529232.0\n",
      "(0.92, 0.93]  29.4928    916328.0\n"
     ]
    }
   ],
   "source": [
    "rango_v_1 = np.arange(inicio_rango_ventas_1, final_rango_ventas_1+data[ticker]['i1'], data[ticker]['i1'])\n",
    "ventas_ag_1 = ventas.groupby(pd.cut(ventas.precio,rango_v_1)).sum()\n",
    "print('Ventas agrupadas segun incremento 1')\n",
    "print(rango_v_1)\n",
    "print(ventas_ag_1.sort_index(ascending=False))\n",
    "rango_c_1 = np.arange(inicio_rango_compras_1, final_rango_compras_1+data[ticker]['i1'], data[ticker]['i1'])\n",
    "compras_ag_1 = compras.groupby(pd.cut(compras.precio,rango_c_1)).sum()\n",
    "print('\\nCompras agrupadas segun incremento 1')\n",
    "print(rango_c_1)\n",
    "print(compras_ag_1.sort_index())"
   ]
  },
  {
   "cell_type": "markdown",
   "metadata": {},
   "source": [
    "- con múltiplo 2"
   ]
  },
  {
   "cell_type": "code",
   "execution_count": null,
   "metadata": {},
   "outputs": [
    {
     "name": "stdout",
     "output_type": "stream",
     "text": [
      "Ventas agrupadas segun incremento 2\n",
      "                 precio  total_usdt\n",
      "precio                             \n",
      "(1.024, 1.025]   9.2212     15874.0\n",
      "(1.023, 1.024]   9.2121      6590.0\n",
      "(1.022, 1.023]  10.2255     76730.0\n",
      "(1.021, 1.022]   9.1940      7402.0\n",
      "(1.02, 1.021]   10.2055    497694.0\n",
      "...                 ...         ...\n",
      "(0.927, 0.928]   9.2755    672070.0\n",
      "(0.926, 0.927]   9.2655    644421.0\n",
      "(0.925, 0.926]   9.2555    225893.0\n",
      "(0.924, 0.925]   9.2455    511305.0\n",
      "(0.923, 0.924]   7.3892    207694.0\n",
      "\n",
      "[102 rows x 2 columns]\n",
      "\n",
      "Compras agrupadas segun incremento 2\n",
      "                precio  total_usdt\n",
      "precio                            \n",
      "(0.923, 0.924]  1.8463     15033.0\n",
      "(0.922, 0.923]  9.2255    334357.0\n",
      "(0.921, 0.922]  9.2155    259269.0\n",
      "(0.92, 0.921]   9.2055    307669.0\n",
      "(0.919, 0.92]   9.1955    538471.0\n",
      "...                ...         ...\n",
      "(0.827, 0.828]  8.2755     44084.0\n",
      "(0.826, 0.827]  8.2655     36431.0\n",
      "(0.825, 0.826]  8.2555     13824.0\n",
      "(0.824, 0.825]  8.2455     11326.0\n",
      "(0.823, 0.824]  8.2355     10958.0\n",
      "\n",
      "[101 rows x 2 columns]\n"
     ]
    }
   ],
   "source": [
    "rango_v_2 = np.arange(inicio_rango_ventas_2, final_rango_ventas_2+data[ticker]['i2'], data[ticker]['i2'])\n",
    "ventas_ag_2 = ventas.groupby(pd.cut(ventas.precio,rango_v_2)).sum()\n",
    "print('Ventas agrupadas segun incremento 2')\n",
    "#print(rango_v_2)\n",
    "print(ventas_ag_2.sort_index(ascending=False))\n",
    "rango_c_2 = np.arange(inicio_rango_compras_2, final_rango_compras_2+data[ticker]['i2'], data[ticker]['i2'])\n",
    "compras_ag_2 = compras.groupby(pd.cut(compras.precio,rango_c_2)).sum()\n",
    "print('\\nCompras agrupadas segun incremento 2')\n",
    "#print(rango_c_2)\n",
    "print(compras_ag_2.sort_index(ascending=False))"
   ]
  },
  {
   "cell_type": "markdown",
   "metadata": {},
   "source": [
    "#### Obtención de los shock points"
   ]
  },
  {
   "cell_type": "markdown",
   "metadata": {},
   "source": [
    "- Ahora, para obtener los shock point, necesitamos obtener el dato donde el total usdt es máximo\n",
    "- Traer el índice y extraer:\n",
    "    - Para ventas: el lado derecho del intervalo. Porque es la parte superior del intervalo\n",
    "    - Para compras: el lado izquiero del intervalo. Porque es la parte inferior del intervalo"
   ]
  },
  {
   "cell_type": "code",
   "execution_count": null,
   "metadata": {},
   "outputs": [
    {
     "name": "stdout",
     "output_type": "stream",
     "text": [
      "Ventas:\n",
      "***************\n",
      "2.  0.93\n",
      "1.  0.928\n"
     ]
    }
   ],
   "source": [
    "from numpy import sort\n",
    "\n",
    "\n",
    "sp_v_1 = ventas_ag_1['total_usdt'].idxmax().right\n",
    "#print(sp_v_1)\n",
    "#print(ventas_ag_2)\n",
    "#print(ventas_ag_2['total_usdt'].max())\n",
    "#print(ventas_ag_2['total_usdt'].idxmax())\n",
    "#print(ventas_ag_2['total_usdt'].idxmax())\n",
    "sp_v_2 = ventas_ag_2['total_usdt'].idxmax().right\n",
    "sp_v = []\n",
    "sp_v.append(sp_v_1)\n",
    "sp_v.append(sp_v_2)\n",
    "sp_v = sort(sp_v)\n",
    "sp_v_1 = sp_v[1]\n",
    "sp_v_2 = sp_v[0]\n",
    "print(f'Ventas:\\n***************\\n2.  {sp_v_1}\\n1.  {sp_v_2}')"
   ]
  },
  {
   "cell_type": "code",
   "execution_count": null,
   "metadata": {},
   "outputs": [
    {
     "name": "stdout",
     "output_type": "stream",
     "text": [
      "Compras:\n",
      "***************\n",
      "1.  0.914\n",
      "2.  0.91\n"
     ]
    }
   ],
   "source": [
    "sp_c_1 = compras_ag_1['total_usdt'].idxmax().left\n",
    "#print(sp_c_1)\n",
    "#print(compras_ag_2)\n",
    "#print(compras_ag_2['total_usdt'].max())\n",
    "#print(compras_ag_2['total_usdt'].idxmax())\n",
    "sp_c_2 = compras_ag_2['total_usdt'].idxmax().left\n",
    "#print(sp_c_2)\n",
    "sp_c = []\n",
    "sp_c.append(sp_c_1)\n",
    "sp_c.append(sp_c_2)\n",
    "sp_c = sort(sp_c)\n",
    "sp_c_1 = sp_c[1]\n",
    "sp_c_2 = sp_c[0]\n",
    "print(f'Compras:\\n***************\\n1.  {sp_c_1}\\n2.  {sp_c_2}')"
   ]
  },
  {
   "cell_type": "markdown",
   "metadata": {},
   "source": [
    "# 3. Analizar Shock Points"
   ]
  },
  {
   "cell_type": "markdown",
   "metadata": {},
   "source": [
    "- El análisis de los puntos se hará de la siguiente manera:\n",
    "    - Para ventas, obtenemos la distancia o porcentaje entre puntos de venta: pct_v = ( (venta_fin - venta_inicio)/venta_din ) * 100\n",
    "    - Para compras, lo calculasmo así: pct_c = ( (compra_inicio - compra_fin)/compra_inicio ) * 100\n",
    "- Luego, debemos obtener la distancia entre el primer punto de venta y de compras, en este caso tenemos una ligera variación por lo que obtendremos el promedio. \n",
    "    - (1)=  (compras_inicio - ventas_inicio)/compras_inicio ) * -100\n",
    "    - (2)=  (ventas_inicio - compras_inicio)/ventas_inicio ) * 100\n",
    "    - pct_sep = promedio(1,2)"
   ]
  },
  {
   "cell_type": "code",
   "execution_count": null,
   "metadata": {},
   "outputs": [
    {
     "name": "stdout",
     "output_type": "stream",
     "text": [
      "Distancia entre ventas: 0.22%\n",
      "Distancia entre compraas: 0.44%\n",
      "Porcentaje entre compra y venta: 1.52%\n"
     ]
    }
   ],
   "source": [
    "pct_ventas = round( ( (sp_v_1 - sp_v_2) / sp_v_2 ) * 100, 2 )\n",
    "print(f'Distancia entre ventas: {pct_ventas}%')\n",
    "\n",
    "pct_compras = round( ( (sp_c_1 - sp_c_2) / sp_c_1 ) * 100, 2)\n",
    "print(f'Distancia entre compraas: {pct_compras}%')\n",
    "\n",
    "pct_sep_1 = (( (sp_c_1 - sp_v_2) / sp_c_1 ) * -100)\n",
    "pct_sep_2 = ((sp_v_2 - sp_c_1) / sp_v_2 ) * 100\n",
    "pct_sep = round((pct_sep_1+pct_sep_2)/2,2)\n",
    "print(f'Porcentaje entre compra y venta: {pct_sep}%')"
   ]
  },
  {
   "cell_type": "markdown",
   "metadata": {},
   "source": [
    "# 4. Resultado del Análisis de los Shock Points"
   ]
  },
  {
   "cell_type": "markdown",
   "metadata": {},
   "source": [
    "- Una vez que tenemos las distancias, procedemos a comparar lo siguiente:\n",
    "    - Para compras:\n",
    "        - Distancia entre compra y venta debe ser mayor a la distancia entre compras por 2.5 o más veces\n",
    "    - Para ventas:\n",
    "        - - Distancia entre compra y venta debe ser mayor a la distancia entre ventas por 2.5 o más veces\n",
    "- Si se cumplen esas condiciones enviamos señal para compra y/o venta\n",
    "- Una nota aquí es que, a la distancia entre ventas o entre compras, habría que aumentarle la distancia entre el segundo shock_point y el SL"
   ]
  },
  {
   "cell_type": "code",
   "execution_count": null,
   "metadata": {},
   "outputs": [
    {
     "name": "stdout",
     "output_type": "stream",
     "text": [
      "Se puede vender en MATICUSDT\n",
      "Se puede comprar en MATICUSDT\n"
     ]
    }
   ],
   "source": [
    "ratio = 2.5\n",
    "flag_compra = False\n",
    "flag_venta = False\n",
    "if (pct_sep/pct_ventas) >= ratio: # Aquí es pct_sep/(pct_ventas+SL)\n",
    "    print(f'Se puede vender en {ticker}')\n",
    "    flag_venta = True\n",
    "if (pct_sep/pct_compras) >= ratio: # Aquí es pct_sep/(pct_compras+SL)\n",
    "    print(f'Se puede comprar en {ticker}')\n",
    "    flag_compra = True\n",
    "if not flag_compra and not flag_venta:\n",
    "    print('Nada que hacer, sigue buscando')"
   ]
  },
  {
   "cell_type": "markdown",
   "metadata": {},
   "source": [
    "# 5. Calcular SL, TP y Recompras"
   ]
  },
  {
   "cell_type": "markdown",
   "metadata": {},
   "source": [
    "- En el caso que sí se habilite alguna operación debemos tener una gestión por moneda dentro del archivo coin_data para determinar qué tanta separación entre el segundo shock point y nuestro SL debe haber\n",
    "- Esto lo veremos de acuerdo a nuestro análisis de nuestras monedas teniendo uno por default o uno por moneda"
   ]
  },
  {
   "cell_type": "markdown",
   "metadata": {},
   "source": [
    "## Entrada"
   ]
  },
  {
   "cell_type": "code",
   "execution_count": null,
   "metadata": {},
   "outputs": [
    {
     "name": "stdout",
     "output_type": "stream",
     "text": [
      "Entrada Venta:\t$0.928\n",
      "Entrada Compra:\t$0.914\n"
     ]
    }
   ],
   "source": [
    "if flag_venta:\n",
    "    print(f'Entrada Venta:\\t${sp_v_2}')\n",
    "\n",
    "if flag_compra:\n",
    "    print(f'Entrada Compra:\\t${sp_c_1}')"
   ]
  },
  {
   "cell_type": "markdown",
   "metadata": {},
   "source": [
    "## SL"
   ]
  },
  {
   "cell_type": "markdown",
   "metadata": {},
   "source": [
    "- Primero debemos traer el balance de nuestra cuenta de futuros"
   ]
  },
  {
   "cell_type": "code",
   "execution_count": null,
   "metadata": {},
   "outputs": [],
   "source": [
    "import os"
   ]
  },
  {
   "cell_type": "code",
   "execution_count": null,
   "metadata": {},
   "outputs": [],
   "source": [
    "#x = 0\n",
    "# while True:\n",
    "#    if x < 100:\n",
    "#        actual_price = client.futures_mark_price(symbol=ticker)\n",
    "#        os.system('clear')\n",
    "#        print('Precio actual {}'.format(actual_price))\n",
    "#        x += 1\n"
   ]
  },
  {
   "cell_type": "markdown",
   "metadata": {},
   "source": [
    "## Recompras / Reventas"
   ]
  },
  {
   "cell_type": "markdown",
   "metadata": {},
   "source": [
    "- Para las recompras usaremos la misma configuración del gafas:\n",
    "    - Compras a cada 2%\n",
    "    - Comprando el 40% de las monedas que esten al momento\n",
    "    - SL del 10% del capital"
   ]
  },
  {
   "cell_type": "markdown",
   "metadata": {},
   "source": [
    "# 6. Calcular recompras"
   ]
  },
  {
   "cell_type": "markdown",
   "metadata": {},
   "source": [
    "# 7. Ejecutar órdenes"
   ]
  }
 ],
 "metadata": {
  "kernelspec": {
   "display_name": "Python 3.9.13 ('venv': venv)",
   "language": "python",
   "name": "python3"
  },
  "language_info": {
   "codemirror_mode": {
    "name": "ipython",
    "version": 3
   },
   "file_extension": ".py",
   "mimetype": "text/x-python",
   "name": "python",
   "nbconvert_exporter": "python",
   "pygments_lexer": "ipython3",
   "version": "3.9.13"
  },
  "orig_nbformat": 4,
  "vscode": {
   "interpreter": {
    "hash": "73b038e3057eba63c5afd5542b93c9885a7bccb39335951f75f5b8d989115f5d"
   }
  }
 },
 "nbformat": 4,
 "nbformat_minor": 2
}
