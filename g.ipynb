{
 "cells": [
  {
   "cell_type": "code",
   "execution_count": 43,
   "metadata": {},
   "outputs": [],
   "source": [
    "from binance.client import Client\n",
    "import pandas as pd\n",
    "import numpy as np\n",
    "import math\n",
    "import time\n",
    "from config import api_key, api_secret\n",
    "from coin_data import data"
   ]
  },
  {
   "cell_type": "code",
   "execution_count": 44,
   "metadata": {},
   "outputs": [],
   "source": [
    "client = Client(api_key=api_key, api_secret= api_secret)\n",
    "ticker = 'MANAUSDT'"
   ]
  },
  {
   "cell_type": "markdown",
   "metadata": {},
   "source": [
    "# 1. Extraer datos de la moneda"
   ]
  },
  {
   "cell_type": "markdown",
   "metadata": {},
   "source": [
    "- Traemos toda la info de todas las monedas de futuros de binance"
   ]
  },
  {
   "cell_type": "code",
   "execution_count": 45,
   "metadata": {},
   "outputs": [],
   "source": [
    "info = client.futures_exchange_info()"
   ]
  },
  {
   "cell_type": "markdown",
   "metadata": {},
   "source": [
    "- Buscamos la moneda que necesitamos\n",
    "- Y extraemos la información que creamos necesaria\n",
    "- Esto lo deberíamos ejecutar 1 sola vez para todas las monedas y guardarlo para solo consultarlo como diccionario y no extraer la información cada vez\n",
    "- Aunque los datos traen la precisión para el precio, en algunas monedas está mal. Por lo tanto, se crea la función que retorna la cantidad de decimales a través de otra propiedad listada"
   ]
  },
  {
   "cell_type": "code",
   "execution_count": 46,
   "metadata": {},
   "outputs": [],
   "source": [
    "def get_precision(texto:str) -> int:\n",
    "    for i in range(2, len(texto)):\n",
    "        if texto[i] == '1':\n",
    "            return i-1"
   ]
  },
  {
   "cell_type": "code",
   "execution_count": 47,
   "metadata": {},
   "outputs": [
    {
     "name": "stdout",
     "output_type": "stream",
     "text": [
      "{'symbol': 'MANAUSDT', 'pair': 'MANAUSDT', 'contractType': 'PERPETUAL', 'deliveryDate': 4133404800000, 'onboardDate': 1615705200000, 'status': 'TRADING', 'maintMarginPercent': '2.5000', 'requiredMarginPercent': '5.0000', 'baseAsset': 'MANA', 'quoteAsset': 'USDT', 'marginAsset': 'USDT', 'pricePrecision': 4, 'quantityPrecision': 0, 'baseAssetPrecision': 8, 'quotePrecision': 8, 'underlyingType': 'COIN', 'underlyingSubType': ['Metaverse'], 'settlePlan': 0, 'triggerProtect': '0.0500', 'liquidationFee': '0.010000', 'marketTakeBound': '0.10', 'filters': [{'minPrice': '0.0136', 'maxPrice': '100000', 'filterType': 'PRICE_FILTER', 'tickSize': '0.0001'}, {'stepSize': '1', 'filterType': 'LOT_SIZE', 'maxQty': '1000000', 'minQty': '1'}, {'stepSize': '1', 'filterType': 'MARKET_LOT_SIZE', 'maxQty': '100000', 'minQty': '1'}, {'limit': 200, 'filterType': 'MAX_NUM_ORDERS'}, {'limit': 10, 'filterType': 'MAX_NUM_ALGO_ORDERS'}, {'notional': '5', 'filterType': 'MIN_NOTIONAL'}, {'multiplierDown': '0.9000', 'multiplierUp': '1.1000', 'multiplierDecimal': '4', 'filterType': 'PERCENT_PRICE'}], 'orderTypes': ['LIMIT', 'MARKET', 'STOP', 'STOP_MARKET', 'TAKE_PROFIT', 'TAKE_PROFIT_MARKET', 'TRAILING_STOP_MARKET'], 'timeInForce': ['GTC', 'IOC', 'FOK', 'GTX']}\n",
      "\n",
      "Moneda: MANAUSDT\n",
      "Subtipo: ['Metaverse']\n",
      "Precisión Precio: 4 decimales\n"
     ]
    }
   ],
   "source": [
    "for d in info['symbols']:\n",
    "    if d['pair']==ticker:\n",
    "        print(d)\n",
    "        print(\"\")\n",
    "        print(f\"Moneda: {d['pair']}\\nSubtipo: {d['underlyingSubType']}\\nPrecisión Precio: {get_precision(d['filters'][0]['tickSize'])} decimales\")\n"
   ]
  },
  {
   "cell_type": "markdown",
   "metadata": {},
   "source": [
    "# 2. Obtener Shock Points"
   ]
  },
  {
   "cell_type": "markdown",
   "metadata": {},
   "source": [
    "# a. Libro de ordenes"
   ]
  },
  {
   "cell_type": "markdown",
   "metadata": {},
   "source": [
    "- Vamos a obtener el libro de órdenes de la moneda\n",
    "- Luego separamos las ventas de las compras y las colocamos en un dataframe para mejor organización\n",
    "- Como nota, lo que trae el libro no es la cantidad total de monedas por bloque sino el total de USDT\n",
    "- En el caso de las ventas, para mostrarlo como lo vemos en Binance (mayor a menor) ordenamis descebdentemente"
   ]
  },
  {
   "cell_type": "code",
   "execution_count": 48,
   "metadata": {},
   "outputs": [],
   "source": [
    "order_book = client.futures_order_book(symbol=ticker, limit=1000)\n",
    "#order_book"
   ]
  },
  {
   "cell_type": "code",
   "execution_count": 49,
   "metadata": {},
   "outputs": [
    {
     "name": "stderr",
     "output_type": "stream",
     "text": [
      "/tmp/ipykernel_893/4237633481.py:2: FutureWarning: In a future version of pandas all arguments of DataFrame.sort_index will be keyword-only.\n",
      "  ventas = pd.DataFrame(ventas, columns=['precio','total_usdt']).sort_index(0, ascending=False)\n"
     ]
    },
    {
     "data": {
      "text/html": [
       "<div>\n",
       "<style scoped>\n",
       "    .dataframe tbody tr th:only-of-type {\n",
       "        vertical-align: middle;\n",
       "    }\n",
       "\n",
       "    .dataframe tbody tr th {\n",
       "        vertical-align: top;\n",
       "    }\n",
       "\n",
       "    .dataframe thead th {\n",
       "        text-align: right;\n",
       "    }\n",
       "</style>\n",
       "<table border=\"1\" class=\"dataframe\">\n",
       "  <thead>\n",
       "    <tr style=\"text-align: right;\">\n",
       "      <th></th>\n",
       "      <th>precio</th>\n",
       "      <th>total_usdt</th>\n",
       "    </tr>\n",
       "  </thead>\n",
       "  <tbody>\n",
       "    <tr>\n",
       "      <th>999</th>\n",
       "      <td>1.1531</td>\n",
       "      <td>13</td>\n",
       "    </tr>\n",
       "    <tr>\n",
       "      <th>998</th>\n",
       "      <td>1.1530</td>\n",
       "      <td>552</td>\n",
       "    </tr>\n",
       "    <tr>\n",
       "      <th>997</th>\n",
       "      <td>1.1525</td>\n",
       "      <td>4950</td>\n",
       "    </tr>\n",
       "    <tr>\n",
       "      <th>996</th>\n",
       "      <td>1.1524</td>\n",
       "      <td>15</td>\n",
       "    </tr>\n",
       "    <tr>\n",
       "      <th>995</th>\n",
       "      <td>1.1522</td>\n",
       "      <td>81</td>\n",
       "    </tr>\n",
       "    <tr>\n",
       "      <th>...</th>\n",
       "      <td>...</td>\n",
       "      <td>...</td>\n",
       "    </tr>\n",
       "    <tr>\n",
       "      <th>4</th>\n",
       "      <td>1.0200</td>\n",
       "      <td>6511</td>\n",
       "    </tr>\n",
       "    <tr>\n",
       "      <th>3</th>\n",
       "      <td>1.0199</td>\n",
       "      <td>6692</td>\n",
       "    </tr>\n",
       "    <tr>\n",
       "      <th>2</th>\n",
       "      <td>1.0198</td>\n",
       "      <td>4046</td>\n",
       "    </tr>\n",
       "    <tr>\n",
       "      <th>1</th>\n",
       "      <td>1.0197</td>\n",
       "      <td>3549</td>\n",
       "    </tr>\n",
       "    <tr>\n",
       "      <th>0</th>\n",
       "      <td>1.0196</td>\n",
       "      <td>241</td>\n",
       "    </tr>\n",
       "  </tbody>\n",
       "</table>\n",
       "<p>1000 rows × 2 columns</p>\n",
       "</div>"
      ],
      "text/plain": [
       "     precio total_usdt\n",
       "999  1.1531         13\n",
       "998  1.1530        552\n",
       "997  1.1525       4950\n",
       "996  1.1524         15\n",
       "995  1.1522         81\n",
       "..      ...        ...\n",
       "4    1.0200       6511\n",
       "3    1.0199       6692\n",
       "2    1.0198       4046\n",
       "1    1.0197       3549\n",
       "0    1.0196        241\n",
       "\n",
       "[1000 rows x 2 columns]"
      ]
     },
     "execution_count": 49,
     "metadata": {},
     "output_type": "execute_result"
    }
   ],
   "source": [
    "ventas = order_book['asks']\n",
    "ventas = pd.DataFrame(ventas, columns=['precio','total_usdt']).sort_index(0, ascending=False)\n",
    "ventas"
   ]
  },
  {
   "cell_type": "code",
   "execution_count": 50,
   "metadata": {},
   "outputs": [
    {
     "data": {
      "text/html": [
       "<div>\n",
       "<style scoped>\n",
       "    .dataframe tbody tr th:only-of-type {\n",
       "        vertical-align: middle;\n",
       "    }\n",
       "\n",
       "    .dataframe tbody tr th {\n",
       "        vertical-align: top;\n",
       "    }\n",
       "\n",
       "    .dataframe thead th {\n",
       "        text-align: right;\n",
       "    }\n",
       "</style>\n",
       "<table border=\"1\" class=\"dataframe\">\n",
       "  <thead>\n",
       "    <tr style=\"text-align: right;\">\n",
       "      <th></th>\n",
       "      <th>precio</th>\n",
       "      <th>total_usdt</th>\n",
       "    </tr>\n",
       "  </thead>\n",
       "  <tbody>\n",
       "    <tr>\n",
       "      <th>0</th>\n",
       "      <td>1.0195</td>\n",
       "      <td>6</td>\n",
       "    </tr>\n",
       "    <tr>\n",
       "      <th>1</th>\n",
       "      <td>1.0194</td>\n",
       "      <td>424</td>\n",
       "    </tr>\n",
       "    <tr>\n",
       "      <th>2</th>\n",
       "      <td>1.0193</td>\n",
       "      <td>695</td>\n",
       "    </tr>\n",
       "    <tr>\n",
       "      <th>3</th>\n",
       "      <td>1.0192</td>\n",
       "      <td>5119</td>\n",
       "    </tr>\n",
       "    <tr>\n",
       "      <th>4</th>\n",
       "      <td>1.0191</td>\n",
       "      <td>7481</td>\n",
       "    </tr>\n",
       "    <tr>\n",
       "      <th>...</th>\n",
       "      <td>...</td>\n",
       "      <td>...</td>\n",
       "    </tr>\n",
       "    <tr>\n",
       "      <th>995</th>\n",
       "      <td>0.9070</td>\n",
       "      <td>1189</td>\n",
       "    </tr>\n",
       "    <tr>\n",
       "      <th>996</th>\n",
       "      <td>0.9069</td>\n",
       "      <td>141</td>\n",
       "    </tr>\n",
       "    <tr>\n",
       "      <th>997</th>\n",
       "      <td>0.9068</td>\n",
       "      <td>7</td>\n",
       "    </tr>\n",
       "    <tr>\n",
       "      <th>998</th>\n",
       "      <td>0.9067</td>\n",
       "      <td>38</td>\n",
       "    </tr>\n",
       "    <tr>\n",
       "      <th>999</th>\n",
       "      <td>0.9066</td>\n",
       "      <td>566</td>\n",
       "    </tr>\n",
       "  </tbody>\n",
       "</table>\n",
       "<p>1000 rows × 2 columns</p>\n",
       "</div>"
      ],
      "text/plain": [
       "     precio total_usdt\n",
       "0    1.0195          6\n",
       "1    1.0194        424\n",
       "2    1.0193        695\n",
       "3    1.0192       5119\n",
       "4    1.0191       7481\n",
       "..      ...        ...\n",
       "995  0.9070       1189\n",
       "996  0.9069        141\n",
       "997  0.9068          7\n",
       "998  0.9067         38\n",
       "999  0.9066        566\n",
       "\n",
       "[1000 rows x 2 columns]"
      ]
     },
     "execution_count": 50,
     "metadata": {},
     "output_type": "execute_result"
    }
   ],
   "source": [
    "compras = order_book['bids']\n",
    "compras = pd.DataFrame(compras, columns=['precio','total_usdt'])\n",
    "compras"
   ]
  },
  {
   "cell_type": "markdown",
   "metadata": {},
   "source": [
    "## b. Obtención de rangos de precios"
   ]
  },
  {
   "cell_type": "markdown",
   "metadata": {},
   "source": [
    "- Para obtener los rangos y obtener los puntos a cómo lo hace el gafas, debemos crear rangos\n",
    "- Para crear los rangos necesitamos el precio mínimo y máximo para redondearlos hacia abajo y arriba respecto a los múltiplos de los libros"
   ]
  },
  {
   "cell_type": "markdown",
   "metadata": {},
   "source": [
    "### i. Obtención de máximos y mínimos precios"
   ]
  },
  {
   "cell_type": "markdown",
   "metadata": {},
   "source": [
    "- Para poder hacer esto, tenemos que decirle al Dataframe qué tipo de valores son las columnas\n",
    "- Esto es porque, como se puede observar a continuación, los marca como object"
   ]
  },
  {
   "cell_type": "code",
   "execution_count": 51,
   "metadata": {},
   "outputs": [
    {
     "name": "stdout",
     "output_type": "stream",
     "text": [
      "<class 'pandas.core.frame.DataFrame'>\n",
      "RangeIndex: 1000 entries, 0 to 999\n",
      "Data columns (total 2 columns):\n",
      " #   Column      Non-Null Count  Dtype \n",
      "---  ------      --------------  ----- \n",
      " 0   precio      1000 non-null   object\n",
      " 1   total_usdt  1000 non-null   object\n",
      "dtypes: object(2)\n",
      "memory usage: 15.8+ KB\n"
     ]
    }
   ],
   "source": [
    "compras.info()"
   ]
  },
  {
   "cell_type": "markdown",
   "metadata": {},
   "source": [
    "- Para modificar el tipo de objetos de las columnas, hacemos:"
   ]
  },
  {
   "cell_type": "code",
   "execution_count": 52,
   "metadata": {},
   "outputs": [
    {
     "data": {
      "text/html": [
       "<div>\n",
       "<style scoped>\n",
       "    .dataframe tbody tr th:only-of-type {\n",
       "        vertical-align: middle;\n",
       "    }\n",
       "\n",
       "    .dataframe tbody tr th {\n",
       "        vertical-align: top;\n",
       "    }\n",
       "\n",
       "    .dataframe thead th {\n",
       "        text-align: right;\n",
       "    }\n",
       "</style>\n",
       "<table border=\"1\" class=\"dataframe\">\n",
       "  <thead>\n",
       "    <tr style=\"text-align: right;\">\n",
       "      <th></th>\n",
       "      <th>precio</th>\n",
       "      <th>total_usdt</th>\n",
       "    </tr>\n",
       "  </thead>\n",
       "  <tbody>\n",
       "    <tr>\n",
       "      <th>999</th>\n",
       "      <td>1.1531</td>\n",
       "      <td>13.0</td>\n",
       "    </tr>\n",
       "    <tr>\n",
       "      <th>998</th>\n",
       "      <td>1.1530</td>\n",
       "      <td>552.0</td>\n",
       "    </tr>\n",
       "    <tr>\n",
       "      <th>997</th>\n",
       "      <td>1.1525</td>\n",
       "      <td>4950.0</td>\n",
       "    </tr>\n",
       "    <tr>\n",
       "      <th>996</th>\n",
       "      <td>1.1524</td>\n",
       "      <td>15.0</td>\n",
       "    </tr>\n",
       "    <tr>\n",
       "      <th>995</th>\n",
       "      <td>1.1522</td>\n",
       "      <td>81.0</td>\n",
       "    </tr>\n",
       "    <tr>\n",
       "      <th>...</th>\n",
       "      <td>...</td>\n",
       "      <td>...</td>\n",
       "    </tr>\n",
       "    <tr>\n",
       "      <th>4</th>\n",
       "      <td>1.0200</td>\n",
       "      <td>6511.0</td>\n",
       "    </tr>\n",
       "    <tr>\n",
       "      <th>3</th>\n",
       "      <td>1.0199</td>\n",
       "      <td>6692.0</td>\n",
       "    </tr>\n",
       "    <tr>\n",
       "      <th>2</th>\n",
       "      <td>1.0198</td>\n",
       "      <td>4046.0</td>\n",
       "    </tr>\n",
       "    <tr>\n",
       "      <th>1</th>\n",
       "      <td>1.0197</td>\n",
       "      <td>3549.0</td>\n",
       "    </tr>\n",
       "    <tr>\n",
       "      <th>0</th>\n",
       "      <td>1.0196</td>\n",
       "      <td>241.0</td>\n",
       "    </tr>\n",
       "  </tbody>\n",
       "</table>\n",
       "<p>1000 rows × 2 columns</p>\n",
       "</div>"
      ],
      "text/plain": [
       "     precio  total_usdt\n",
       "999  1.1531        13.0\n",
       "998  1.1530       552.0\n",
       "997  1.1525      4950.0\n",
       "996  1.1524        15.0\n",
       "995  1.1522        81.0\n",
       "..      ...         ...\n",
       "4    1.0200      6511.0\n",
       "3    1.0199      6692.0\n",
       "2    1.0198      4046.0\n",
       "1    1.0197      3549.0\n",
       "0    1.0196       241.0\n",
       "\n",
       "[1000 rows x 2 columns]"
      ]
     },
     "execution_count": 52,
     "metadata": {},
     "output_type": "execute_result"
    }
   ],
   "source": [
    "ventas[['precio','total_usdt']] = ventas[['precio','total_usdt']].astype('float')\n",
    "ventas"
   ]
  },
  {
   "cell_type": "code",
   "execution_count": 53,
   "metadata": {},
   "outputs": [
    {
     "data": {
      "text/html": [
       "<div>\n",
       "<style scoped>\n",
       "    .dataframe tbody tr th:only-of-type {\n",
       "        vertical-align: middle;\n",
       "    }\n",
       "\n",
       "    .dataframe tbody tr th {\n",
       "        vertical-align: top;\n",
       "    }\n",
       "\n",
       "    .dataframe thead th {\n",
       "        text-align: right;\n",
       "    }\n",
       "</style>\n",
       "<table border=\"1\" class=\"dataframe\">\n",
       "  <thead>\n",
       "    <tr style=\"text-align: right;\">\n",
       "      <th></th>\n",
       "      <th>precio</th>\n",
       "      <th>total_usdt</th>\n",
       "    </tr>\n",
       "  </thead>\n",
       "  <tbody>\n",
       "    <tr>\n",
       "      <th>0</th>\n",
       "      <td>1.0195</td>\n",
       "      <td>6.0</td>\n",
       "    </tr>\n",
       "    <tr>\n",
       "      <th>1</th>\n",
       "      <td>1.0194</td>\n",
       "      <td>424.0</td>\n",
       "    </tr>\n",
       "    <tr>\n",
       "      <th>2</th>\n",
       "      <td>1.0193</td>\n",
       "      <td>695.0</td>\n",
       "    </tr>\n",
       "    <tr>\n",
       "      <th>3</th>\n",
       "      <td>1.0192</td>\n",
       "      <td>5119.0</td>\n",
       "    </tr>\n",
       "    <tr>\n",
       "      <th>4</th>\n",
       "      <td>1.0191</td>\n",
       "      <td>7481.0</td>\n",
       "    </tr>\n",
       "    <tr>\n",
       "      <th>...</th>\n",
       "      <td>...</td>\n",
       "      <td>...</td>\n",
       "    </tr>\n",
       "    <tr>\n",
       "      <th>995</th>\n",
       "      <td>0.9070</td>\n",
       "      <td>1189.0</td>\n",
       "    </tr>\n",
       "    <tr>\n",
       "      <th>996</th>\n",
       "      <td>0.9069</td>\n",
       "      <td>141.0</td>\n",
       "    </tr>\n",
       "    <tr>\n",
       "      <th>997</th>\n",
       "      <td>0.9068</td>\n",
       "      <td>7.0</td>\n",
       "    </tr>\n",
       "    <tr>\n",
       "      <th>998</th>\n",
       "      <td>0.9067</td>\n",
       "      <td>38.0</td>\n",
       "    </tr>\n",
       "    <tr>\n",
       "      <th>999</th>\n",
       "      <td>0.9066</td>\n",
       "      <td>566.0</td>\n",
       "    </tr>\n",
       "  </tbody>\n",
       "</table>\n",
       "<p>1000 rows × 2 columns</p>\n",
       "</div>"
      ],
      "text/plain": [
       "     precio  total_usdt\n",
       "0    1.0195         6.0\n",
       "1    1.0194       424.0\n",
       "2    1.0193       695.0\n",
       "3    1.0192      5119.0\n",
       "4    1.0191      7481.0\n",
       "..      ...         ...\n",
       "995  0.9070      1189.0\n",
       "996  0.9069       141.0\n",
       "997  0.9068         7.0\n",
       "998  0.9067        38.0\n",
       "999  0.9066       566.0\n",
       "\n",
       "[1000 rows x 2 columns]"
      ]
     },
     "execution_count": 53,
     "metadata": {},
     "output_type": "execute_result"
    }
   ],
   "source": [
    "compras[['precio','total_usdt']] = compras[['precio','total_usdt']].astype('float')\n",
    "compras"
   ]
  },
  {
   "cell_type": "markdown",
   "metadata": {},
   "source": [
    "- Ahora sí, obtenemos los máximos y mínimos"
   ]
  },
  {
   "cell_type": "code",
   "execution_count": 54,
   "metadata": {},
   "outputs": [
    {
     "name": "stdout",
     "output_type": "stream",
     "text": [
      "Ventas(mín-máx): 1.0196 - 1.1531\n",
      "Compras(mín-máx): 0.9066 - 1.0195\n"
     ]
    }
   ],
   "source": [
    "max_ventas = ventas['precio'].max()\n",
    "min_ventas = ventas['precio'].min()\n",
    "print('Ventas(mín-máx): {} - {}'.format(min_ventas, max_ventas))\n",
    "\n",
    "max_compras = compras['precio'].max()\n",
    "min_compras = compras['precio'].min()\n",
    "print('Compras(mín-máx): {} - {}'.format(min_compras, max_compras))"
   ]
  },
  {
   "cell_type": "markdown",
   "metadata": {},
   "source": [
    "### ii. Obtención de Dataframes con los Rangos"
   ]
  },
  {
   "cell_type": "markdown",
   "metadata": {},
   "source": [
    "- Para esto, necesitamos tener los múltiplos de las moendas cómo lo hace el gafas\n",
    "- Desafortunadamante, aún no encuentro cómo obtener los múltiplos de binance por lo que toca escribirlos en el archivo coin_data.py\n",
    "- Para obtener el inicio de inicio y final de un rango, hacemos:\n",
    "\n",
    "1. (precio_minimo / multiplo) ; donde el múltiplo es el que obtenemos de coind_data en i1\n",
    "2. Luego redondeamos al entero inferior con math.floor()\n",
    "3. Y multiplicamos por el múltiplo nuevamente para obtener el inicio del rango\n",
    "4. (precio_maximo / multiplo)\n",
    "5. redondeamos hacia el entero superior con math.ceil()\n",
    "6. Y multiplicamos por el múltiplo nuevamente para obtener el máximo del rango"
   ]
  },
  {
   "cell_type": "markdown",
   "metadata": {},
   "source": [
    "#### Obtención de valores iniciales y finales de rango con primer múltiplo"
   ]
  },
  {
   "cell_type": "code",
   "execution_count": 55,
   "metadata": {},
   "outputs": [
    {
     "name": "stdout",
     "output_type": "stream",
     "text": [
      "Rango Ventas: 1.01 - 1.16\n",
      "Rango Compras: 0.9 - 1.02\n"
     ]
    }
   ],
   "source": [
    "# Ventas\n",
    "inicio_rango_ventas_1 = ( math.floor( (min_ventas / data[ticker]['i1']) ) ) * data[ticker]['i1']\n",
    "final_rango_ventas_1 = ( math.ceil( (max_ventas / data[ticker]['i1']) ) ) * data[ticker]['i1']\n",
    "print('Rango Ventas: {} - {}'.format(inicio_rango_ventas_1,final_rango_ventas_1))\n",
    "# Compras\n",
    "inicio_rango_compras_1 = ( math.floor( (min_compras / data[ticker]['i1']) ) ) * data[ticker]['i1']\n",
    "final_rango_compras_1 = ( math.ceil( (max_compras / data[ticker]['i1']) ) ) * data[ticker]['i1']\n",
    "print('Rango Compras: {} - {}'.format(inicio_rango_compras_1,final_rango_compras_1))"
   ]
  },
  {
   "cell_type": "markdown",
   "metadata": {},
   "source": [
    "#### Obtención de valores iniciales y finales de rango con segundo múltiplo"
   ]
  },
  {
   "cell_type": "code",
   "execution_count": 56,
   "metadata": {},
   "outputs": [
    {
     "name": "stdout",
     "output_type": "stream",
     "text": [
      "Rango Ventas: 1.0190000000000001 - 1.154\n",
      "Rango Compras: 0.906 - 1.02\n"
     ]
    }
   ],
   "source": [
    "# Ventas\n",
    "inicio_rango_ventas_2 = ( math.floor( (min_ventas / data[ticker]['i2']) ) ) * data[ticker]['i2']\n",
    "final_rango_ventas_2 = ( math.ceil( (max_ventas / data[ticker]['i2']) ) ) * data[ticker]['i2']\n",
    "print('Rango Ventas: {} - {}'.format(inicio_rango_ventas_2,final_rango_ventas_2))\n",
    "# Compras\n",
    "inicio_rango_compras_2 = ( math.floor( (min_compras / data[ticker]['i2']) ) ) * data[ticker]['i2']\n",
    "final_rango_compras_2 = ( math.ceil( (max_compras / data[ticker]['i2']) ) ) * data[ticker]['i2']\n",
    "print('Rango Compras: {} - {}'.format(inicio_rango_compras_2,final_rango_compras_2))"
   ]
  },
  {
   "cell_type": "markdown",
   "metadata": {},
   "source": [
    "### iii. Obtención de los dataframes agrupados por rangos"
   ]
  },
  {
   "cell_type": "markdown",
   "metadata": {},
   "source": [
    "- Ya que tenemos los valores inicial y final de los rangos, creamos el Dataframe con datos agrupados por rangos\n",
    "- Solo que, antes tenemos que tener un rango con incrementos de acuerdo al múltiplo. Para esto usamos np.arange()"
   ]
  },
  {
   "cell_type": "markdown",
   "metadata": {},
   "source": [
    "- Con múltiplo 1"
   ]
  },
  {
   "cell_type": "code",
   "execution_count": 57,
   "metadata": {},
   "outputs": [
    {
     "name": "stdout",
     "output_type": "stream",
     "text": [
      "Ventas agrupadas segun incremento 1\n",
      "[1.01 1.02 1.03 1.04 1.05 1.06 1.07 1.08 1.09 1.1  1.11 1.12 1.13 1.14\n",
      " 1.15 1.16]\n",
      "                precio  total_usdt\n",
      "precio                            \n",
      "(1.15, 1.16]   12.6708     16908.0\n",
      "(1.14, 1.15]   67.5587     34807.0\n",
      "(1.13, 1.14]   64.7038    287442.0\n",
      "(1.12, 1.13]   70.8710    112394.0\n",
      "(1.11, 1.12]   68.0162     90023.0\n",
      "(1.1, 1.11]    75.1496    120003.0\n",
      "(1.09, 1.1]    75.5578    116536.0\n",
      "(1.08, 1.09]   84.6319     54391.0\n",
      "(1.07, 1.08]   82.7861    114619.0\n",
      "(1.06, 1.07]   88.4056    132931.0\n",
      "(1.05, 1.06]   87.5672    243135.0\n",
      "(1.04, 1.05]   94.0434    386791.0\n",
      "(1.03, 1.04]   99.3564    616840.0\n",
      "(1.02, 1.03]  102.5050    963217.0\n",
      "(1.01, 1.02]    5.0990     21039.0\n",
      "\n",
      "Compras agrupadas segun incremento 1\n",
      "[0.9  0.91 0.92 0.93 0.94 0.95 0.96 0.97 0.98 0.99 1.   1.01 1.02]\n",
      "               precio  total_usdt\n",
      "precio                           \n",
      "(0.9, 0.91]   25.4344     60217.0\n",
      "(0.91, 0.92]  75.0256     79787.0\n",
      "(0.92, 0.93]  79.5494    234898.0\n",
      "(0.93, 0.94]  77.6095    175340.0\n",
      "(0.94, 0.95]  83.1612    190581.0\n",
      "(0.95, 0.96]  82.1410    178958.0\n",
      "(0.96, 0.97]  89.7577    170905.0\n",
      "(0.97, 0.98]  89.6952    273258.0\n",
      "(0.98, 0.99]  87.6726    396093.0\n",
      "(0.99, 1.0]   86.5748    443552.0\n",
      "(1.0, 1.01]   93.4745    704369.0\n",
      "(1.01, 1.02]  94.3795    830084.0\n"
     ]
    }
   ],
   "source": [
    "rango_v_1 = np.arange(inicio_rango_ventas_1, final_rango_ventas_1+data[ticker]['i1'], data[ticker]['i1'])\n",
    "ventas_ag_1 = ventas.groupby(pd.cut(ventas.precio,rango_v_1)).sum()\n",
    "print('Ventas agrupadas segun incremento 1')\n",
    "print(rango_v_1)\n",
    "print(ventas_ag_1.sort_index(ascending=False))\n",
    "rango_c_1 = np.arange(inicio_rango_compras_1, final_rango_compras_1+data[ticker]['i1'], data[ticker]['i1'])\n",
    "compras_ag_1 = compras.groupby(pd.cut(compras.precio,rango_c_1)).sum()\n",
    "print('\\nCompras agrupadas segun incremento 1')\n",
    "print(rango_c_1)\n",
    "print(compras_ag_1.sort_index())"
   ]
  },
  {
   "cell_type": "markdown",
   "metadata": {},
   "source": [
    "- con múltiplo 2"
   ]
  },
  {
   "cell_type": "code",
   "execution_count": 58,
   "metadata": {},
   "outputs": [
    {
     "name": "stdout",
     "output_type": "stream",
     "text": [
      "Ventas agrupadas segun incremento 2\n",
      "                 precio  total_usdt\n",
      "precio                             \n",
      "(1.153, 1.154]   2.3061       565.0\n",
      "(1.152, 1.153]   5.7612      5244.0\n",
      "(1.151, 1.152]   2.3025     10933.0\n",
      "(1.15, 1.151]    3.4510      1713.0\n",
      "(1.149, 1.15]    6.8967       367.0\n",
      "...                 ...         ...\n",
      "(1.023, 1.024]  10.2345    100627.0\n",
      "(1.022, 1.023]  10.2245     73742.0\n",
      "(1.021, 1.022]   9.1935     59904.0\n",
      "(1.02, 1.021]   10.2055     45756.0\n",
      "(1.019, 1.02]    5.0990     21039.0\n",
      "\n",
      "[135 rows x 2 columns]\n",
      "\n",
      "Compras agrupadas segun incremento 2\n",
      "                 precio  total_usdt\n",
      "precio                             \n",
      "(1.019, 1.02]    5.0965     13725.0\n",
      "(1.018, 1.019]  10.1855    108597.0\n",
      "(1.017, 1.018]  10.1755     45941.0\n",
      "(1.016, 1.017]  10.1655    120564.0\n",
      "(1.015, 1.016]  10.1555     62608.0\n",
      "...                 ...         ...\n",
      "(0.91, 0.911]    9.1055      2008.0\n",
      "(0.909, 0.91]    9.0955     45078.0\n",
      "(0.908, 0.909]   5.4515      3401.0\n",
      "(0.907, 0.908]   6.3534      9797.0\n",
      "(0.906, 0.907]   4.5340      1941.0\n",
      "\n",
      "[114 rows x 2 columns]\n"
     ]
    }
   ],
   "source": [
    "rango_v_2 = np.arange(inicio_rango_ventas_2, final_rango_ventas_2+data[ticker]['i2'], data[ticker]['i2'])\n",
    "ventas_ag_2 = ventas.groupby(pd.cut(ventas.precio,rango_v_2)).sum()\n",
    "print('Ventas agrupadas segun incremento 2')\n",
    "#print(rango_v_2)\n",
    "print(ventas_ag_2.sort_index(ascending=False))\n",
    "rango_c_2 = np.arange(inicio_rango_compras_2, final_rango_compras_2+data[ticker]['i2'], data[ticker]['i2'])\n",
    "compras_ag_2 = compras.groupby(pd.cut(compras.precio,rango_c_2)).sum()\n",
    "print('\\nCompras agrupadas segun incremento 2')\n",
    "#print(rango_c_2)\n",
    "print(compras_ag_2.sort_index(ascending=False))"
   ]
  },
  {
   "cell_type": "markdown",
   "metadata": {},
   "source": [
    "#### Obtención de los shock points"
   ]
  },
  {
   "cell_type": "markdown",
   "metadata": {},
   "source": [
    "- Ahora, para obtener los shock point, necesitamos obtener el dato donde el total usdt es máximo\n",
    "- Traer el índice y extraer:\n",
    "    - Para ventas: el lado derecho del intervalo. Porque es la parte superior del intervalo\n",
    "    - Para compras: el lado izquiero del intervalo. Porque es la parte inferior del intervalo"
   ]
  },
  {
   "cell_type": "code",
   "execution_count": 63,
   "metadata": {},
   "outputs": [
    {
     "name": "stdout",
     "output_type": "stream",
     "text": [
      "Ventas:\n",
      "***************\n",
      "2.  1.03\n",
      "1.  1.029\n"
     ]
    }
   ],
   "source": [
    "from numpy import sort\n",
    "\n",
    "\n",
    "sp_v_1 = ventas_ag_1['total_usdt'].idxmax().right\n",
    "#print(sp_v_1)\n",
    "#print(ventas_ag_2)\n",
    "#print(ventas_ag_2['total_usdt'].max())\n",
    "#print(ventas_ag_2['total_usdt'].idxmax())\n",
    "#print(ventas_ag_2['total_usdt'].idxmax())\n",
    "sp_v_2 = ventas_ag_2['total_usdt'].idxmax().right\n",
    "sp_v = []\n",
    "sp_v.append(sp_v_1)\n",
    "sp_v.append(sp_v_2)\n",
    "sp_v = sort(sp_v)\n",
    "sp_v_1 = sp_v[1]\n",
    "sp_v_2 = sp_v[0]\n",
    "print(f'Ventas:\\n***************\\n2.  {sp_v_1}\\n1.  {sp_v_2}')"
   ]
  },
  {
   "cell_type": "code",
   "execution_count": 60,
   "metadata": {},
   "outputs": [
    {
     "name": "stdout",
     "output_type": "stream",
     "text": [
      "Compras:\n",
      "***************\n",
      "1.  1.01\n",
      "2.  0.989\n"
     ]
    }
   ],
   "source": [
    "sp_c_1 = compras_ag_1['total_usdt'].idxmax().left\n",
    "#print(sp_c_1)\n",
    "#print(compras_ag_2)\n",
    "#print(compras_ag_2['total_usdt'].max())\n",
    "#print(compras_ag_2['total_usdt'].idxmax())\n",
    "sp_c_2 = compras_ag_2['total_usdt'].idxmax().left\n",
    "#print(sp_c_2)\n",
    "sp_c = []\n",
    "sp_c.append(sp_c_1)\n",
    "sp_c.append(sp_c_2)\n",
    "sp_c = sort(sp_c)\n",
    "sp_c_1 = sp_c[1]\n",
    "sp_c_2 = sp_c[0]\n",
    "print(f'Compras:\\n***************\\n1.  {sp_c_1}\\n2.  {sp_c_2}')"
   ]
  },
  {
   "cell_type": "markdown",
   "metadata": {},
   "source": [
    "# 3. Analizar Shock Points"
   ]
  },
  {
   "cell_type": "markdown",
   "metadata": {},
   "source": [
    "- El análisis de los puntos se hará de la siguiente manera:\n",
    "    - Para ventas, obtenemos la distancia o porcentaje entre puntos de venta: pct_v = ( (venta_fin - venta_inicio)/venta_din ) * 100\n",
    "    - Para compras, lo calculasmo así: pct_c = ( (compra_inicio - compra_fin)/compra_inicio ) * 100"
   ]
  },
  {
   "cell_type": "code",
   "execution_count": 64,
   "metadata": {},
   "outputs": [
    {
     "name": "stdout",
     "output_type": "stream",
     "text": [
      "Distancia entre ventas: 0.1%\n"
     ]
    }
   ],
   "source": [
    "pct_ventas = round( ( (sp_v_1 - sp_v_2) / sp_v_2 ) * 100, 2 )\n",
    "print(f'Distancia entre ventas: {pct_ventas}%')\n",
    "\n",
    "pct_compras = round( ( (sp_c_1 - sp_c_2) / sp_c_1 ) * 100, 2)"
   ]
  },
  {
   "cell_type": "markdown",
   "metadata": {},
   "source": [
    "# 4. Resultado del Análisis de los Shock Points"
   ]
  },
  {
   "cell_type": "code",
   "execution_count": null,
   "metadata": {},
   "outputs": [],
   "source": []
  },
  {
   "cell_type": "markdown",
   "metadata": {},
   "source": [
    "# 5. Calcular SL y TP"
   ]
  },
  {
   "cell_type": "code",
   "execution_count": null,
   "metadata": {},
   "outputs": [],
   "source": []
  },
  {
   "cell_type": "markdown",
   "metadata": {},
   "source": [
    "# 6. Ejecutar órdenes"
   ]
  }
 ],
 "metadata": {
  "kernelspec": {
   "display_name": "Python 3.9.12 ('py39')",
   "language": "python",
   "name": "python3"
  },
  "language_info": {
   "codemirror_mode": {
    "name": "ipython",
    "version": 3
   },
   "file_extension": ".py",
   "mimetype": "text/x-python",
   "name": "python",
   "nbconvert_exporter": "python",
   "pygments_lexer": "ipython3",
   "version": "3.9.12"
  },
  "orig_nbformat": 4,
  "vscode": {
   "interpreter": {
    "hash": "b40e7b90876e74240c735b187382ca104865a5e3c40967f7fe331ed3e034f350"
   }
  }
 },
 "nbformat": 4,
 "nbformat_minor": 2
}
