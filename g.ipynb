{
 "cells": [
  {
   "cell_type": "code",
   "execution_count": 130,
   "metadata": {},
   "outputs": [],
   "source": [
    "from binance.client import Client\n",
    "import pandas as pd\n",
    "import numpy as np\n",
    "import math\n",
    "import time\n",
    "import statistics\n",
    "from coin_data import data\n",
    "from config import api_key, api_secret\n",
    "import monedas\n",
    "import json"
   ]
  },
  {
   "cell_type": "code",
   "execution_count": 145,
   "metadata": {},
   "outputs": [
    {
     "name": "stdout",
     "output_type": "stream",
     "text": [
      "139\n",
      "<class 'dict'>\n",
      "OPUSDT\n"
     ]
    }
   ],
   "source": [
    "l = []\n",
    "\n",
    "with open(\"./coin_data.json\", \"r\", encoding='utf-8') as f:\n",
    "    d = json.load(f)\n",
    "print(len(d))\n",
    "print(type(d))\n",
    "\n",
    "for k in d.keys():\n",
    "    l.append(k)\n",
    "# aqui extraje los ticker symbols\n",
    "print(l[138])"
   ]
  },
  {
   "cell_type": "code",
   "execution_count": 98,
   "metadata": {},
   "outputs": [
    {
     "name": "stdout",
     "output_type": "stream",
     "text": [
      "{'ROSEUSDT': {'i1': 0.01, 'i2': 0.001, 'minAmntUsd': 5.1, 'price_decimal': 5, 'qty_decimal': 0}, 'MANAUSDT': {'i1': 0.1, 'i2': 0.01, 'minAmntUsd': 5.31, 'price_decimal': 4, 'qty_decimal': 0}, 'ADAUSDT': {'i1': 0.01, 'i2': 0.001, 'minAmntUsd': 5.37, 'price_decimal': 4, 'qty_decimal': 0}, 'BTCUSDT': {'i1': 100, 'i2': 50, 'minAmntUsd': 24, 'price_decimal': 1, 'qty_decimal': 3}, 'MATICUSDT': {'i1': 0.01, 'i2': 0.001, 'minAmntUsd': 5.6, 'price_decimal': 4, 'qty_decimal': 0}, 'ETHUSDT': {'i1': 100, 'i2': 50, 'minAmntUsd': 5.5, 'price_decimal': 2, 'qty_decimal': 3}, 'BCHUSDT': {'i1': 10, 'i2': 1, 'minAmntUsd': 5.1, 'price_decimal': 2, 'qty_decimal': 3}, 'XRPUSDT': {'i1': 0.01, 'i2': 0.001, 'minAmntUsd': 5.1, 'price_decimal': 4, 'qty_decimal': 1}, 'EOSUSDT': {'i1': 0.1, 'i2': 0.01, 'minAmntUsd': 5.1, 'price_decimal': 3, 'qty_decimal': 1}, 'LTCUSDT': {'i1': 1, 'i2': 0.1, 'minAmntUsd': 5.1, 'price_decimal': 2, 'qty_decimal': 3}, 'TRXUSDT': {'i1': 0.001, 'i2': 0.0001, 'minAmntUsd': 5.1, 'price_decimal': 5, 'qty_decimal': 0}, 'ETCUSDT': {'i1': 1, 'i2': 0.1, 'minAmntUsd': 5.5, 'price_decimal': 3, 'qty_decimal': 2}, 'LINKUSDT': {'i1': 0.1, 'i2': 0.01, 'minAmntUsd': 5.1, 'price_decimal': 3, 'qty_decimal': 2}, 'XLMUSDT': {'i1': 0.01, 'i2': 0.001, 'minAmntUsd': 5.005, 'price_decimal': 5, 'qty_decimal': 0}, 'XMRUSDT': {'i1': 10, 'i2': 1, 'minAmntUsd': 5.2, 'price_decimal': 2, 'qty_decimal': 3}, 'DASHUSDT': {'i1': 1, 'i2': 0.1, 'minAmntUsd': 5.1, 'price_decimal': 2, 'qty_decimal': 3}, 'ZECUSDT': {'i1': 1, 'i2': 0.1, 'minAmntUsd': 5.1, 'price_decimal': 2, 'qty_decimal': 3}, 'XTZUSDT': {'i1': 0.1, 'i2': 0.01, 'minAmntUsd': 5.2, 'price_decimal': 3, 'qty_decimal': 1}, 'BNBUSDT': {'i1': 10, 'i2': 1, 'minAmntUsd': 7, 'price_decimal': 2, 'qty_decimal': 2}, 'ATOMUSDT': {'i1': 1, 'i2': 0.1, 'minAmntUsd': 5.1, 'price_decimal': 3, 'qty_decimal': 2}, 'ONTUSDT': {'i1': 0.01, 'i2': 0.001, 'minAmntUsd': 5.005, 'price_decimal': 4, 'qty_decimal': 1}, 'IOTAUSDT': {'i1': 0.01, 'i2': 0.001, 'minAmntUsd': 5.005, 'price_decimal': 4, 'qty_decimal': 1}, 'BATUSDT': {'i1': 0.01, 'i2': 0.001, 'minAmntUsd': 5.05, 'price_decimal': 4, 'qty_decimal': 1}, 'VETUSDT': {'i1': 0.001, 'i2': 0.0001, 'minAmntUsd': 5.01, 'price_decimal': 5, 'qty_decimal': 0}, 'NEOUSDT': {'i1': 1, 'i2': 0.1, 'minAmntUsd': 5.05, 'price_decimal': 3, 'qty_decimal': 2}, 'QTUMUSDT': {'i1': 0.1, 'i2': 0.01, 'minAmntUsd': 5.5, 'price_decimal': 3, 'qty_decimal': 1}, 'IOSTUSDT': {'i1': 0.001, 'i2': 0.0001, 'minAmntUsd': 5.02, 'price_decimal': 6, 'qty_decimal': 0}, 'THETAUSDT': {'i1': 0.1, 'i2': 0.01, 'minAmntUsd': 5.2, 'price_decimal': 3, 'qty_decimal': 1}, 'ALGOUSDT': {'i1': 0.01, 'i2': 0.001, 'minAmntUsd': 5.002, 'price_decimal': 4, 'qty_decimal': 1}, 'ZILUSDT': {'i1': 0.001, 'i2': 0.0001, 'minAmntUsd': 5.05, 'price_decimal': 5, 'qty_decimal': 0}, 'KNCUSDT': {'i1': 0.1, 'i2': 0.01, 'minAmntUsd': 6.5, 'price_decimal': 3, 'qty_decimal': 0}, 'ZRXUSDT': {'i1': 0.01, 'i2': 0.001, 'minAmntUsd': 5.05, 'price_decimal': 4, 'qty_decimal': 1}, 'COMPUSDT': {'i1': 1, 'i2': 0.1, 'minAmntUsd': 5.1, 'price_decimal': 2, 'qty_decimal': 3}, 'OMGUSDT': {'i1': 0.1, 'i2': 0.01, 'minAmntUsd': 5.05, 'price_decimal': 3, 'qty_decimal': 1}, 'DOGEUSDT': {'i1': 0.001, 'i2': 0.0001, 'minAmntUsd': 5.05, 'price_decimal': 5, 'qty_decimal': 0}, 'SXPUSDT': {'i1': 0.01, 'i2': 0.001, 'minAmntUsd': 5.05, 'price_decimal': 4, 'qty_decimal': 1}, 'KAVAUSDT': {'i1': 0.1, 'i2': 0.01, 'minAmntUsd': 5.5, 'price_decimal': 4, 'qty_decimal': 1}, 'BANDUSDT': {'i1': 0.1, 'i2': 0.01, 'minAmntUsd': 5.5, 'price_decimal': 4, 'qty_decimal': 1}, 'RLCUSDT': {'i1': 0.1, 'i2': 0.01, 'minAmntUsd': 5.1, 'price_decimal': 4, 'qty_decimal': 1}, 'WAVESUSDT': {'i1': 0.1, 'i2': 0.01, 'minAmntUsd': 5.5, 'price_decimal': 3, 'qty_decimal': 1}, 'MKRUSDT': {'i1': 100, 'i2': 50, 'minAmntUsd': 6, 'price_decimal': 1, 'qty_decimal': 3}, 'SNXUSDT': {'i1': 0.1, 'i2': 0.01, 'minAmntUsd': 5.5, 'price_decimal': 3, 'qty_decimal': 1}, 'DOTUSDT': {'i1': 0.1, 'i2': 0.01, 'minAmntUsd': 6, 'price_decimal': 3, 'qty_decimal': 1}, 'DEFIUSDT': {'i1': 50, 'i2': 10, 'minAmntUsd': 6, 'price_decimal': 1, 'qty_decimal': 3}, 'YFIUSDT': {'i1': 100, 'i2': 50, 'minAmntUsd': 12, 'price_decimal': 0, 'qty_decimal': 3}, 'BALUSDT': {'i1': 0.1, 'i2': 0.01, 'minAmntUsd': 5.05, 'price_decimal': 3, 'qty_decimal': 1}, 'CRVUSDT': {'i1': 0.1, 'i2': 0.01, 'minAmntUsd': 5.1, 'price_decimal': 3, 'qty_decimal': 1}, 'TRBUSDT': {'i1': 1, 'i2': 0.1, 'minAmntUsd': 8, 'price_decimal': 2, 'qty_decimal': 1}, 'RUNEUSDT': {'i1': 0.1, 'i2': 0.01, 'minAmntUsd': 6, 'price_decimal': 3, 'qty_decimal': 0}, 'SUSHIUSDT': {'i1': 0.1, 'i2': 0.001, 'minAmntUsd': 6.5, 'price_decimal': 3, 'qty_decimal': 0}, 'SRMUSDT': {'i1': 0.1, 'i2': 0.01, 'minAmntUsd': 5.1, 'price_decimal': 3, 'qty_decimal': 0}, 'EGLDUSDT': {'i1': 1, 'i2': 0.1, 'minAmntUsd': 7, 'price_decimal': 2, 'qty_decimal': 1}, 'SOLUSDT': {'i1': 1, 'i2': 0.1, 'minAmntUsd': 42.1, 'price_decimal': 2, 'qty_decimal': 0}, 'ICXUSDT': {'i1': 0.01, 'i2': 0.001, 'minAmntUsd': 5.1, 'price_decimal': 4, 'qty_decimal': 0}, 'STORJUSDT': {'i1': 0.01, 'i2': 0.001, 'minAmntUsd': 6, 'price_decimal': 4, 'qty_decimal': 0}, 'BLZUSDT': {'i1': 0.01, 'i2': 0.001, 'minAmntUsd': 5.1, 'price_decimal': 5, 'qty_decimal': 0}, 'UNIUSDT': {'i1': 0.1, 'i2': 0.01, 'minAmntUsd': 9.5, 'price_decimal': 3, 'qty_decimal': 0}, 'AVAXUSDT': {'i1': 1, 'i2': 0.1, 'minAmntUsd': 30, 'price_decimal': 2, 'qty_decimal': 0}, 'FTMUSDT': {'i1': 0.01, 'i2': 0.001, 'minAmntUsd': 5.5, 'price_decimal': 4, 'qty_decimal': 0}, 'HNTUSDT': {'i1': 0.1, 'i2': 0.01, 'minAmntUsd': 9, 'price_decimal': 3, 'qty_decimal': 0}, 'ENJUSDT': {'i1': 0.01, 'i2': 0.001, 'minAmntUsd': 5.6, 'price_decimal': 4, 'qty_decimal': 0}, 'FLMUSDT': {'i1': 0.01, 'i2': 0.001, 'minAmntUsd': 5.05, 'price_decimal': 4, 'qty_decimal': 0}, 'TOMOUSDT': {'i1': 0.01, 'i2': 0.001, 'minAmntUsd': 5.5, 'price_decimal': 4, 'qty_decimal': 0}, 'RENUSDT': {'i1': 0.01, 'i2': 0.001, 'minAmntUsd': 5.5, 'price_decimal': 4, 'qty_decimal': 0}, 'KSMUSDT': {'i1': 1, 'i2': 0.1, 'minAmntUsd': 6.5, 'price_decimal': 2, 'qty_decimal': 1}, 'NEARUSDT': {'i1': 0.1, 'i2': 0.01, 'minAmntUsd': 6, 'price_decimal': 3, 'qty_decimal': 0}, 'AAVEUSDT': {'i1': 10, 'i2': 1, 'minAmntUsd': 11, 'price_decimal': 2, 'qty_decimal': 1}, 'FILUSDT': {'i1': 0.1, 'i2': 0.01, 'minAmntUsd': 5.1, 'price_decimal': 3, 'qty_decimal': 1}, 'RSRUSDT': {'i1': 0.0001, 'i2': 1e-05, 'minAmntUsd': 5.01, 'price_decimal': 6, 'qty_decimal': 0}, 'LRCUSDT': {'i1': 0.01, 'i2': 0.001, 'minAmntUsd': 5.1, 'price_decimal': 4, 'qty_decimal': 0}, 'OCEANUSDT': {'i1': 0.01, 'i2': 0.001, 'minAmntUsd': 5.05, 'price_decimal': 5, 'qty_decimal': 0}, 'CVCUSDT': {'i1': 0.01, 'i2': 0.001, 'minAmntUsd': 5.05, 'price_decimal': 5, 'qty_decimal': 0}, 'BELUSDT': {'i1': 0.01, 'i2': 0.001, 'minAmntUsd': 5.5, 'price_decimal': 4, 'qty_decimal': 0}, 'CTKUSDT': {'i1': 0.1, 'i2': 0.001, 'minAmntUsd': 5.5, 'price_decimal': 4, 'qty_decimal': 0}, 'AXSUSDT': {'i1': 0, 'i2': 0, 'minAmntUsd': 0, 'price_decimal': 0, 'qty_decimal': 0}, '': {'i1': 0, 'i2': 0, 'minAmntUsd': 0, 'price_decimal': 0, 'qty_decimal': 0}}\n"
     ]
    }
   ],
   "source": [
    "print(data)"
   ]
  },
  {
   "cell_type": "code",
   "execution_count": 99,
   "metadata": {},
   "outputs": [],
   "source": [
    "client = Client(api_key=api_key, api_secret= api_secret)\n",
    "ticker = 'STORJUSDT'"
   ]
  },
  {
   "cell_type": "markdown",
   "metadata": {},
   "source": [
    "# 1. Extraer datos de la moneda"
   ]
  },
  {
   "cell_type": "markdown",
   "metadata": {},
   "source": [
    "- Traemos toda la info de todas las monedas de futuros de binance"
   ]
  },
  {
   "cell_type": "code",
   "execution_count": 100,
   "metadata": {},
   "outputs": [],
   "source": [
    "info = client.futures_exchange_info()"
   ]
  },
  {
   "cell_type": "markdown",
   "metadata": {},
   "source": [
    "- Buscamos la moneda que necesitamos\n",
    "- Y extraemos la información que creamos necesaria\n",
    "- Esto lo deberíamos ejecutar 1 sola vez para todas las monedas y guardarlo para solo consultarlo como diccionario y no extraer la información cada vez\n",
    "- Aunque los datos traen la precisión para el precio, en algunas monedas está mal. Por lo tanto, se crea la función que retorna la cantidad de decimales a través de otra propiedad listada"
   ]
  },
  {
   "cell_type": "code",
   "execution_count": 101,
   "metadata": {},
   "outputs": [],
   "source": [
    "def get_precision(texto:str) -> int:\n",
    "    for i in range(2, len(texto)):\n",
    "        if texto[i] == '1':\n",
    "            return i-1"
   ]
  },
  {
   "cell_type": "code",
   "execution_count": 102,
   "metadata": {},
   "outputs": [
    {
     "name": "stdout",
     "output_type": "stream",
     "text": [
      "{'symbol': 'STORJUSDT', 'pair': 'STORJUSDT', 'contractType': 'PERPETUAL', 'deliveryDate': 4133404800000, 'onboardDate': 1569398400000, 'status': 'TRADING', 'maintMarginPercent': '2.5000', 'requiredMarginPercent': '5.0000', 'baseAsset': 'STORJ', 'quoteAsset': 'USDT', 'marginAsset': 'USDT', 'pricePrecision': 4, 'quantityPrecision': 0, 'baseAssetPrecision': 8, 'quotePrecision': 8, 'underlyingType': 'COIN', 'underlyingSubType': ['Storage'], 'settlePlan': 0, 'triggerProtect': '0.0500', 'liquidationFee': '0.025000', 'marketTakeBound': '0.10', 'filters': [{'minPrice': '0.0190', 'maxPrice': '121', 'filterType': 'PRICE_FILTER', 'tickSize': '0.0001'}, {'stepSize': '1', 'filterType': 'LOT_SIZE', 'maxQty': '10000000', 'minQty': '1'}, {'stepSize': '1', 'filterType': 'MARKET_LOT_SIZE', 'maxQty': '20000', 'minQty': '1'}, {'limit': 200, 'filterType': 'MAX_NUM_ORDERS'}, {'limit': 10, 'filterType': 'MAX_NUM_ALGO_ORDERS'}, {'notional': '5', 'filterType': 'MIN_NOTIONAL'}, {'multiplierDown': '0.9000', 'multiplierUp': '1.1000', 'multiplierDecimal': '4', 'filterType': 'PERCENT_PRICE'}], 'orderTypes': ['LIMIT', 'MARKET', 'STOP', 'STOP_MARKET', 'TAKE_PROFIT', 'TAKE_PROFIT_MARKET', 'TRAILING_STOP_MARKET'], 'timeInForce': ['GTC', 'IOC', 'FOK', 'GTX']}\n",
      "\n",
      "Moneda: STORJUSDT\n",
      "Subtipo: ['Storage']\n",
      "Precisión Precio: 4 decimales\n"
     ]
    }
   ],
   "source": [
    "for d in info['symbols']:\n",
    "    if d['pair']==ticker:\n",
    "        print(d)\n",
    "        print(\"\")\n",
    "        print(f\"Moneda: {d['pair']}\\nSubtipo: {d['underlyingSubType']}\\nPrecisión Precio: {get_precision(d['filters'][0]['tickSize'])} decimales\")\n"
   ]
  },
  {
   "cell_type": "markdown",
   "metadata": {},
   "source": [
    "# 2. Obtener Shock Points"
   ]
  },
  {
   "cell_type": "markdown",
   "metadata": {},
   "source": [
    "# a. Libro de ordenes"
   ]
  },
  {
   "cell_type": "markdown",
   "metadata": {},
   "source": [
    "- Vamos a obtener el libro de órdenes de la moneda\n",
    "- Luego separamos las ventas de las compras y las colocamos en un dataframe para mejor organización\n",
    "- Como nota, lo que trae el libro no es la cantidad total de monedas por bloque sino el total de USDT\n",
    "- En el caso de las ventas, para mostrarlo como lo vemos en Binance (mayor a menor) ordenamis descebdentemente"
   ]
  },
  {
   "cell_type": "code",
   "execution_count": 103,
   "metadata": {},
   "outputs": [],
   "source": [
    "order_book = client.futures_order_book(symbol=ticker, limit=1000)\n",
    "#order_book"
   ]
  },
  {
   "cell_type": "code",
   "execution_count": 104,
   "metadata": {},
   "outputs": [
    {
     "name": "stderr",
     "output_type": "stream",
     "text": [
      "/tmp/ipykernel_697/4237633481.py:2: FutureWarning: In a future version of pandas all arguments of DataFrame.sort_index will be keyword-only.\n",
      "  ventas = pd.DataFrame(ventas, columns=['precio','total_usdt']).sort_index(0, ascending=False)\n"
     ]
    },
    {
     "data": {
      "text/html": [
       "<div>\n",
       "<style scoped>\n",
       "    .dataframe tbody tr th:only-of-type {\n",
       "        vertical-align: middle;\n",
       "    }\n",
       "\n",
       "    .dataframe tbody tr th {\n",
       "        vertical-align: top;\n",
       "    }\n",
       "\n",
       "    .dataframe thead th {\n",
       "        text-align: right;\n",
       "    }\n",
       "</style>\n",
       "<table border=\"1\" class=\"dataframe\">\n",
       "  <thead>\n",
       "    <tr style=\"text-align: right;\">\n",
       "      <th></th>\n",
       "      <th>precio</th>\n",
       "      <th>total_usdt</th>\n",
       "    </tr>\n",
       "  </thead>\n",
       "  <tbody>\n",
       "    <tr>\n",
       "      <th>999</th>\n",
       "      <td>0.9380</td>\n",
       "      <td>4006</td>\n",
       "    </tr>\n",
       "    <tr>\n",
       "      <th>998</th>\n",
       "      <td>0.9379</td>\n",
       "      <td>15</td>\n",
       "    </tr>\n",
       "    <tr>\n",
       "      <th>997</th>\n",
       "      <td>0.9374</td>\n",
       "      <td>22</td>\n",
       "    </tr>\n",
       "    <tr>\n",
       "      <th>996</th>\n",
       "      <td>0.9370</td>\n",
       "      <td>41</td>\n",
       "    </tr>\n",
       "    <tr>\n",
       "      <th>995</th>\n",
       "      <td>0.9369</td>\n",
       "      <td>33</td>\n",
       "    </tr>\n",
       "    <tr>\n",
       "      <th>...</th>\n",
       "      <td>...</td>\n",
       "      <td>...</td>\n",
       "    </tr>\n",
       "    <tr>\n",
       "      <th>4</th>\n",
       "      <td>0.7219</td>\n",
       "      <td>6855</td>\n",
       "    </tr>\n",
       "    <tr>\n",
       "      <th>3</th>\n",
       "      <td>0.7218</td>\n",
       "      <td>2868</td>\n",
       "    </tr>\n",
       "    <tr>\n",
       "      <th>2</th>\n",
       "      <td>0.7217</td>\n",
       "      <td>591</td>\n",
       "    </tr>\n",
       "    <tr>\n",
       "      <th>1</th>\n",
       "      <td>0.7216</td>\n",
       "      <td>297</td>\n",
       "    </tr>\n",
       "    <tr>\n",
       "      <th>0</th>\n",
       "      <td>0.7215</td>\n",
       "      <td>1984</td>\n",
       "    </tr>\n",
       "  </tbody>\n",
       "</table>\n",
       "<p>1000 rows × 2 columns</p>\n",
       "</div>"
      ],
      "text/plain": [
       "     precio total_usdt\n",
       "999  0.9380       4006\n",
       "998  0.9379         15\n",
       "997  0.9374         22\n",
       "996  0.9370         41\n",
       "995  0.9369         33\n",
       "..      ...        ...\n",
       "4    0.7219       6855\n",
       "3    0.7218       2868\n",
       "2    0.7217        591\n",
       "1    0.7216        297\n",
       "0    0.7215       1984\n",
       "\n",
       "[1000 rows x 2 columns]"
      ]
     },
     "execution_count": 104,
     "metadata": {},
     "output_type": "execute_result"
    }
   ],
   "source": [
    "ventas = order_book['asks']\n",
    "ventas = pd.DataFrame(ventas, columns=['precio','total_usdt']).sort_index(0, ascending=False)\n",
    "ventas"
   ]
  },
  {
   "cell_type": "code",
   "execution_count": 105,
   "metadata": {},
   "outputs": [
    {
     "data": {
      "text/html": [
       "<div>\n",
       "<style scoped>\n",
       "    .dataframe tbody tr th:only-of-type {\n",
       "        vertical-align: middle;\n",
       "    }\n",
       "\n",
       "    .dataframe tbody tr th {\n",
       "        vertical-align: top;\n",
       "    }\n",
       "\n",
       "    .dataframe thead th {\n",
       "        text-align: right;\n",
       "    }\n",
       "</style>\n",
       "<table border=\"1\" class=\"dataframe\">\n",
       "  <thead>\n",
       "    <tr style=\"text-align: right;\">\n",
       "      <th></th>\n",
       "      <th>precio</th>\n",
       "      <th>total_usdt</th>\n",
       "    </tr>\n",
       "  </thead>\n",
       "  <tbody>\n",
       "    <tr>\n",
       "      <th>0</th>\n",
       "      <td>0.7212</td>\n",
       "      <td>1038</td>\n",
       "    </tr>\n",
       "    <tr>\n",
       "      <th>1</th>\n",
       "      <td>0.7211</td>\n",
       "      <td>4706</td>\n",
       "    </tr>\n",
       "    <tr>\n",
       "      <th>2</th>\n",
       "      <td>0.7210</td>\n",
       "      <td>2774</td>\n",
       "    </tr>\n",
       "    <tr>\n",
       "      <th>3</th>\n",
       "      <td>0.7209</td>\n",
       "      <td>4372</td>\n",
       "    </tr>\n",
       "    <tr>\n",
       "      <th>4</th>\n",
       "      <td>0.7208</td>\n",
       "      <td>8334</td>\n",
       "    </tr>\n",
       "    <tr>\n",
       "      <th>...</th>\n",
       "      <td>...</td>\n",
       "      <td>...</td>\n",
       "    </tr>\n",
       "    <tr>\n",
       "      <th>995</th>\n",
       "      <td>0.5680</td>\n",
       "      <td>3521</td>\n",
       "    </tr>\n",
       "    <tr>\n",
       "      <th>996</th>\n",
       "      <td>0.5679</td>\n",
       "      <td>18</td>\n",
       "    </tr>\n",
       "    <tr>\n",
       "      <th>997</th>\n",
       "      <td>0.5674</td>\n",
       "      <td>78</td>\n",
       "    </tr>\n",
       "    <tr>\n",
       "      <th>998</th>\n",
       "      <td>0.5673</td>\n",
       "      <td>35</td>\n",
       "    </tr>\n",
       "    <tr>\n",
       "      <th>999</th>\n",
       "      <td>0.5671</td>\n",
       "      <td>6605</td>\n",
       "    </tr>\n",
       "  </tbody>\n",
       "</table>\n",
       "<p>1000 rows × 2 columns</p>\n",
       "</div>"
      ],
      "text/plain": [
       "     precio total_usdt\n",
       "0    0.7212       1038\n",
       "1    0.7211       4706\n",
       "2    0.7210       2774\n",
       "3    0.7209       4372\n",
       "4    0.7208       8334\n",
       "..      ...        ...\n",
       "995  0.5680       3521\n",
       "996  0.5679         18\n",
       "997  0.5674         78\n",
       "998  0.5673         35\n",
       "999  0.5671       6605\n",
       "\n",
       "[1000 rows x 2 columns]"
      ]
     },
     "execution_count": 105,
     "metadata": {},
     "output_type": "execute_result"
    }
   ],
   "source": [
    "compras = order_book['bids']\n",
    "compras = pd.DataFrame(compras, columns=['precio','total_usdt'])\n",
    "compras"
   ]
  },
  {
   "cell_type": "markdown",
   "metadata": {},
   "source": [
    "## b. Obtención de rangos de precios"
   ]
  },
  {
   "cell_type": "markdown",
   "metadata": {},
   "source": [
    "- Para obtener los rangos y obtener los puntos a cómo lo hace el gafas, debemos crear rangos\n",
    "- Para crear los rangos necesitamos el precio mínimo y máximo para redondearlos hacia abajo y arriba respecto a los múltiplos de los libros"
   ]
  },
  {
   "cell_type": "markdown",
   "metadata": {},
   "source": [
    "### i. Obtención de máximos y mínimos precios"
   ]
  },
  {
   "cell_type": "markdown",
   "metadata": {},
   "source": [
    "- Para poder hacer esto, tenemos que decirle al Dataframe qué tipo de valores son las columnas\n",
    "- Esto es porque, como se puede observar a continuación, los marca como object"
   ]
  },
  {
   "cell_type": "code",
   "execution_count": 106,
   "metadata": {},
   "outputs": [
    {
     "name": "stdout",
     "output_type": "stream",
     "text": [
      "<class 'pandas.core.frame.DataFrame'>\n",
      "RangeIndex: 1000 entries, 0 to 999\n",
      "Data columns (total 2 columns):\n",
      " #   Column      Non-Null Count  Dtype \n",
      "---  ------      --------------  ----- \n",
      " 0   precio      1000 non-null   object\n",
      " 1   total_usdt  1000 non-null   object\n",
      "dtypes: object(2)\n",
      "memory usage: 15.8+ KB\n"
     ]
    }
   ],
   "source": [
    "compras.info()"
   ]
  },
  {
   "cell_type": "markdown",
   "metadata": {},
   "source": [
    "- Para modificar el tipo de objetos de las columnas, hacemos:"
   ]
  },
  {
   "cell_type": "code",
   "execution_count": 107,
   "metadata": {},
   "outputs": [
    {
     "data": {
      "text/html": [
       "<div>\n",
       "<style scoped>\n",
       "    .dataframe tbody tr th:only-of-type {\n",
       "        vertical-align: middle;\n",
       "    }\n",
       "\n",
       "    .dataframe tbody tr th {\n",
       "        vertical-align: top;\n",
       "    }\n",
       "\n",
       "    .dataframe thead th {\n",
       "        text-align: right;\n",
       "    }\n",
       "</style>\n",
       "<table border=\"1\" class=\"dataframe\">\n",
       "  <thead>\n",
       "    <tr style=\"text-align: right;\">\n",
       "      <th></th>\n",
       "      <th>precio</th>\n",
       "      <th>total_usdt</th>\n",
       "    </tr>\n",
       "  </thead>\n",
       "  <tbody>\n",
       "    <tr>\n",
       "      <th>999</th>\n",
       "      <td>0.9380</td>\n",
       "      <td>4006.0</td>\n",
       "    </tr>\n",
       "    <tr>\n",
       "      <th>998</th>\n",
       "      <td>0.9379</td>\n",
       "      <td>15.0</td>\n",
       "    </tr>\n",
       "    <tr>\n",
       "      <th>997</th>\n",
       "      <td>0.9374</td>\n",
       "      <td>22.0</td>\n",
       "    </tr>\n",
       "    <tr>\n",
       "      <th>996</th>\n",
       "      <td>0.9370</td>\n",
       "      <td>41.0</td>\n",
       "    </tr>\n",
       "    <tr>\n",
       "      <th>995</th>\n",
       "      <td>0.9369</td>\n",
       "      <td>33.0</td>\n",
       "    </tr>\n",
       "    <tr>\n",
       "      <th>...</th>\n",
       "      <td>...</td>\n",
       "      <td>...</td>\n",
       "    </tr>\n",
       "    <tr>\n",
       "      <th>4</th>\n",
       "      <td>0.7219</td>\n",
       "      <td>6855.0</td>\n",
       "    </tr>\n",
       "    <tr>\n",
       "      <th>3</th>\n",
       "      <td>0.7218</td>\n",
       "      <td>2868.0</td>\n",
       "    </tr>\n",
       "    <tr>\n",
       "      <th>2</th>\n",
       "      <td>0.7217</td>\n",
       "      <td>591.0</td>\n",
       "    </tr>\n",
       "    <tr>\n",
       "      <th>1</th>\n",
       "      <td>0.7216</td>\n",
       "      <td>297.0</td>\n",
       "    </tr>\n",
       "    <tr>\n",
       "      <th>0</th>\n",
       "      <td>0.7215</td>\n",
       "      <td>1984.0</td>\n",
       "    </tr>\n",
       "  </tbody>\n",
       "</table>\n",
       "<p>1000 rows × 2 columns</p>\n",
       "</div>"
      ],
      "text/plain": [
       "     precio  total_usdt\n",
       "999  0.9380      4006.0\n",
       "998  0.9379        15.0\n",
       "997  0.9374        22.0\n",
       "996  0.9370        41.0\n",
       "995  0.9369        33.0\n",
       "..      ...         ...\n",
       "4    0.7219      6855.0\n",
       "3    0.7218      2868.0\n",
       "2    0.7217       591.0\n",
       "1    0.7216       297.0\n",
       "0    0.7215      1984.0\n",
       "\n",
       "[1000 rows x 2 columns]"
      ]
     },
     "execution_count": 107,
     "metadata": {},
     "output_type": "execute_result"
    }
   ],
   "source": [
    "ventas[['precio','total_usdt']] = ventas[['precio','total_usdt']].astype('float')\n",
    "ventas"
   ]
  },
  {
   "cell_type": "code",
   "execution_count": 108,
   "metadata": {},
   "outputs": [
    {
     "data": {
      "text/html": [
       "<div>\n",
       "<style scoped>\n",
       "    .dataframe tbody tr th:only-of-type {\n",
       "        vertical-align: middle;\n",
       "    }\n",
       "\n",
       "    .dataframe tbody tr th {\n",
       "        vertical-align: top;\n",
       "    }\n",
       "\n",
       "    .dataframe thead th {\n",
       "        text-align: right;\n",
       "    }\n",
       "</style>\n",
       "<table border=\"1\" class=\"dataframe\">\n",
       "  <thead>\n",
       "    <tr style=\"text-align: right;\">\n",
       "      <th></th>\n",
       "      <th>precio</th>\n",
       "      <th>total_usdt</th>\n",
       "    </tr>\n",
       "  </thead>\n",
       "  <tbody>\n",
       "    <tr>\n",
       "      <th>0</th>\n",
       "      <td>0.7212</td>\n",
       "      <td>1038.0</td>\n",
       "    </tr>\n",
       "    <tr>\n",
       "      <th>1</th>\n",
       "      <td>0.7211</td>\n",
       "      <td>4706.0</td>\n",
       "    </tr>\n",
       "    <tr>\n",
       "      <th>2</th>\n",
       "      <td>0.7210</td>\n",
       "      <td>2774.0</td>\n",
       "    </tr>\n",
       "    <tr>\n",
       "      <th>3</th>\n",
       "      <td>0.7209</td>\n",
       "      <td>4372.0</td>\n",
       "    </tr>\n",
       "    <tr>\n",
       "      <th>4</th>\n",
       "      <td>0.7208</td>\n",
       "      <td>8334.0</td>\n",
       "    </tr>\n",
       "    <tr>\n",
       "      <th>...</th>\n",
       "      <td>...</td>\n",
       "      <td>...</td>\n",
       "    </tr>\n",
       "    <tr>\n",
       "      <th>995</th>\n",
       "      <td>0.5680</td>\n",
       "      <td>3521.0</td>\n",
       "    </tr>\n",
       "    <tr>\n",
       "      <th>996</th>\n",
       "      <td>0.5679</td>\n",
       "      <td>18.0</td>\n",
       "    </tr>\n",
       "    <tr>\n",
       "      <th>997</th>\n",
       "      <td>0.5674</td>\n",
       "      <td>78.0</td>\n",
       "    </tr>\n",
       "    <tr>\n",
       "      <th>998</th>\n",
       "      <td>0.5673</td>\n",
       "      <td>35.0</td>\n",
       "    </tr>\n",
       "    <tr>\n",
       "      <th>999</th>\n",
       "      <td>0.5671</td>\n",
       "      <td>6605.0</td>\n",
       "    </tr>\n",
       "  </tbody>\n",
       "</table>\n",
       "<p>1000 rows × 2 columns</p>\n",
       "</div>"
      ],
      "text/plain": [
       "     precio  total_usdt\n",
       "0    0.7212      1038.0\n",
       "1    0.7211      4706.0\n",
       "2    0.7210      2774.0\n",
       "3    0.7209      4372.0\n",
       "4    0.7208      8334.0\n",
       "..      ...         ...\n",
       "995  0.5680      3521.0\n",
       "996  0.5679        18.0\n",
       "997  0.5674        78.0\n",
       "998  0.5673        35.0\n",
       "999  0.5671      6605.0\n",
       "\n",
       "[1000 rows x 2 columns]"
      ]
     },
     "execution_count": 108,
     "metadata": {},
     "output_type": "execute_result"
    }
   ],
   "source": [
    "compras[['precio','total_usdt']] = compras[['precio','total_usdt']].astype('float')\n",
    "compras"
   ]
  },
  {
   "cell_type": "markdown",
   "metadata": {},
   "source": [
    "- Ahora sí, obtenemos los máximos y mínimos"
   ]
  },
  {
   "cell_type": "code",
   "execution_count": 109,
   "metadata": {},
   "outputs": [
    {
     "name": "stdout",
     "output_type": "stream",
     "text": [
      "Ventas(mín-máx): 0.7215 - 0.938\n",
      "Compras(mín-máx): 0.5671 - 0.7212\n"
     ]
    }
   ],
   "source": [
    "max_ventas = ventas['precio'].max()\n",
    "min_ventas = ventas['precio'].min()\n",
    "print('Ventas(mín-máx): {} - {}'.format(min_ventas, max_ventas))\n",
    "\n",
    "max_compras = compras['precio'].max()\n",
    "min_compras = compras['precio'].min()\n",
    "print('Compras(mín-máx): {} - {}'.format(min_compras, max_compras))"
   ]
  },
  {
   "cell_type": "markdown",
   "metadata": {},
   "source": [
    "### ii. Obtención de Dataframes con los Rangos"
   ]
  },
  {
   "cell_type": "markdown",
   "metadata": {},
   "source": [
    "- Para esto, necesitamos tener los múltiplos de las moendas cómo lo hace el gafas\n",
    "- Desafortunadamante, aún no encuentro cómo obtener los múltiplos de binance por lo que toca escribirlos en el archivo coin_data.py\n",
    "- Para obtener el inicio de inicio y final de un rango, hacemos:\n",
    "\n",
    "1. (precio_minimo / multiplo) ; donde el múltiplo es el que obtenemos de coind_data en i1\n",
    "2. Luego redondeamos al entero inferior con math.floor()\n",
    "3. Y multiplicamos por el múltiplo nuevamente para obtener el inicio del rango\n",
    "4. (precio_maximo / multiplo)\n",
    "5. redondeamos hacia el entero superior con math.ceil()\n",
    "6. Y multiplicamos por el múltiplo nuevamente para obtener el máximo del rango"
   ]
  },
  {
   "cell_type": "markdown",
   "metadata": {},
   "source": [
    "#### Obtención de valores iniciales y finales de rango con primer múltiplo"
   ]
  },
  {
   "cell_type": "code",
   "execution_count": 110,
   "metadata": {},
   "outputs": [
    {
     "name": "stdout",
     "output_type": "stream",
     "text": [
      "Rango Ventas: 0.72 - 0.9400000000000001\n",
      "Rango Compras: 0.56 - 0.73\n"
     ]
    }
   ],
   "source": [
    "# Ventas\n",
    "inicio_rango_ventas_1 = ( math.floor( (min_ventas / data[ticker]['i1']) ) ) * data[ticker]['i1']\n",
    "final_rango_ventas_1 = ( math.ceil( (max_ventas / data[ticker]['i1']) ) ) * data[ticker]['i1']\n",
    "print('Rango Ventas: {} - {}'.format(inicio_rango_ventas_1,final_rango_ventas_1))\n",
    "# Compras\n",
    "inicio_rango_compras_1 = ( math.floor( (min_compras / data[ticker]['i1']) ) ) * data[ticker]['i1']\n",
    "final_rango_compras_1 = ( math.ceil( (max_compras / data[ticker]['i1']) ) ) * data[ticker]['i1']\n",
    "print('Rango Compras: {} - {}'.format(inicio_rango_compras_1,final_rango_compras_1))"
   ]
  },
  {
   "cell_type": "markdown",
   "metadata": {},
   "source": [
    "#### Obtención de valores iniciales y finales de rango con segundo múltiplo"
   ]
  },
  {
   "cell_type": "code",
   "execution_count": 111,
   "metadata": {},
   "outputs": [
    {
     "name": "stdout",
     "output_type": "stream",
     "text": [
      "Rango Ventas: 0.721 - 0.9380000000000001\n",
      "Rango Compras: 0.5670000000000001 - 0.722\n"
     ]
    }
   ],
   "source": [
    "# Ventas\n",
    "inicio_rango_ventas_2 = ( math.floor( (min_ventas / data[ticker]['i2']) ) ) * data[ticker]['i2']\n",
    "final_rango_ventas_2 = ( math.ceil( (max_ventas / data[ticker]['i2']) ) ) * data[ticker]['i2']\n",
    "print('Rango Ventas: {} - {}'.format(inicio_rango_ventas_2,final_rango_ventas_2))\n",
    "# Compras\n",
    "inicio_rango_compras_2 = ( math.floor( (min_compras / data[ticker]['i2']) ) ) * data[ticker]['i2']\n",
    "final_rango_compras_2 = ( math.ceil( (max_compras / data[ticker]['i2']) ) ) * data[ticker]['i2']\n",
    "print('Rango Compras: {} - {}'.format(inicio_rango_compras_2,final_rango_compras_2))"
   ]
  },
  {
   "cell_type": "markdown",
   "metadata": {},
   "source": [
    "### iii. Obtención de los dataframes agrupados por rangos"
   ]
  },
  {
   "cell_type": "markdown",
   "metadata": {},
   "source": [
    "- Ya que tenemos los valores inicial y final de los rangos, creamos el Dataframe con datos agrupados por rangos\n",
    "- Solo que, antes tenemos que tener un rango con incrementos de acuerdo al múltiplo. Para esto usamos np.arange()"
   ]
  },
  {
   "cell_type": "markdown",
   "metadata": {},
   "source": [
    "- Con múltiplo 1"
   ]
  },
  {
   "cell_type": "code",
   "execution_count": 112,
   "metadata": {},
   "outputs": [
    {
     "name": "stdout",
     "output_type": "stream",
     "text": [
      "Ventas agrupadas segun incremento 1\n",
      "[0.72 0.73 0.74 0.75 0.76 0.77 0.78 0.79 0.8  0.81 0.82 0.83 0.84 0.85\n",
      " 0.86 0.87 0.88 0.89 0.9  0.91 0.92 0.93 0.94 0.95]\n",
      "               precio  total_usdt\n",
      "precio                           \n",
      "(0.94, 0.95]   0.0000         0.0\n",
      "(0.93, 0.94]  21.4834     15834.0\n",
      "(0.92, 0.93]  17.5730     34585.0\n",
      "(0.91, 0.92]  26.5319     17016.0\n",
      "(0.9, 0.91]   17.2068     29510.0\n",
      "(0.89, 0.9]   25.9795     26538.0\n",
      "(0.88, 0.89]  23.0377     15182.0\n",
      "(0.87, 0.88]  23.6375     26775.0\n",
      "(0.86, 0.87]  20.7731     19326.0\n",
      "(0.85, 0.86]  23.0845     16875.0\n",
      "(0.84, 0.85]  33.8314    468117.0\n",
      "(0.83, 0.84]  33.4043    456408.0\n",
      "(0.82, 0.83]  33.0142     47969.0\n",
      "(0.81, 0.82]  26.9150     54250.0\n",
      "(0.8, 0.81]   44.2810     56566.0\n",
      "(0.79, 0.8]   47.7213     58022.0\n",
      "(0.78, 0.79]  49.4612    117567.0\n",
      "(0.77, 0.78]  48.8385    154976.0\n",
      "(0.76, 0.77]  51.2460    185020.0\n",
      "(0.75, 0.76]  58.1281    162094.0\n",
      "(0.74, 0.75]  58.0902    350951.0\n",
      "(0.73, 0.74]  57.3374    224832.0\n",
      "(0.72, 0.73]  60.2322    598243.0\n",
      "\n",
      "Compras agrupadas segun incremento 1\n",
      "[0.56 0.57 0.58 0.59 0.6  0.61 0.62 0.63 0.64 0.65 0.66 0.67 0.68 0.69\n",
      " 0.7  0.71 0.72 0.73]\n",
      "               precio  total_usdt\n",
      "precio                           \n",
      "(0.56, 0.57]   9.6650     25194.0\n",
      "(0.57, 0.58]  21.2877     37429.0\n",
      "(0.58, 0.59]  28.6755    104504.0\n",
      "(0.59, 0.6]   26.7791    110477.0\n",
      "(0.6, 0.61]   27.2222     62773.0\n",
      "(0.61, 0.62]  30.1413     96339.0\n",
      "(0.62, 0.63]  39.3710    814464.0\n",
      "(0.63, 0.64]  37.4751    105779.0\n",
      "(0.64, 0.65]  43.2215    226178.0\n",
      "(0.65, 0.66]  45.8538     81286.0\n",
      "(0.66, 0.67]  49.8765    137756.0\n",
      "(0.67, 0.68]  45.9076    118691.0\n",
      "(0.68, 0.69]  52.7510    164345.0\n",
      "(0.69, 0.7]   55.5981    202424.0\n",
      "(0.7, 0.71]   62.7527    340325.0\n",
      "(0.71, 0.72]  70.0821    785845.0\n",
      "(0.72, 0.73]   8.6478     64005.0\n"
     ]
    }
   ],
   "source": [
    "rango_v_1 = np.arange(inicio_rango_ventas_1, final_rango_ventas_1+data[ticker]['i1'], data[ticker]['i1'])\n",
    "ventas_ag_1 = ventas.groupby(pd.cut(ventas.precio,rango_v_1)).sum()\n",
    "print('Ventas agrupadas segun incremento 1')\n",
    "print(rango_v_1)\n",
    "print(ventas_ag_1.sort_index(ascending=False))\n",
    "rango_c_1 = np.arange(inicio_rango_compras_1, final_rango_compras_1+data[ticker]['i1'], data[ticker]['i1'])\n",
    "compras_ag_1 = compras.groupby(pd.cut(compras.precio,rango_c_1)).sum()\n",
    "print('\\nCompras agrupadas segun incremento 1')\n",
    "print(rango_c_1)\n",
    "print(compras_ag_1.sort_index())"
   ]
  },
  {
   "cell_type": "markdown",
   "metadata": {},
   "source": [
    "- con múltiplo 2"
   ]
  },
  {
   "cell_type": "code",
   "execution_count": 113,
   "metadata": {},
   "outputs": [
    {
     "name": "stdout",
     "output_type": "stream",
     "text": [
      "Ventas agrupadas segun incremento 2\n",
      "                precio  total_usdt\n",
      "precio                            \n",
      "(0.938, 0.939]  0.0000         0.0\n",
      "(0.937, 0.938]  2.8133      4043.0\n",
      "(0.936, 0.937]  2.8104        85.0\n",
      "(0.935, 0.936]  1.8710        34.0\n",
      "(0.934, 0.935]  1.8691        75.0\n",
      "...                ...         ...\n",
      "(0.725, 0.726]  6.5297     53152.0\n",
      "(0.724, 0.725]  7.2455    132443.0\n",
      "(0.723, 0.724]  7.2355    124190.0\n",
      "(0.722, 0.723]  7.2255     71020.0\n",
      "(0.721, 0.722]  4.3305     16607.0\n",
      "\n",
      "[218 rows x 2 columns]\n",
      "\n",
      "Compras agrupadas segun incremento 2\n",
      "                precio  total_usdt\n",
      "precio                            \n",
      "(0.721, 0.722]  1.4423      5744.0\n",
      "(0.72, 0.721]   7.2055     58261.0\n",
      "(0.719, 0.72]   7.1955    100610.0\n",
      "(0.718, 0.719]  7.1855    111700.0\n",
      "(0.717, 0.718]  7.1755    117556.0\n",
      "...                ...         ...\n",
      "(0.571, 0.572]  1.7152       167.0\n",
      "(0.57, 0.571]   1.7114      5483.0\n",
      "(0.569, 0.57]   2.8478     14248.0\n",
      "(0.568, 0.569]  3.9795       689.0\n",
      "(0.567, 0.568]  2.8377     10257.0\n",
      "\n",
      "[155 rows x 2 columns]\n"
     ]
    }
   ],
   "source": [
    "rango_v_2 = np.arange(inicio_rango_ventas_2, final_rango_ventas_2+data[ticker]['i2'], data[ticker]['i2'])\n",
    "ventas_ag_2 = ventas.groupby(pd.cut(ventas.precio,rango_v_2)).sum()\n",
    "print('Ventas agrupadas segun incremento 2')\n",
    "#print(rango_v_2)\n",
    "print(ventas_ag_2.sort_index(ascending=False))\n",
    "rango_c_2 = np.arange(inicio_rango_compras_2, final_rango_compras_2+data[ticker]['i2'], data[ticker]['i2'])\n",
    "compras_ag_2 = compras.groupby(pd.cut(compras.precio,rango_c_2)).sum()\n",
    "print('\\nCompras agrupadas segun incremento 2')\n",
    "#print(rango_c_2)\n",
    "print(compras_ag_2.sort_index(ascending=False))"
   ]
  },
  {
   "cell_type": "markdown",
   "metadata": {},
   "source": [
    "#### Obtención de los shock points"
   ]
  },
  {
   "cell_type": "markdown",
   "metadata": {},
   "source": [
    "- Ahora, para obtener los shock point, necesitamos obtener el dato donde el total usdt es máximo\n",
    "- Traer el índice y extraer:\n",
    "    - Para ventas: el lado derecho del intervalo. Porque es la parte superior del intervalo\n",
    "    - Para compras: el lado izquiero del intervalo. Porque es la parte inferior del intervalo"
   ]
  },
  {
   "cell_type": "code",
   "execution_count": 114,
   "metadata": {},
   "outputs": [
    {
     "name": "stdout",
     "output_type": "stream",
     "text": [
      "Ventas:\n",
      "***************\n",
      "2.  0.845\n",
      "1.  0.73\n"
     ]
    }
   ],
   "source": [
    "from numpy import sort\n",
    "\n",
    "\n",
    "sp_v_1 = ventas_ag_1['total_usdt'].idxmax().right\n",
    "#print(sp_v_1)\n",
    "#print(ventas_ag_2)\n",
    "#print(ventas_ag_2['total_usdt'].max())\n",
    "#print(ventas_ag_2['total_usdt'].idxmax())\n",
    "#print(ventas_ag_2['total_usdt'].idxmax())\n",
    "sp_v_2 = ventas_ag_2['total_usdt'].idxmax().right\n",
    "sp_v = []\n",
    "sp_v.append(sp_v_1)\n",
    "sp_v.append(sp_v_2)\n",
    "sp_v = sort(sp_v)\n",
    "sp_v_1 = sp_v[1]\n",
    "sp_v_2 = sp_v[0]\n",
    "print(f'Ventas:\\n***************\\n2.  {sp_v_1}\\n1.  {sp_v_2}')"
   ]
  },
  {
   "cell_type": "code",
   "execution_count": 115,
   "metadata": {},
   "outputs": [
    {
     "name": "stdout",
     "output_type": "stream",
     "text": [
      "Compras:\n",
      "***************\n",
      "1.  0.62\n",
      "2.  0.62\n"
     ]
    }
   ],
   "source": [
    "sp_c_1 = compras_ag_1['total_usdt'].idxmax().left\n",
    "#print(sp_c_1)\n",
    "#print(compras_ag_2)\n",
    "#print(compras_ag_2['total_usdt'].max())\n",
    "#print(compras_ag_2['total_usdt'].idxmax())\n",
    "sp_c_2 = compras_ag_2['total_usdt'].idxmax().left\n",
    "#print(sp_c_2)\n",
    "sp_c = []\n",
    "sp_c.append(sp_c_1)\n",
    "sp_c.append(sp_c_2)\n",
    "sp_c = sort(sp_c)\n",
    "sp_c_1 = sp_c[1]\n",
    "sp_c_2 = sp_c[0]\n",
    "print(f'Compras:\\n***************\\n1.  {sp_c_1}\\n2.  {sp_c_2}')"
   ]
  },
  {
   "cell_type": "markdown",
   "metadata": {},
   "source": [
    "# 3. Analizar Shock Points"
   ]
  },
  {
   "cell_type": "markdown",
   "metadata": {},
   "source": [
    "- El análisis de los puntos se hará de la siguiente manera:\n",
    "    - Para ventas, obtenemos la distancia o porcentaje entre puntos de venta: pct_v = ( (venta_fin - venta_inicio)/venta_din ) * 100\n",
    "    - Para compras, lo calculasmo así: pct_c = ( (compra_inicio - compra_fin)/compra_inicio ) * 100\n",
    "- Luego, debemos obtener la distancia entre el primer punto de venta y de compras, en este caso tenemos una ligera variación por lo que obtendremos el promedio. \n",
    "    - (1)=  (compras_inicio - ventas_inicio)/compras_inicio ) * -100\n",
    "    - (2)=  (ventas_inicio - compras_inicio)/ventas_inicio ) * 100\n",
    "    - pct_sep = promedio(1,2)"
   ]
  },
  {
   "cell_type": "code",
   "execution_count": 124,
   "metadata": {},
   "outputs": [
    {
     "name": "stdout",
     "output_type": "stream",
     "text": [
      "Distancia entre ventas: 15.75%\n",
      "Distancia entre compraas: 0.0%\n",
      "0.62 ,  0.62\n",
      "Porcentaje entre compra y venta: 16.41%\n"
     ]
    }
   ],
   "source": [
    "pct_ventas = round( ( (sp_v_1 - sp_v_2) / sp_v_2 ) * 100, 2 )\n",
    "print(f'Distancia entre ventas: {pct_ventas}%')\n",
    "\n",
    "pct_compras = round( ( (sp_c_1 - sp_c_2) / sp_c_1 ) * 100, 2)\n",
    "print(f'Distancia entre compraas: {pct_compras}%')\n",
    "print(sp_c_1, ', ',sp_c_2)\n",
    "pct_sep_1 = (( (sp_c_1 - sp_v_2) / sp_c_1 ) * -100)\n",
    "pct_sep_2 = ((sp_v_2 - sp_c_1) / sp_v_2 ) * 100\n",
    "pct_sep = round((pct_sep_1+pct_sep_2)/2,2)\n",
    "print(f'Porcentaje entre compra y venta: {pct_sep}%')"
   ]
  },
  {
   "cell_type": "markdown",
   "metadata": {},
   "source": [
    "# 4. Resultado del Análisis de los Shock Points"
   ]
  },
  {
   "cell_type": "markdown",
   "metadata": {},
   "source": [
    "- Una vez que tenemos las distancias, procedemos a comparar lo siguiente:\n",
    "    - Para compras:\n",
    "        - Distancia entre compra y venta debe ser mayor a la distancia entre compras por 2.5 o más veces\n",
    "    - Para ventas:\n",
    "        - - Distancia entre compra y venta debe ser mayor a la distancia entre ventas por 2.5 o más veces\n",
    "- Si se cumplen esas condiciones enviamos señal para compra y/o venta\n",
    "- Una nota aquí es que, a la distancia entre ventas o entre compras, habría que aumentarle la distancia entre el segundo shock_point y el SL"
   ]
  },
  {
   "cell_type": "code",
   "execution_count": 123,
   "metadata": {},
   "outputs": [
    {
     "name": "stdout",
     "output_type": "stream",
     "text": [
      "16.41\n",
      "0.0\n",
      "Se puede comprar en STORJUSDT\n"
     ]
    },
    {
     "name": "stderr",
     "output_type": "stream",
     "text": [
      "/tmp/ipykernel_697/3740063611.py:11: RuntimeWarning: divide by zero encountered in double_scalars\n",
      "  if (pct_sep/pct_compras) >= ratio: # Aquí es pct_sep/(pct_compras+SL)\n"
     ]
    }
   ],
   "source": [
    "ratio = 2.5\n",
    "flag_compra = False\n",
    "flag_venta = False\n",
    "\n",
    "print(pct_sep)\n",
    "print(pct_compras)\n",
    "\n",
    "if (pct_sep/pct_ventas) >= ratio: # Aquí es pct_sep/(pct_ventas+SL)\n",
    "    print(f'Se puede vender en {ticker}')\n",
    "    flag_venta = True\n",
    "if (pct_sep/pct_compras) >= ratio: # Aquí es pct_sep/(pct_compras+SL)\n",
    "    print(f'Se puede comprar en {ticker}')\n",
    "    flag_compra = True\n",
    "if not flag_compra and not flag_venta:\n",
    "    print('Nada que hacer, sigue buscando')\n"
   ]
  },
  {
   "cell_type": "markdown",
   "metadata": {},
   "source": [
    "# 5. Calcular SL, TP y Recompras"
   ]
  },
  {
   "cell_type": "markdown",
   "metadata": {},
   "source": [
    "- En el caso que sí se habilite alguna operación debemos tener una gestión por moneda dentro del archivo coin_data para determinar qué tanta separación entre el segundo shock point y nuestro SL debe haber\n",
    "- Esto lo veremos de acuerdo a nuestro análisis de nuestras monedas teniendo uno por default o uno por moneda"
   ]
  },
  {
   "cell_type": "markdown",
   "metadata": {},
   "source": [
    "## Entrada"
   ]
  },
  {
   "cell_type": "code",
   "execution_count": 118,
   "metadata": {},
   "outputs": [
    {
     "name": "stdout",
     "output_type": "stream",
     "text": [
      "Entrada Compra:\t$0.62\n"
     ]
    }
   ],
   "source": [
    "if flag_venta:\n",
    "    print(f'Entrada Venta:\\t${sp_v_2}')\n",
    "\n",
    "if flag_compra:\n",
    "    print(f'Entrada Compra:\\t${sp_c_1}')"
   ]
  },
  {
   "cell_type": "markdown",
   "metadata": {},
   "source": [
    "## SL"
   ]
  },
  {
   "cell_type": "markdown",
   "metadata": {},
   "source": [
    "- Primero debemos traer el balance de nuestra cuenta de futuros"
   ]
  },
  {
   "cell_type": "code",
   "execution_count": 119,
   "metadata": {},
   "outputs": [],
   "source": [
    "import os"
   ]
  },
  {
   "cell_type": "code",
   "execution_count": 120,
   "metadata": {},
   "outputs": [],
   "source": [
    "#x = 0\n",
    "# while True:\n",
    "#    if x < 100:\n",
    "#        actual_price = client.futures_mark_price(symbol=ticker)\n",
    "#        os.system('clear')\n",
    "#        print('Precio actual {}'.format(actual_price))\n",
    "#        x += 1\n"
   ]
  },
  {
   "cell_type": "markdown",
   "metadata": {},
   "source": [
    "## Recompras / Reventas"
   ]
  },
  {
   "cell_type": "markdown",
   "metadata": {},
   "source": [
    "- Para las recompras usaremos la misma configuración del gafas:\n",
    "    - Compras a cada 2%\n",
    "    - Comprando el 40% de las monedas que esten al momento\n",
    "    - SL del 10% del capital"
   ]
  },
  {
   "cell_type": "markdown",
   "metadata": {},
   "source": [
    "# 6. Calcular recompras"
   ]
  },
  {
   "cell_type": "markdown",
   "metadata": {},
   "source": [
    "# 7. Ejecutar órdenes"
   ]
  }
 ],
 "metadata": {
  "kernelspec": {
   "display_name": "Python 3.9.13 ('venv': venv)",
   "language": "python",
   "name": "python3"
  },
  "language_info": {
   "codemirror_mode": {
    "name": "ipython",
    "version": 3
   },
   "file_extension": ".py",
   "mimetype": "text/x-python",
   "name": "python",
   "nbconvert_exporter": "python",
   "pygments_lexer": "ipython3",
   "version": "3.9.13"
  },
  "orig_nbformat": 4,
  "vscode": {
   "interpreter": {
    "hash": "73b038e3057eba63c5afd5542b93c9885a7bccb39335951f75f5b8d989115f5d"
   }
  }
 },
 "nbformat": 4,
 "nbformat_minor": 2
}
